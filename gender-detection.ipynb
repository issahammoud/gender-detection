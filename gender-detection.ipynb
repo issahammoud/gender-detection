{
 "cells": [
  {
   "cell_type": "markdown",
   "metadata": {},
   "source": [
    "# Imports"
   ]
  },
  {
   "cell_type": "code",
   "execution_count": 24,
   "metadata": {},
   "outputs": [],
   "source": [
    "import os\n",
    "import re\n",
    "import nltk\n",
    "import zipfile\n",
    "import numpy as np\n",
    "import pandas as pd\n",
    "from sklearn.model_selection import StratifiedShuffleSplit\n",
    "from sklearn.metrics import precision_recall_fscore_support\n",
    "from keras.preprocessing.text import Tokenizer\n",
    "from keras.preprocessing.sequence import pad_sequences\n",
    "from keras.layers  import Embedding\n",
    "from keras.models import Sequential\n",
    "from keras.layers import Flatten, Dense\n",
    "from keras import layers\n",
    "from keras import preprocessing"
   ]
  },
  {
   "cell_type": "code",
   "execution_count": 2,
   "metadata": {},
   "outputs": [],
   "source": [
    "os.environ[\"CUDA_VISIBLE_DEVICES\"]=\"0\""
   ]
  },
  {
   "cell_type": "markdown",
   "metadata": {},
   "source": [
    "# Download and extract the data"
   ]
  },
  {
   "cell_type": "code",
   "execution_count": 3,
   "metadata": {},
   "outputs": [],
   "source": [
    "if('blogs.zip' not in os.listdir()):\n",
    "    !curl 'http://u.cs.biu.ac.il/~koppel/blogs/blogs.zip' -H 'Connection: keep-alive' -H 'Upgrade-Insecure-Requests: 1' -H 'User-Agent: Mozilla/5.0 (X11; Linux x86_64) AppleWebKit/537.36 (KHTML, like Gecko) Chrome/70.0.3538.77 Safari/537.36' -H 'Accept: text/html,application/xhtml+xml,application/xml;q=0.9,image/webp,image/apng,*/*;q=0.8' -H 'Referer: http://u.cs.biu.ac.il/~koppel/BlogCorpus.htm' -H 'Accept-Encoding: gzip, deflate' -H 'Accept-Language: en-US,en;q=0.9' --compressed --output blogs.zip\n",
    "    with zipfile.ZipFile('blogs.zip', 'r') as zip_ref:\n",
    "        zip_ref.extractall('./')"
   ]
  },
  {
   "cell_type": "markdown",
   "metadata": {},
   "source": [
    "# Data cleaning and exploration"
   ]
  },
  {
   "cell_type": "code",
   "execution_count": 4,
   "metadata": {},
   "outputs": [
    {
     "name": "stdout",
     "output_type": "stream",
     "text": [
      "There are 19320 bloggers\n"
     ]
    }
   ],
   "source": [
    "bloggers = os.listdir('blogs/')\n",
    "print(\"There are {} bloggers\".format(len(bloggers)))"
   ]
  },
  {
   "cell_type": "code",
   "execution_count": 5,
   "metadata": {},
   "outputs": [
    {
     "name": "stdout",
     "output_type": "stream",
     "text": [
      "The set of tags in the xml files are: {'<Blog>', '<date>', '<post>'}\n"
     ]
    }
   ],
   "source": [
    "path = 'blogs/'\n",
    "\n",
    "f = open(path+bloggers[0],'r',encoding=\"utf-8\")\n",
    "\n",
    "xml = f.read()\n",
    "\n",
    "tags = set()\n",
    "l = re.findall('<[^/].*?>',xml)\n",
    "for el in l:\n",
    "    tags.add(el)\n",
    "print(\"The set of tags in the xml files are: {}\".format(tags))"
   ]
  },
  {
   "cell_type": "code",
   "execution_count": 6,
   "metadata": {},
   "outputs": [],
   "source": [
    "def data_2_frame(bloggers, sw = True):\n",
    "    \n",
    "    idx = []\n",
    "    gender = []\n",
    "    age = []\n",
    "    industry = []\n",
    "    astrologic = []\n",
    "    dates = []\n",
    "    posts = []\n",
    "    \n",
    "    stop_words = nltk.corpus.stopwords.words(\"english\")\n",
    "    \n",
    "    for blogger in bloggers:\n",
    "\n",
    "        try:\n",
    "\n",
    "            f = open(path+blogger,'r',encoding=\"utf-8\")\n",
    "            xml = f.read()\n",
    "\n",
    "        except UnicodeDecodeError:\n",
    "\n",
    "            f = open(path+blogger,'r',encoding=\"latin-1\")\n",
    "            xml = f.read()\n",
    "        \n",
    "        if(sw):\n",
    "            xml = re.sub(r'\\b(' + r'|'.join(stop_words) + r')\\b\\s*','', xml)\n",
    "            \n",
    "        temp = re.findall('<post.*?>(.*?)</post>',xml,flags=re.DOTALL)\n",
    "        \n",
    "        posts += temp\n",
    "        \n",
    "        dates += re.findall('<date.*?>(.*?)</date>',xml,flags=re.DOTALL)\n",
    "\n",
    "        nb_posts = len(temp)\n",
    "\n",
    "        tmp = blogger.split(\".\")\n",
    "\n",
    "        idx        += [tmp[0]]*nb_posts\n",
    "        gender     += [tmp[1]]*nb_posts\n",
    "        age        += [tmp[2]]*nb_posts\n",
    "        industry   += [tmp[3]]*nb_posts\n",
    "        astrologic += [tmp[4]]*nb_posts\n",
    "    \n",
    "    \n",
    "    dico = {'id':idx,\n",
    "        'gender':gender,\n",
    "        'age':age,\n",
    "        'industry':industry,\n",
    "        'astrologic':astrologic,\n",
    "        'post':posts,\n",
    "        'date':dates}\n",
    "\n",
    "    return pd.DataFrame.from_dict(dico)"
   ]
  },
  {
   "cell_type": "code",
   "execution_count": 7,
   "metadata": {},
   "outputs": [],
   "source": [
    "data = data_2_frame(bloggers,True)"
   ]
  },
  {
   "cell_type": "code",
   "execution_count": 8,
   "metadata": {},
   "outputs": [
    {
     "data": {
      "text/html": [
       "<div>\n",
       "<style scoped>\n",
       "    .dataframe tbody tr th:only-of-type {\n",
       "        vertical-align: middle;\n",
       "    }\n",
       "\n",
       "    .dataframe tbody tr th {\n",
       "        vertical-align: top;\n",
       "    }\n",
       "\n",
       "    .dataframe thead th {\n",
       "        text-align: right;\n",
       "    }\n",
       "</style>\n",
       "<table border=\"1\" class=\"dataframe\">\n",
       "  <thead>\n",
       "    <tr style=\"text-align: right;\">\n",
       "      <th></th>\n",
       "      <th>id</th>\n",
       "      <th>gender</th>\n",
       "      <th>age</th>\n",
       "      <th>industry</th>\n",
       "      <th>astrologic</th>\n",
       "      <th>post</th>\n",
       "      <th>date</th>\n",
       "    </tr>\n",
       "  </thead>\n",
       "  <tbody>\n",
       "    <tr>\n",
       "      <th>count</th>\n",
       "      <td>681288</td>\n",
       "      <td>681288</td>\n",
       "      <td>681288</td>\n",
       "      <td>681288</td>\n",
       "      <td>681288</td>\n",
       "      <td>681288</td>\n",
       "      <td>681288</td>\n",
       "    </tr>\n",
       "    <tr>\n",
       "      <th>unique</th>\n",
       "      <td>19320</td>\n",
       "      <td>2</td>\n",
       "      <td>26</td>\n",
       "      <td>40</td>\n",
       "      <td>12</td>\n",
       "      <td>612001</td>\n",
       "      <td>2616</td>\n",
       "    </tr>\n",
       "    <tr>\n",
       "      <th>top</th>\n",
       "      <td>449628</td>\n",
       "      <td>male</td>\n",
       "      <td>17</td>\n",
       "      <td>indUnk</td>\n",
       "      <td>Cancer</td>\n",
       "      <td>\\n\\n\\t \\n        urlLink   \\n</td>\n",
       "      <td>02,August,2004</td>\n",
       "    </tr>\n",
       "    <tr>\n",
       "      <th>freq</th>\n",
       "      <td>4221</td>\n",
       "      <td>345197</td>\n",
       "      <td>80859</td>\n",
       "      <td>251015</td>\n",
       "      <td>65048</td>\n",
       "      <td>399</td>\n",
       "      <td>16545</td>\n",
       "    </tr>\n",
       "  </tbody>\n",
       "</table>\n",
       "</div>"
      ],
      "text/plain": [
       "            id  gender     age industry astrologic  \\\n",
       "count   681288  681288  681288   681288     681288   \n",
       "unique   19320       2      26       40         12   \n",
       "top     449628    male      17   indUnk     Cancer   \n",
       "freq      4221  345197   80859   251015      65048   \n",
       "\n",
       "                                 post            date  \n",
       "count                          681288          681288  \n",
       "unique                         612001            2616  \n",
       "top     \\n\\n\\t \\n        urlLink   \\n  02,August,2004  \n",
       "freq                              399           16545  "
      ]
     },
     "execution_count": 8,
     "metadata": {},
     "output_type": "execute_result"
    }
   ],
   "source": [
    "data.describe()"
   ]
  },
  {
   "cell_type": "code",
   "execution_count": 9,
   "metadata": {},
   "outputs": [
    {
     "data": {
      "text/html": [
       "<div>\n",
       "<style scoped>\n",
       "    .dataframe tbody tr th:only-of-type {\n",
       "        vertical-align: middle;\n",
       "    }\n",
       "\n",
       "    .dataframe tbody tr th {\n",
       "        vertical-align: top;\n",
       "    }\n",
       "\n",
       "    .dataframe thead th {\n",
       "        text-align: right;\n",
       "    }\n",
       "</style>\n",
       "<table border=\"1\" class=\"dataframe\">\n",
       "  <thead>\n",
       "    <tr style=\"text-align: right;\">\n",
       "      <th></th>\n",
       "      <th>id</th>\n",
       "      <th>gender</th>\n",
       "      <th>age</th>\n",
       "      <th>industry</th>\n",
       "      <th>astrologic</th>\n",
       "      <th>post</th>\n",
       "      <th>date</th>\n",
       "    </tr>\n",
       "  </thead>\n",
       "  <tbody>\n",
       "    <tr>\n",
       "      <th>0</th>\n",
       "      <td>4200843</td>\n",
       "      <td>male</td>\n",
       "      <td>39</td>\n",
       "      <td>Technology</td>\n",
       "      <td>Sagittarius</td>\n",
       "      <td>\\n\\n    \\n       Why suns , obsession trying l...</td>\n",
       "      <td>21,August,2004</td>\n",
       "    </tr>\n",
       "    <tr>\n",
       "      <th>1</th>\n",
       "      <td>4200843</td>\n",
       "      <td>male</td>\n",
       "      <td>39</td>\n",
       "      <td>Technology</td>\n",
       "      <td>Sagittarius</td>\n",
       "      <td>\\n\\n    \\n        I'ordered Counter Strike:CZ ...</td>\n",
       "      <td>18,August,2004</td>\n",
       "    </tr>\n",
       "    <tr>\n",
       "      <th>2</th>\n",
       "      <td>4200843</td>\n",
       "      <td>male</td>\n",
       "      <td>39</td>\n",
       "      <td>Technology</td>\n",
       "      <td>Sagittarius</td>\n",
       "      <td>\\n\\n    \\n        Remember jokes? Well I I nev...</td>\n",
       "      <td>18,August,2004</td>\n",
       "    </tr>\n",
       "    <tr>\n",
       "      <th>3</th>\n",
       "      <td>4200843</td>\n",
       "      <td>male</td>\n",
       "      <td>39</td>\n",
       "      <td>Technology</td>\n",
       "      <td>Sagittarius</td>\n",
       "      <td>\\n\\n    \\n        If 'watch 'Waking Dead' make...</td>\n",
       "      <td>16,August,2004</td>\n",
       "    </tr>\n",
       "    <tr>\n",
       "      <th>4</th>\n",
       "      <td>4200843</td>\n",
       "      <td>male</td>\n",
       "      <td>39</td>\n",
       "      <td>Technology</td>\n",
       "      <td>Sagittarius</td>\n",
       "      <td>\\n\\n    \\n        Sunday always feels like Sun...</td>\n",
       "      <td>15,August,2004</td>\n",
       "    </tr>\n",
       "  </tbody>\n",
       "</table>\n",
       "</div>"
      ],
      "text/plain": [
       "        id gender age    industry   astrologic  \\\n",
       "0  4200843   male  39  Technology  Sagittarius   \n",
       "1  4200843   male  39  Technology  Sagittarius   \n",
       "2  4200843   male  39  Technology  Sagittarius   \n",
       "3  4200843   male  39  Technology  Sagittarius   \n",
       "4  4200843   male  39  Technology  Sagittarius   \n",
       "\n",
       "                                                post            date  \n",
       "0  \\n\\n    \\n       Why suns , obsession trying l...  21,August,2004  \n",
       "1  \\n\\n    \\n        I'ordered Counter Strike:CZ ...  18,August,2004  \n",
       "2  \\n\\n    \\n        Remember jokes? Well I I nev...  18,August,2004  \n",
       "3  \\n\\n    \\n        If 'watch 'Waking Dead' make...  16,August,2004  \n",
       "4  \\n\\n    \\n        Sunday always feels like Sun...  15,August,2004  "
      ]
     },
     "execution_count": 9,
     "metadata": {},
     "output_type": "execute_result"
    }
   ],
   "source": [
    "data.head()"
   ]
  },
  {
   "cell_type": "code",
   "execution_count": 10,
   "metadata": {},
   "outputs": [
    {
     "name": "stdout",
     "output_type": "stream",
     "text": [
      "There are 101264977 words and 3912652 unique words, that are non stop words in the corpus.\n",
      "Maximum words number per post: 78477\n",
      "Minimum words number per post: 2\n",
      "Average words number per post: 121.63884730099458\n",
      "Median: 71.0\n",
      "99% of posts contains less or equal than 735 words\n"
     ]
    }
   ],
   "source": [
    "words = []\n",
    "posts = data.post.values\n",
    "word_per_post = []\n",
    "\n",
    "for post in posts:\n",
    "    \n",
    "    words+=post.split(\" \")\n",
    "    \n",
    "    word_per_post.append(len(post.split(\" \")) - np.sum(np.array(post.split(\" \")) == \"\"))\n",
    "    \n",
    "unique_words = pd.unique(words)\n",
    "\n",
    "print(\"There are {} words and {} unique words, that are non stop words in the corpus.\".format(len(words),len(unique_words)))\n",
    "print(\"Maximum words number per post: {}\\nMinimum words number per post: {}\\nAverage words number per post: {}\\nMedian: {}\\n99% of posts contains less or equal than {} words\"\\\n",
    "      .format(np.max(word_per_post),np.min(word_per_post),np.mean(word_per_post),np.median(word_per_post),np.sort(word_per_post)[np.int(len(word_per_post)*0.99)]))"
   ]
  },
  {
   "cell_type": "markdown",
   "metadata": {},
   "source": [
    "# Baseline"
   ]
  },
  {
   "cell_type": "code",
   "execution_count": 16,
   "metadata": {},
   "outputs": [
    {
     "name": "stdout",
     "output_type": "stream",
     "text": [
      "Found 1218159 unique tokens.\n"
     ]
    }
   ],
   "source": [
    "maxlen  = 735\n",
    "\n",
    "max_words = 100000\n",
    "\n",
    "texts = data.post.values\n",
    "\n",
    "tokenizer = Tokenizer(num_words = max_words)\n",
    "\n",
    "tokenizer.fit_on_texts(texts)\n",
    "\n",
    "sequences = np.array(tokenizer.texts_to_sequences(texts))\n",
    "\n",
    "word_index = tokenizer.word_index\n",
    "\n",
    "print('Found %s unique tokens.' % len(word_index))"
   ]
  },
  {
   "cell_type": "code",
   "execution_count": 17,
   "metadata": {},
   "outputs": [
    {
     "data": {
      "text/plain": [
       "((510966, 735), (170322, 735), (510966, 2), (170322, 2))"
      ]
     },
     "execution_count": 17,
     "metadata": {},
     "output_type": "execute_result"
    }
   ],
   "source": [
    "X = preprocessing.sequence.pad_sequences(sequences, maxlen=maxlen)\n",
    "\n",
    "y = data.gender.values\n",
    "\n",
    "sss = StratifiedShuffleSplit(test_size = 0.25)\n",
    "\n",
    "# utilise plabels au lieu de labels si tu veux tester sur les periodes\n",
    "for train_index, test_index in sss.split(X,y):\n",
    "    \n",
    "    X_train, X_test = X[train_index], X[test_index]\n",
    "    y_train, y_test = y[train_index], y[test_index]\n",
    "\n",
    "y_train = pd.get_dummies(y_train)\n",
    "y_test = pd.get_dummies(y_test)\n",
    "\n",
    "X_train.shape,X_test.shape,y_train.shape,y_test.shape"
   ]
  },
  {
   "cell_type": "code",
   "execution_count": 18,
   "metadata": {},
   "outputs": [],
   "source": [
    "embedding_dim = 200"
   ]
  },
  {
   "cell_type": "code",
   "execution_count": 19,
   "metadata": {},
   "outputs": [
    {
     "name": "stdout",
     "output_type": "stream",
     "text": [
      "_________________________________________________________________\n",
      "Layer (type)                 Output Shape              Param #   \n",
      "=================================================================\n",
      "embedding_2 (Embedding)      (None, 735, 200)          20000000  \n",
      "_________________________________________________________________\n",
      "flatten_2 (Flatten)          (None, 147000)            0         \n",
      "_________________________________________________________________\n",
      "dense_3 (Dense)              (None, 20)                2940020   \n",
      "_________________________________________________________________\n",
      "dense_4 (Dense)              (None, 1)                 21        \n",
      "=================================================================\n",
      "Total params: 22,940,041\n",
      "Trainable params: 22,940,041\n",
      "Non-trainable params: 0\n",
      "_________________________________________________________________\n"
     ]
    }
   ],
   "source": [
    "model = Sequential()\n",
    "model.add(Embedding(max_words,embedding_dim, input_length = maxlen))\n",
    "model.add(Flatten())\n",
    "model.add(Dense(20, activation=\"sigmoid\"))\n",
    "\n",
    "model.add(Dense(1, activation='sigmoid'))\n",
    "model.summary()"
   ]
  },
  {
   "cell_type": "code",
   "execution_count": 20,
   "metadata": {},
   "outputs": [
    {
     "name": "stdout",
     "output_type": "stream",
     "text": [
      "Train on 408772 samples, validate on 102194 samples\n",
      "Epoch 1/10\n",
      "408772/408772 [==============================] - 883s 2ms/step - loss: 0.6060 - acc: 0.6676 - val_loss: 0.5877 - val_acc: 0.6880\n",
      "Epoch 2/10\n",
      "408772/408772 [==============================] - 881s 2ms/step - loss: 0.5086 - acc: 0.7494 - val_loss: 0.6088 - val_acc: 0.6840\n",
      "Epoch 3/10\n",
      "408772/408772 [==============================] - 879s 2ms/step - loss: 0.3680 - acc: 0.8354 - val_loss: 0.7308 - val_acc: 0.6509\n",
      "Epoch 4/10\n",
      "408772/408772 [==============================] - 880s 2ms/step - loss: 0.2805 - acc: 0.8801 - val_loss: 0.8368 - val_acc: 0.6410\n",
      "Epoch 5/10\n",
      "408772/408772 [==============================] - 892s 2ms/step - loss: 0.2355 - acc: 0.9014 - val_loss: 0.8909 - val_acc: 0.6373\n",
      "Epoch 6/10\n",
      "408772/408772 [==============================] - 881s 2ms/step - loss: 0.2101 - acc: 0.9137 - val_loss: 0.9291 - val_acc: 0.6295\n",
      "Epoch 7/10\n",
      "408772/408772 [==============================] - 881s 2ms/step - loss: 0.1949 - acc: 0.9209 - val_loss: 0.9789 - val_acc: 0.6298\n",
      "Epoch 8/10\n",
      "408772/408772 [==============================] - 704s 2ms/step - loss: 0.1845 - acc: 0.9256 - val_loss: 0.9539 - val_acc: 0.6289\n",
      "Epoch 9/10\n",
      "408772/408772 [==============================] - 358s 875us/step - loss: 0.1766 - acc: 0.9297 - val_loss: 0.9919 - val_acc: 0.6298\n",
      "Epoch 10/10\n",
      "408772/408772 [==============================] - 358s 876us/step - loss: 0.1712 - acc: 0.9322 - val_loss: 1.0088 - val_acc: 0.6257\n"
     ]
    }
   ],
   "source": [
    "model.compile(optimizer='rmsprop', loss='binary_crossentropy',metrics=[\"acc\"])\n",
    "\n",
    "history = model.fit(X_train, y_train['male'].values, epochs = 10, batch_size = 32, validation_split = 0.2)"
   ]
  },
  {
   "cell_type": "code",
   "execution_count": 21,
   "metadata": {},
   "outputs": [
    {
     "name": "stdout",
     "output_type": "stream",
     "text": [
      "170322/170322 [==============================] - 23s 135us/step\n",
      "evaluate on test set  [1.0146219053918617, 0.6245170911560503]\n"
     ]
    }
   ],
   "source": [
    "results = model.evaluate(X_test, y_test['male'].values)\n",
    "print(\"evaluate on test set \",results)"
   ]
  },
  {
   "cell_type": "code",
   "execution_count": 22,
   "metadata": {},
   "outputs": [
    {
     "name": "stdout",
     "output_type": "stream",
     "text": [
      "510966/510966 [==============================] - 68s 133us/step\n",
      "evaluate on train set  [0.3403199375824062, 0.8655663977633016]\n"
     ]
    }
   ],
   "source": [
    "results = model.evaluate(X_train, y_train['male'].values)\n",
    "print(\"evaluate on train set \",results)"
   ]
  },
  {
   "cell_type": "code",
   "execution_count": 45,
   "metadata": {},
   "outputs": [],
   "source": [
    "y_pred = model.predict(X_test)\n",
    "\n",
    "pr, rc, fs,_ = precision_recall_fscore_support(y_test['male'].values,y_pred[:,0].round(),average='micro')"
   ]
  },
  {
   "cell_type": "code",
   "execution_count": 46,
   "metadata": {},
   "outputs": [
    {
     "name": "stdout",
     "output_type": "stream",
     "text": [
      "precision is 62.451709115675015%, recall is 62.451709115675015% and f1 score is 62.451709115675015%\n"
     ]
    }
   ],
   "source": [
    "print(\"precision is {}%, recall is {}% and f1 score is {}%\".format(pr*100, rc*100, fs*100))"
   ]
  },
  {
   "cell_type": "code",
   "execution_count": null,
   "metadata": {},
   "outputs": [],
   "source": []
  }
 ],
 "metadata": {
  "kernelspec": {
   "display_name": "Python 3",
   "language": "python",
   "name": "python3"
  },
  "language_info": {
   "codemirror_mode": {
    "name": "ipython",
    "version": 3
   },
   "file_extension": ".py",
   "mimetype": "text/x-python",
   "name": "python",
   "nbconvert_exporter": "python",
   "pygments_lexer": "ipython3",
   "version": "3.6.0"
  }
 },
 "nbformat": 4,
 "nbformat_minor": 2
}
