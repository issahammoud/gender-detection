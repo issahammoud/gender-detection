{
 "cells": [
  {
   "cell_type": "markdown",
   "metadata": {},
   "source": [
    "# Imports"
   ]
  },
  {
   "cell_type": "code",
   "execution_count": 50,
   "metadata": {},
   "outputs": [],
   "source": [
    "import os\n",
    "import re\n",
    "import nltk\n",
    "import gzip\n",
    "import shutil\n",
    "import zipfile\n",
    "import numpy as np\n",
    "import pandas as pd\n",
    "import matplotlib.pyplot as plt\n",
    "import seaborn as sns\n",
    "from sklearn.model_selection import StratifiedShuffleSplit\n",
    "from sklearn.metrics import precision_recall_fscore_support\n",
    "from gensim.models.keyedvectors import KeyedVectors\n",
    "import keras\n",
    "from keras.preprocessing.text import Tokenizer\n",
    "from keras.preprocessing.sequence import pad_sequences\n",
    "from keras.layers  import Embedding\n",
    "from keras.models import Sequential\n",
    "from keras.layers import Flatten, Dense, Dropout\n",
    "from keras import layers\n",
    "from keras import preprocessing"
   ]
  },
  {
   "cell_type": "code",
   "execution_count": 2,
   "metadata": {},
   "outputs": [],
   "source": [
    "os.environ[\"CUDA_VISIBLE_DEVICES\"]=\"1\""
   ]
  },
  {
   "cell_type": "markdown",
   "metadata": {},
   "source": [
    "# Download and extract the data"
   ]
  },
  {
   "cell_type": "code",
   "execution_count": 3,
   "metadata": {},
   "outputs": [],
   "source": [
    "if('blogs.zip' not in os.listdir()):\n",
    "    !curl 'http://u.cs.biu.ac.il/~koppel/blogs/blogs.zip' -H 'Connection: keep-alive' -H 'Upgrade-Insecure-Requests: 1' -H 'User-Agent: Mozilla/5.0 (X11; Linux x86_64) AppleWebKit/537.36 (KHTML, like Gecko) Chrome/70.0.3538.77 Safari/537.36' -H 'Accept: text/html,application/xhtml+xml,application/xml;q=0.9,image/webp,image/apng,*/*;q=0.8' -H 'Referer: http://u.cs.biu.ac.il/~koppel/BlogCorpus.htm' -H 'Accept-Encoding: gzip, deflate' -H 'Accept-Language: en-US,en;q=0.9' --compressed --output blogs.zip\n",
    "    with zipfile.ZipFile('blogs.zip', 'r') as zip_ref:\n",
    "        zip_ref.extractall('./')"
   ]
  },
  {
   "cell_type": "markdown",
   "metadata": {},
   "source": [
    "# Data cleaning and exploration"
   ]
  },
  {
   "cell_type": "code",
   "execution_count": 4,
   "metadata": {},
   "outputs": [
    {
     "name": "stdout",
     "output_type": "stream",
     "text": [
      "There are 19320 bloggers\n"
     ]
    }
   ],
   "source": [
    "bloggers = os.listdir('blogs/')\n",
    "print(\"There are {} bloggers\".format(len(bloggers)))"
   ]
  },
  {
   "cell_type": "code",
   "execution_count": 5,
   "metadata": {},
   "outputs": [
    {
     "name": "stdout",
     "output_type": "stream",
     "text": [
      "The set of tags in the xml files are: {'<date>', '<Blog>', '<post>'}\n"
     ]
    }
   ],
   "source": [
    "path = 'blogs/'\n",
    "\n",
    "stop_words = nltk.corpus.stopwords.words(\"english\")\n",
    "\n",
    "f = open(path+bloggers[0],'r',encoding=\"utf-8\")\n",
    "\n",
    "xml = f.read()\n",
    "\n",
    "tags = set()\n",
    "l = re.findall('<[^/].*?>',xml)\n",
    "for el in l:\n",
    "    tags.add(el)\n",
    "print(\"The set of tags in the xml files are: {}\".format(tags))"
   ]
  },
  {
   "cell_type": "code",
   "execution_count": 6,
   "metadata": {},
   "outputs": [],
   "source": [
    "def data_2_frame(bloggers, sw = True):\n",
    "    \n",
    "    idx = []\n",
    "    gender = []\n",
    "    age = []\n",
    "    industry = []\n",
    "    astrologic = []\n",
    "    dates = []\n",
    "    posts = []\n",
    "        \n",
    "    for blogger in bloggers:\n",
    "\n",
    "        try:\n",
    "\n",
    "            f = open(path+blogger,'r',encoding=\"utf-8\")\n",
    "            xml = f.read()\n",
    "\n",
    "        except UnicodeDecodeError:\n",
    "\n",
    "            f = open(path+blogger,'r',encoding=\"latin-1\")\n",
    "            xml = f.read()\n",
    "        \n",
    "        if(sw):\n",
    "            xml = re.sub(r'\\b(' + r'|'.join(stop_words) + r')\\b\\s*','', xml)\n",
    "            \n",
    "        temp = re.findall('<post.*?>(.*?)</post>',xml,flags=re.DOTALL)\n",
    "        \n",
    "        posts += temp\n",
    "        \n",
    "        dates += re.findall('<date.*?>(.*?)</date>',xml,flags=re.DOTALL)\n",
    "\n",
    "        nb_posts = len(temp)\n",
    "\n",
    "        tmp = blogger.split(\".\")\n",
    "\n",
    "        idx        += [tmp[0]]*nb_posts\n",
    "        gender     += [tmp[1]]*nb_posts\n",
    "        age        += [tmp[2]]*nb_posts\n",
    "        industry   += [tmp[3]]*nb_posts\n",
    "        astrologic += [tmp[4]]*nb_posts\n",
    "    \n",
    "    \n",
    "    dico = {'id':idx,\n",
    "        'gender':gender,\n",
    "        'age':age,\n",
    "        'industry':industry,\n",
    "        'astrologic':astrologic,\n",
    "        'post':posts,\n",
    "        'date':dates}\n",
    "\n",
    "    return pd.DataFrame.from_dict(dico)"
   ]
  },
  {
   "cell_type": "code",
   "execution_count": 7,
   "metadata": {},
   "outputs": [],
   "source": [
    "data = data_2_frame(bloggers,True)"
   ]
  },
  {
   "cell_type": "code",
   "execution_count": 8,
   "metadata": {},
   "outputs": [
    {
     "data": {
      "text/html": [
       "<div>\n",
       "<style scoped>\n",
       "    .dataframe tbody tr th:only-of-type {\n",
       "        vertical-align: middle;\n",
       "    }\n",
       "\n",
       "    .dataframe tbody tr th {\n",
       "        vertical-align: top;\n",
       "    }\n",
       "\n",
       "    .dataframe thead th {\n",
       "        text-align: right;\n",
       "    }\n",
       "</style>\n",
       "<table border=\"1\" class=\"dataframe\">\n",
       "  <thead>\n",
       "    <tr style=\"text-align: right;\">\n",
       "      <th></th>\n",
       "      <th>id</th>\n",
       "      <th>gender</th>\n",
       "      <th>age</th>\n",
       "      <th>industry</th>\n",
       "      <th>astrologic</th>\n",
       "      <th>post</th>\n",
       "      <th>date</th>\n",
       "    </tr>\n",
       "  </thead>\n",
       "  <tbody>\n",
       "    <tr>\n",
       "      <th>count</th>\n",
       "      <td>681288</td>\n",
       "      <td>681288</td>\n",
       "      <td>681288</td>\n",
       "      <td>681288</td>\n",
       "      <td>681288</td>\n",
       "      <td>681288</td>\n",
       "      <td>681288</td>\n",
       "    </tr>\n",
       "    <tr>\n",
       "      <th>unique</th>\n",
       "      <td>19320</td>\n",
       "      <td>2</td>\n",
       "      <td>26</td>\n",
       "      <td>40</td>\n",
       "      <td>12</td>\n",
       "      <td>612001</td>\n",
       "      <td>2616</td>\n",
       "    </tr>\n",
       "    <tr>\n",
       "      <th>top</th>\n",
       "      <td>449628</td>\n",
       "      <td>male</td>\n",
       "      <td>17</td>\n",
       "      <td>indUnk</td>\n",
       "      <td>Cancer</td>\n",
       "      <td>\\n\\n\\t \\n        urlLink   \\n</td>\n",
       "      <td>02,August,2004</td>\n",
       "    </tr>\n",
       "    <tr>\n",
       "      <th>freq</th>\n",
       "      <td>4221</td>\n",
       "      <td>345197</td>\n",
       "      <td>80859</td>\n",
       "      <td>251015</td>\n",
       "      <td>65048</td>\n",
       "      <td>399</td>\n",
       "      <td>16545</td>\n",
       "    </tr>\n",
       "  </tbody>\n",
       "</table>\n",
       "</div>"
      ],
      "text/plain": [
       "            id  gender     age industry astrologic  \\\n",
       "count   681288  681288  681288   681288     681288   \n",
       "unique   19320       2      26       40         12   \n",
       "top     449628    male      17   indUnk     Cancer   \n",
       "freq      4221  345197   80859   251015      65048   \n",
       "\n",
       "                                 post            date  \n",
       "count                          681288          681288  \n",
       "unique                         612001            2616  \n",
       "top     \\n\\n\\t \\n        urlLink   \\n  02,August,2004  \n",
       "freq                              399           16545  "
      ]
     },
     "execution_count": 8,
     "metadata": {},
     "output_type": "execute_result"
    }
   ],
   "source": [
    "data.describe()"
   ]
  },
  {
   "cell_type": "code",
   "execution_count": 9,
   "metadata": {},
   "outputs": [
    {
     "data": {
      "text/html": [
       "<div>\n",
       "<style scoped>\n",
       "    .dataframe tbody tr th:only-of-type {\n",
       "        vertical-align: middle;\n",
       "    }\n",
       "\n",
       "    .dataframe tbody tr th {\n",
       "        vertical-align: top;\n",
       "    }\n",
       "\n",
       "    .dataframe thead th {\n",
       "        text-align: right;\n",
       "    }\n",
       "</style>\n",
       "<table border=\"1\" class=\"dataframe\">\n",
       "  <thead>\n",
       "    <tr style=\"text-align: right;\">\n",
       "      <th></th>\n",
       "      <th>id</th>\n",
       "      <th>gender</th>\n",
       "      <th>age</th>\n",
       "      <th>industry</th>\n",
       "      <th>astrologic</th>\n",
       "      <th>post</th>\n",
       "      <th>date</th>\n",
       "    </tr>\n",
       "  </thead>\n",
       "  <tbody>\n",
       "    <tr>\n",
       "      <th>0</th>\n",
       "      <td>4200843</td>\n",
       "      <td>male</td>\n",
       "      <td>39</td>\n",
       "      <td>Technology</td>\n",
       "      <td>Sagittarius</td>\n",
       "      <td>\\n\\n    \\n       Why suns , obsession trying l...</td>\n",
       "      <td>21,August,2004</td>\n",
       "    </tr>\n",
       "    <tr>\n",
       "      <th>1</th>\n",
       "      <td>4200843</td>\n",
       "      <td>male</td>\n",
       "      <td>39</td>\n",
       "      <td>Technology</td>\n",
       "      <td>Sagittarius</td>\n",
       "      <td>\\n\\n    \\n        I'ordered Counter Strike:CZ ...</td>\n",
       "      <td>18,August,2004</td>\n",
       "    </tr>\n",
       "    <tr>\n",
       "      <th>2</th>\n",
       "      <td>4200843</td>\n",
       "      <td>male</td>\n",
       "      <td>39</td>\n",
       "      <td>Technology</td>\n",
       "      <td>Sagittarius</td>\n",
       "      <td>\\n\\n    \\n        Remember jokes? Well I I nev...</td>\n",
       "      <td>18,August,2004</td>\n",
       "    </tr>\n",
       "    <tr>\n",
       "      <th>3</th>\n",
       "      <td>4200843</td>\n",
       "      <td>male</td>\n",
       "      <td>39</td>\n",
       "      <td>Technology</td>\n",
       "      <td>Sagittarius</td>\n",
       "      <td>\\n\\n    \\n        If 'watch 'Waking Dead' make...</td>\n",
       "      <td>16,August,2004</td>\n",
       "    </tr>\n",
       "    <tr>\n",
       "      <th>4</th>\n",
       "      <td>4200843</td>\n",
       "      <td>male</td>\n",
       "      <td>39</td>\n",
       "      <td>Technology</td>\n",
       "      <td>Sagittarius</td>\n",
       "      <td>\\n\\n    \\n        Sunday always feels like Sun...</td>\n",
       "      <td>15,August,2004</td>\n",
       "    </tr>\n",
       "  </tbody>\n",
       "</table>\n",
       "</div>"
      ],
      "text/plain": [
       "        id gender age    industry   astrologic  \\\n",
       "0  4200843   male  39  Technology  Sagittarius   \n",
       "1  4200843   male  39  Technology  Sagittarius   \n",
       "2  4200843   male  39  Technology  Sagittarius   \n",
       "3  4200843   male  39  Technology  Sagittarius   \n",
       "4  4200843   male  39  Technology  Sagittarius   \n",
       "\n",
       "                                                post            date  \n",
       "0  \\n\\n    \\n       Why suns , obsession trying l...  21,August,2004  \n",
       "1  \\n\\n    \\n        I'ordered Counter Strike:CZ ...  18,August,2004  \n",
       "2  \\n\\n    \\n        Remember jokes? Well I I nev...  18,August,2004  \n",
       "3  \\n\\n    \\n        If 'watch 'Waking Dead' make...  16,August,2004  \n",
       "4  \\n\\n    \\n        Sunday always feels like Sun...  15,August,2004  "
      ]
     },
     "execution_count": 9,
     "metadata": {},
     "output_type": "execute_result"
    }
   ],
   "source": [
    "data.head()"
   ]
  },
  {
   "cell_type": "code",
   "execution_count": 43,
   "metadata": {},
   "outputs": [
    {
     "name": "stdout",
     "output_type": "stream",
     "text": [
      "There are 50.67% posts per male, and 49.33% for female\n"
     ]
    }
   ],
   "source": [
    "print(\"There are {0:.2f}% posts per male, and {1:.2f}% for female\".format(data.\\\n",
    "gender[data.gender == 'male'].count()*100/data.gender.count(),data.gender[data.gender == 'female']\\\n",
    ".count()*100/data.gender.count()))"
   ]
  },
  {
   "cell_type": "code",
   "execution_count": 11,
   "metadata": {},
   "outputs": [
    {
     "name": "stdout",
     "output_type": "stream",
     "text": [
      "There are 101264977 words and 3912652 unique words, that are non stop words in the corpus.\n",
      "Maximum words number per post: 78477\n",
      "Minimum words number per post: 2\n",
      "Average words number per post: 121.63884730099458\n",
      "Median: 71.0\n",
      "80% of posts contains less or equal than 180 words\n"
     ]
    }
   ],
   "source": [
    "words = []\n",
    "posts = data.post.values\n",
    "word_per_post = []\n",
    "\n",
    "for post in posts:\n",
    "    \n",
    "    words+=post.split(\" \")\n",
    "    \n",
    "    word_per_post.append(len(post.split(\" \")) - np.sum(np.array(post.split(\" \")) == \"\"))\n",
    "    \n",
    "unique_words = pd.unique(words)\n",
    "\n",
    "print(\"There are {} words and {} unique words, that are non stop words in the corpus.\".format(len(words),len(unique_words)))\n",
    "print(\"Maximum words number per post: {}\\nMinimum words number per post: {}\\nAverage words number per post: {}\\nMedian: {}\\n80% of posts contains less or equal than {} words\"\\\n",
    "      .format(np.max(word_per_post),np.min(word_per_post),np.mean(word_per_post),np.median(word_per_post),np.sort(word_per_post)[np.int(len(word_per_post)*0.8)]))"
   ]
  },
  {
   "cell_type": "markdown",
   "metadata": {},
   "source": [
    "# Baseline"
   ]
  },
  {
   "cell_type": "code",
   "execution_count": 16,
   "metadata": {},
   "outputs": [
    {
     "name": "stdout",
     "output_type": "stream",
     "text": [
      "Found 1218159 unique tokens.\n"
     ]
    },
    {
     "data": {
      "text/plain": [
       "((510966, 180), (170322, 180), (510966, 2), (170322, 2))"
      ]
     },
     "execution_count": 16,
     "metadata": {},
     "output_type": "execute_result"
    }
   ],
   "source": [
    "maxlen = 180\n",
    "max_words = 50000\n",
    "embedding_dim = 300\n",
    "\n",
    "tokenizer = Tokenizer(num_words = max_words)\n",
    "\n",
    "tokenizer.fit_on_texts(data.post.values)\n",
    "\n",
    "sequences = np.array(tokenizer.texts_to_sequences(data.post.values))\n",
    "\n",
    "word_index = tokenizer.word_index\n",
    "\n",
    "print('Found %s unique tokens.' % len(word_index))\n",
    "\n",
    "X = preprocessing.sequence.pad_sequences(sequences, maxlen=maxlen)\n",
    "\n",
    "y = data.gender.values\n",
    "\n",
    "sss = StratifiedShuffleSplit(test_size = 0.25)\n",
    "\n",
    "# utilise plabels au lieu de labels si tu veux tester sur les periodes\n",
    "for train_index, test_index in sss.split(X,y):\n",
    "    \n",
    "    X_train, X_test = X[train_index], X[test_index]\n",
    "    y_train, y_test = y[train_index], y[test_index]\n",
    "\n",
    "y_train = pd.get_dummies(y_train)\n",
    "y_test = pd.get_dummies(y_test)\n",
    "\n",
    "X_train.shape,X_test.shape,y_train.shape,y_test.shape"
   ]
  },
  {
   "cell_type": "code",
   "execution_count": 51,
   "metadata": {},
   "outputs": [
    {
     "name": "stdout",
     "output_type": "stream",
     "text": [
      "_________________________________________________________________\n",
      "Layer (type)                 Output Shape              Param #   \n",
      "=================================================================\n",
      "embedding_4 (Embedding)      (None, 180, 300)          15000000  \n",
      "_________________________________________________________________\n",
      "flatten_4 (Flatten)          (None, 54000)             0         \n",
      "_________________________________________________________________\n",
      "dense_6 (Dense)              (None, 5)                 270005    \n",
      "_________________________________________________________________\n",
      "dropout_1 (Dropout)          (None, 5)                 0         \n",
      "_________________________________________________________________\n",
      "dense_7 (Dense)              (None, 1)                 6         \n",
      "=================================================================\n",
      "Total params: 15,270,011\n",
      "Trainable params: 15,270,011\n",
      "Non-trainable params: 0\n",
      "_________________________________________________________________\n",
      "None\n"
     ]
    }
   ],
   "source": [
    "def get_model(maxlen,max_words,embedding_dim,dropout = False):\n",
    "\n",
    "    model = Sequential()\n",
    "    model.add(Embedding(max_words,embedding_dim, input_length = maxlen))\n",
    "    model.add(Flatten())\n",
    "    model.add(Dense(5,activation=\"sigmoid\"))\n",
    "    if(dropout):\n",
    "        model.add(Dropout(0.5))\n",
    "        \n",
    "    model.add(Dense(1, activation='sigmoid'))\n",
    "    \n",
    "    print(model.summary())\n",
    "    \n",
    "    return model\n",
    "\n",
    "def plot_acc(history):\n",
    "    \n",
    "    sns.set()\n",
    "\n",
    "    acc = history.history['acc']\n",
    "    val_acc = history.history['val_acc']\n",
    "\n",
    "    loss = history.history['loss']\n",
    "    val_loss = history.history['val_loss']\n",
    "\n",
    "    plt.figure(figsize=(20,10))\n",
    "\n",
    "    epochs = range(1, len(acc) + 1)\n",
    "\n",
    "    plt.subplot(1,2,1)\n",
    "    plt.plot(epochs, acc, 'bo', label='Training acc')\n",
    "    plt.plot(epochs, val_acc, 'b', label='Validation acc')\n",
    "    plt.title('Training and validation accuracy')\n",
    "    plt.legend()\n",
    "\n",
    "    plt.subplot(1,2,2)\n",
    "    plt.plot(epochs, loss, 'bo', label='Training loss')\n",
    "    plt.plot(epochs, val_loss, 'b', label='Validation loss')\n",
    "    plt.title('Training and validation loss')\n",
    "    plt.legend()\n",
    "\n",
    "    plt.show()"
   ]
  },
  {
   "cell_type": "code",
   "execution_count": 52,
   "metadata": {},
   "outputs": [
    {
     "name": "stdout",
     "output_type": "stream",
     "text": [
      "Train on 408772 samples, validate on 102194 samples\n",
      "Epoch 1/5\n",
      "408772/408772 [==============================] - 38s 94us/step - loss: 0.6333 - acc: 0.6293 - val_loss: 0.5883 - val_acc: 0.6925\n",
      "Epoch 2/5\n",
      "408772/408772 [==============================] - 37s 91us/step - loss: 0.5692 - acc: 0.6960 - val_loss: 0.5764 - val_acc: 0.6916\n",
      "Epoch 3/5\n",
      "408772/408772 [==============================] - 37s 91us/step - loss: 0.4759 - acc: 0.7613 - val_loss: 0.6212 - val_acc: 0.6753\n",
      "Epoch 4/5\n",
      "408772/408772 [==============================] - 37s 90us/step - loss: 0.3887 - acc: 0.8134 - val_loss: 0.7127 - val_acc: 0.6615\n",
      "Epoch 5/5\n",
      "408772/408772 [==============================] - 37s 91us/step - loss: 0.3346 - acc: 0.8416 - val_loss: 0.7821 - val_acc: 0.6494\n"
     ]
    }
   ],
   "source": [
    "model = get_model(maxlen, max_words, embedding_dim,dropout=True)\n",
    "\n",
    "model.compile(optimizer='rmsprop', loss='binary_crossentropy',metrics=[\"acc\"])\n",
    "\n",
    "history = model.fit(X_train, y_train['male'].values, epochs = 5, batch_size = 256, validation_split = 0.2)"
   ]
  },
  {
   "cell_type": "code",
   "execution_count": 53,
   "metadata": {},
   "outputs": [
    {
     "data": {
      "image/png": "[encoded data removed]",
      "text/plain": [
       "<matplotlib.figure.Figure at 0x7f3fe590cf60>"
      ]
     },
     "metadata": {},
     "output_type": "display_data"
    }
   ],
   "source": [
    "plot_acc(history)"
   ]
  },
  {
   "cell_type": "code",
   "execution_count": 54,
   "metadata": {},
   "outputs": [
    {
     "name": "stdout",
     "output_type": "stream",
     "text": [
      "170322/170322 [==============================] - 17s 99us/step\n",
      "evaluate on test set  [0.7820995309783288, 0.6498162304355187]\n"
     ]
    }
   ],
   "source": [
    "results = model.evaluate(X_test, y_test['male'].values)\n",
    "print(\"evaluate on test set \",results)"
   ]
  },
  {
   "cell_type": "code",
   "execution_count": 55,
   "metadata": {},
   "outputs": [
    {
     "name": "stdout",
     "output_type": "stream",
     "text": [
      "510966/510966 [==============================] - 45s 88us/step\n",
      "evaluate on train set  [0.30443763820281683, 0.8706332710971062]\n"
     ]
    }
   ],
   "source": [
    "results = model.evaluate(X_train, y_train['male'].values)\n",
    "print(\"evaluate on train set \",results)"
   ]
  },
  {
   "cell_type": "code",
   "execution_count": 56,
   "metadata": {},
   "outputs": [],
   "source": [
    "y_pred = model.predict(X_test)\n",
    "\n",
    "pr, rc, fs,_ = precision_recall_fscore_support(y_test['male'].values,y_pred[:,0].round(),average='micro')"
   ]
  },
  {
   "cell_type": "code",
   "execution_count": 57,
   "metadata": {},
   "outputs": [
    {
     "name": "stdout",
     "output_type": "stream",
     "text": [
      "precision is 64.9816230434119%, recall is 64.9816230434119% and f1 score is 64.9816230434119%\n"
     ]
    }
   ],
   "source": [
    "print(\"precision is {}%, recall is {}% and f1 score is {}%\".format(pr*100, rc*100, fs*100))"
   ]
  },
  {
   "cell_type": "code",
   "execution_count": 58,
   "metadata": {},
   "outputs": [
    {
     "name": "stdout",
     "output_type": "stream",
     "text": [
      "_________________________________________________________________\n",
      "Layer (type)                 Output Shape              Param #   \n",
      "=================================================================\n",
      "embedding_5 (Embedding)      (None, 180, 300)          15000000  \n",
      "_________________________________________________________________\n",
      "flatten_5 (Flatten)          (None, 54000)             0         \n",
      "_________________________________________________________________\n",
      "dense_8 (Dense)              (None, 5)                 270005    \n",
      "_________________________________________________________________\n",
      "dropout_2 (Dropout)          (None, 5)                 0         \n",
      "_________________________________________________________________\n",
      "dense_9 (Dense)              (None, 1)                 6         \n",
      "=================================================================\n",
      "Total params: 15,270,011\n",
      "Trainable params: 15,270,011\n",
      "Non-trainable params: 0\n",
      "_________________________________________________________________\n",
      "None\n",
      "Epoch 1/2\n",
      "510966/510966 [==============================] - 49s 95us/step - loss: 0.6298 - acc: 0.6347\n",
      "Epoch 2/2\n",
      "510966/510966 [==============================] - 56s 109us/step - loss: 0.5726 - acc: 0.6965\n",
      "170322/170322 [==============================] - 29s 171us/step\n",
      "evaluate on test set  [0.5753997391768114, 0.6928112633696315]\n"
     ]
    }
   ],
   "source": [
    "model = get_model(maxlen, max_words, embedding_dim,dropout=True)\n",
    "\n",
    "model.compile(optimizer='rmsprop', loss='binary_crossentropy',metrics=[\"acc\"])\n",
    "\n",
    "history = model.fit(X_train, y_train['male'].values, epochs = 2, batch_size = 256)\n",
    "\n",
    "results = model.evaluate(X_test, y_test['male'].values)\n",
    "print(\"evaluate on test set \",results)"
   ]
  },
  {
   "cell_type": "markdown",
   "metadata": {},
   "source": [
    "# Use of a pretrained embeddings"
   ]
  },
  {
   "cell_type": "code",
   "execution_count": 59,
   "metadata": {},
   "outputs": [],
   "source": [
    "if('GoogleNews-vectors-negative300.bin.gz' not in os.listdir()):\n",
    "    !curl 'https://doc-0s-bo-docs.googleusercontent.com/docs/securesc/irhn5id42n45amehdukhdmveaa64qdca/p3cdn432vvf0g873qt5fohervngkocsn/1547913600000/06848720943842814915/12338030662361016533/0B7XkCwpI5KDYNlNUTTlSS21pQmM?e=download&nonce=te8dhbikk60gq&user=12338030662361016533&hash=jmfhhq8ou6vcslfnjc1a36e5sjsap20h' -H 'authority: doc-0s-bo-docs.googleusercontent.com' -H 'upgrade-insecure-requests: 1' -H 'user-agent: Mozilla/5.0 (X11; Linux x86_64) AppleWebKit/537.36 (KHTML, like Gecko) Chrome/70.0.3538.77 Safari/537.36' -H 'accept: text/html,application/xhtml+xml,application/xml;q=0.9,image/webp,image/apng,*/*;q=0.8' -H 'x-client-data: CIa2yQEIprbJAQipncoBCKijygEIv6fKAQiQqMoBCOKoygEY+aXKAQ==' -H 'referer: https://drive.google.com/uc?id=0B7XkCwpI5KDYNlNUTTlSS21pQmM&export=download' -H 'accept-encoding: gzip, deflate, br' -H 'accept-language: en-US,en;q=0.9' -H 'cookie: AUTH_7ncsoht60h5nj3290k7ksjvs3qm9agnm_nonce=te8dhbikk60gq; NID=146=2m64YwK1FU_-wWYEr0N6qIT8KCPul94SVvGNE1YFUODGL-9ZZYgtf0PjHL_TrgeguaQjrWszdcM8aTlORHFViPx5R3pkEaM2uaQDIPyQkNY-ns5aQ0_77DSWxzvulfHWNxRIonT9b28IBORFdd1Cb8nPngy3F8nCQarRxGO2hNM' --compressed --output GoogleNews-vectors-negative300.bin.gz\n",
    "    with gzip.open('GoogleNews-vectors-negative300.bin.gz', 'rb') as f_in:\n",
    "        with open('GoogleNews-vectors-negative300.bin', 'wb') as f_out:\n",
    "            shutil.copyfileobj(f_in, f_out)\n",
    "            \n",
    "    model = KeyedVectors.load_word2vec_format('GoogleNews-vectors-negative300.bin', binary=True)\n",
    "    model.save_word2vec_format('GoogleNews-vectors-negative300.txt', binary=False)"
   ]
  },
  {
   "cell_type": "code",
   "execution_count": 60,
   "metadata": {},
   "outputs": [
    {
     "name": "stdout",
     "output_type": "stream",
     "text": [
      "Found 2999999 word vectors.\n"
     ]
    }
   ],
   "source": [
    "embeddings_index = {}\n",
    "\n",
    "with open(\"GoogleNews-vectors-negative300.txt\") as f:\n",
    "    for i,line in enumerate(f):\n",
    "        if(i!=0):\n",
    "            values = line.split()\n",
    "            word = values[0]\n",
    "            embeddings_index[word] = np.array(values[1:], dtype='float32')\n",
    "        \n",
    "print('Found {} word vectors.'.format(len(embeddings_index)))"
   ]
  },
  {
   "cell_type": "code",
   "execution_count": 61,
   "metadata": {},
   "outputs": [
    {
     "data": {
      "text/plain": [
       "50000"
      ]
     },
     "execution_count": 61,
     "metadata": {},
     "output_type": "execute_result"
    }
   ],
   "source": [
    "embedding_dim = 300\n",
    "\n",
    "c = 0\n",
    "embedding_matrix = np.zeros((max_words, embedding_dim))\n",
    "\n",
    "# eliminer les mots vides de l'embedding car il n'existe pas dans nos donnees\n",
    "for word, i in word_index.items():\n",
    "    if word not in stop_words and c < max_words:\n",
    "    \n",
    "        embedding_vector = embeddings_index.get(word)\n",
    "        \n",
    "        if embedding_vector is not None:\n",
    "            \n",
    "            embedding_matrix[c] = embedding_vector\n",
    "            c+=1\n",
    "            \n",
    "c"
   ]
  },
  {
   "cell_type": "code",
   "execution_count": 62,
   "metadata": {},
   "outputs": [
    {
     "name": "stdout",
     "output_type": "stream",
     "text": [
      "_________________________________________________________________\n",
      "Layer (type)                 Output Shape              Param #   \n",
      "=================================================================\n",
      "embedding_6 (Embedding)      (None, 180, 300)          15000000  \n",
      "_________________________________________________________________\n",
      "flatten_6 (Flatten)          (None, 54000)             0         \n",
      "_________________________________________________________________\n",
      "dense_10 (Dense)             (None, 5)                 270005    \n",
      "_________________________________________________________________\n",
      "dropout_3 (Dropout)          (None, 5)                 0         \n",
      "_________________________________________________________________\n",
      "dense_11 (Dense)             (None, 1)                 6         \n",
      "=================================================================\n",
      "Total params: 15,270,011\n",
      "Trainable params: 15,270,011\n",
      "Non-trainable params: 0\n",
      "_________________________________________________________________\n",
      "None\n"
     ]
    }
   ],
   "source": [
    "model = get_model(maxlen, max_words, embedding_dim, dropout=True)"
   ]
  },
  {
   "cell_type": "code",
   "execution_count": 63,
   "metadata": {},
   "outputs": [],
   "source": [
    "model.layers[0].set_weights([embedding_matrix])\n",
    "model.layers[0].trainable = False"
   ]
  },
  {
   "cell_type": "code",
   "execution_count": 64,
   "metadata": {},
   "outputs": [
    {
     "name": "stdout",
     "output_type": "stream",
     "text": [
      "Train on 408772 samples, validate on 102194 samples\n",
      "Epoch 1/5\n",
      "408772/408772 [==============================] - 20s 49us/step - loss: 0.6905 - acc: 0.5306 - val_loss: 0.6861 - val_acc: 0.5510\n",
      "Epoch 2/5\n",
      "408772/408772 [==============================] - 18s 43us/step - loss: 0.6807 - acc: 0.5513 - val_loss: 0.6820 - val_acc: 0.5611\n",
      "Epoch 3/5\n",
      "408772/408772 [==============================] - 17s 42us/step - loss: 0.6713 - acc: 0.5642 - val_loss: 0.6821 - val_acc: 0.5632\n",
      "Epoch 4/5\n",
      "408772/408772 [==============================] - 18s 44us/step - loss: 0.6632 - acc: 0.5733 - val_loss: 0.6870 - val_acc: 0.5534\n",
      "Epoch 5/5\n",
      "408772/408772 [==============================] - 17s 43us/step - loss: 0.6556 - acc: 0.5805 - val_loss: 0.6851 - val_acc: 0.5547\n"
     ]
    }
   ],
   "source": [
    "model.compile(optimizer='rmsprop', loss='binary_crossentropy',metrics=[\"acc\"])\n",
    "\n",
    "history = model.fit(X_train, y_train['male'].values, epochs = 5, batch_size = 256, validation_split = 0.2)"
   ]
  },
  {
   "cell_type": "code",
   "execution_count": 65,
   "metadata": {},
   "outputs": [
    {
     "name": "stdout",
     "output_type": "stream",
     "text": [
      "170322/170322 [==============================] - 14s 85us/step\n",
      "evaluate on test set  [0.6842073553975629, 0.5557532203694272]\n"
     ]
    }
   ],
   "source": [
    "results = model.evaluate(X_test, y_test['male'].values)\n",
    "print(\"evaluate on test set \",results)"
   ]
  },
  {
   "cell_type": "code",
   "execution_count": 66,
   "metadata": {},
   "outputs": [
    {
     "name": "stdout",
     "output_type": "stream",
     "text": [
      "510966/510966 [==============================] - 45s 89us/step\n",
      "evaluate on train set  [0.6431674028108962, 0.6055353976594858]\n"
     ]
    }
   ],
   "source": [
    "results = model.evaluate(X_train, y_train['male'].values)\n",
    "print(\"evaluate on train set \",results)"
   ]
  },
  {
   "cell_type": "code",
   "execution_count": 67,
   "metadata": {},
   "outputs": [
    {
     "data": {
      "image/png": "[encoded data removed]",
      "text/plain": [
       "<matplotlib.figure.Figure at 0x7f3fe57a5550>"
      ]
     },
     "metadata": {},
     "output_type": "display_data"
    }
   ],
   "source": [
    "plot_acc(history)"
   ]
  },
  {
   "cell_type": "code",
   "execution_count": 68,
   "metadata": {},
   "outputs": [
    {
     "name": "stdout",
     "output_type": "stream",
     "text": [
      "_________________________________________________________________\n",
      "Layer (type)                 Output Shape              Param #   \n",
      "=================================================================\n",
      "embedding_7 (Embedding)      (None, 180, 300)          15000000  \n",
      "_________________________________________________________________\n",
      "flatten_7 (Flatten)          (None, 54000)             0         \n",
      "_________________________________________________________________\n",
      "dense_12 (Dense)             (None, 5)                 270005    \n",
      "_________________________________________________________________\n",
      "dropout_4 (Dropout)          (None, 5)                 0         \n",
      "_________________________________________________________________\n",
      "dense_13 (Dense)             (None, 1)                 6         \n",
      "=================================================================\n",
      "Total params: 15,270,011\n",
      "Trainable params: 15,270,011\n",
      "Non-trainable params: 0\n",
      "_________________________________________________________________\n",
      "None\n",
      "Epoch 1/3\n",
      "510966/510966 [==============================] - 36s 70us/step - loss: 0.6904 - acc: 0.5302\n",
      "Epoch 2/3\n",
      "510966/510966 [==============================] - 23s 46us/step - loss: 0.6808 - acc: 0.5506\n",
      "Epoch 3/3\n",
      "510966/510966 [==============================] - 21s 42us/step - loss: 0.6721 - acc: 0.5639\n",
      "170322/170322 [==============================] - 23s 137us/step\n",
      "evaluate on test set  [0.6802012915361317, 0.560156644475509]\n"
     ]
    }
   ],
   "source": [
    "model = get_model(maxlen, max_words, embedding_dim, dropout=True)\n",
    "model.layers[0].set_weights([embedding_matrix])\n",
    "model.layers[0].trainable = False\n",
    "model.compile(optimizer='rmsprop', loss='binary_crossentropy',metrics=[\"acc\"])\n",
    "\n",
    "history = model.fit(X_train, y_train['male'].values, epochs = 3, batch_size = 256)\n",
    "results = model.evaluate(X_test, y_test['male'].values)\n",
    "print(\"evaluate on test set \",results)"
   ]
  },
  {
   "cell_type": "markdown",
   "metadata": {},
   "source": [
    "## with non-static embeddings"
   ]
  },
  {
   "cell_type": "code",
   "execution_count": 70,
   "metadata": {},
   "outputs": [
    {
     "name": "stdout",
     "output_type": "stream",
     "text": [
      "_________________________________________________________________\n",
      "Layer (type)                 Output Shape              Param #   \n",
      "=================================================================\n",
      "embedding_9 (Embedding)      (None, 180, 300)          15000000  \n",
      "_________________________________________________________________\n",
      "flatten_9 (Flatten)          (None, 54000)             0         \n",
      "_________________________________________________________________\n",
      "dense_16 (Dense)             (None, 5)                 270005    \n",
      "_________________________________________________________________\n",
      "dropout_5 (Dropout)          (None, 5)                 0         \n",
      "_________________________________________________________________\n",
      "dense_17 (Dense)             (None, 1)                 6         \n",
      "=================================================================\n",
      "Total params: 15,270,011\n",
      "Trainable params: 15,270,011\n",
      "Non-trainable params: 0\n",
      "_________________________________________________________________\n",
      "None\n"
     ]
    }
   ],
   "source": [
    "model = get_model(maxlen, max_words, embedding_dim, dropout = True)\n",
    "model.layers[0].set_weights([embedding_matrix])"
   ]
  },
  {
   "cell_type": "code",
   "execution_count": 71,
   "metadata": {},
   "outputs": [
    {
     "name": "stdout",
     "output_type": "stream",
     "text": [
      "Train on 408772 samples, validate on 102194 samples\n",
      "Epoch 1/5\n",
      "408772/408772 [==============================] - 41s 101us/step - loss: 0.6501 - acc: 0.6148 - val_loss: 0.6020 - val_acc: 0.6717\n",
      "Epoch 2/5\n",
      "408772/408772 [==============================] - 50s 122us/step - loss: 0.5887 - acc: 0.6907 - val_loss: 0.5902 - val_acc: 0.6773\n",
      "Epoch 3/5\n",
      "408772/408772 [==============================] - 42s 102us/step - loss: 0.5301 - acc: 0.7388 - val_loss: 0.6102 - val_acc: 0.6684\n",
      "Epoch 4/5\n",
      "408772/408772 [==============================] - 48s 117us/step - loss: 0.4638 - acc: 0.7848 - val_loss: 0.6670 - val_acc: 0.6625\n",
      "Epoch 5/5\n",
      "408772/408772 [==============================] - 38s 92us/step - loss: 0.4033 - acc: 0.8224 - val_loss: 0.7311 - val_acc: 0.6483\n"
     ]
    }
   ],
   "source": [
    "model.compile(optimizer='rmsprop', loss='binary_crossentropy',metrics=[\"acc\"])\n",
    "\n",
    "history = model.fit(X_train, y_train['male'].values, epochs = 5, batch_size = 256, validation_split = 0.2)"
   ]
  },
  {
   "cell_type": "code",
   "execution_count": 72,
   "metadata": {},
   "outputs": [
    {
     "name": "stdout",
     "output_type": "stream",
     "text": [
      "170322/170322 [==============================] - 15s 88us/step\n",
      "evaluate on test set  [0.7263638163711487, 0.6498632002926129]\n"
     ]
    }
   ],
   "source": [
    "results = model.evaluate(X_test, y_test['male'].values)\n",
    "print(\"evaluate on test set \",results)"
   ]
  },
  {
   "cell_type": "code",
   "execution_count": 73,
   "metadata": {},
   "outputs": [
    {
     "name": "stdout",
     "output_type": "stream",
     "text": [
      "510966/510966 [==============================] - 46s 89us/step\n",
      "evaluate on train set  [0.3699500188116859, 0.8395353115469146]\n"
     ]
    }
   ],
   "source": [
    "results = model.evaluate(X_train, y_train['male'].values)\n",
    "print(\"evaluate on train set \",results)"
   ]
  },
  {
   "cell_type": "code",
   "execution_count": 74,
   "metadata": {},
   "outputs": [
    {
     "data": {
      "image/png": "[encoded data removed]",
      "text/plain": [
       "<matplotlib.figure.Figure at 0x7f3fde566dd8>"
      ]
     },
     "metadata": {},
     "output_type": "display_data"
    }
   ],
   "source": [
    "plot_acc(history)"
   ]
  },
  {
   "cell_type": "code",
   "execution_count": 75,
   "metadata": {},
   "outputs": [
    {
     "name": "stdout",
     "output_type": "stream",
     "text": [
      "_________________________________________________________________\n",
      "Layer (type)                 Output Shape              Param #   \n",
      "=================================================================\n",
      "embedding_10 (Embedding)     (None, 180, 300)          15000000  \n",
      "_________________________________________________________________\n",
      "flatten_10 (Flatten)         (None, 54000)             0         \n",
      "_________________________________________________________________\n",
      "dense_18 (Dense)             (None, 5)                 270005    \n",
      "_________________________________________________________________\n",
      "dropout_6 (Dropout)          (None, 5)                 0         \n",
      "_________________________________________________________________\n",
      "dense_19 (Dense)             (None, 1)                 6         \n",
      "=================================================================\n",
      "Total params: 15,270,011\n",
      "Trainable params: 15,270,011\n",
      "Non-trainable params: 0\n",
      "_________________________________________________________________\n",
      "None\n",
      "Epoch 1/2\n",
      "510966/510966 [==============================] - 57s 113us/step - loss: 0.6429 - acc: 0.62081s - lo\n",
      "Epoch 2/2\n",
      "510966/510966 [==============================] - 47s 91us/step - loss: 0.5854 - acc: 0.6838\n",
      "170322/170322 [==============================] - 22s 128us/step\n",
      "evaluate on test set  [0.5827617783473994, 0.6913728114961213]\n"
     ]
    }
   ],
   "source": [
    "model = get_model(maxlen, max_words, embedding_dim, dropout=True)\n",
    "model.layers[0].set_weights([embedding_matrix])\n",
    "model.compile(optimizer='rmsprop', loss='binary_crossentropy',metrics=[\"acc\"])\n",
    "\n",
    "history = model.fit(X_train, y_train['male'].values, epochs = 2, batch_size = 256)\n",
    "results = model.evaluate(X_test, y_test['male'].values)\n",
    "print(\"evaluate on test set \",results)"
   ]
  },
  {
   "cell_type": "code",
   "execution_count": null,
   "metadata": {},
   "outputs": [],
   "source": []
  }
 ],
 "metadata": {
  "kernelspec": {
   "display_name": "Python 3",
   "language": "python",
   "name": "python3"
  },
  "language_info": {
   "codemirror_mode": {
    "name": "ipython",
    "version": 3
   },
   "file_extension": ".py",
   "mimetype": "text/x-python",
   "name": "python",
   "nbconvert_exporter": "python",
   "pygments_lexer": "ipython3",
   "version": "3.6.0"
  }
 },
 "nbformat": 4,
 "nbformat_minor": 2
}
