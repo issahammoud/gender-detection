{
 "cells": [
  {
   "cell_type": "markdown",
   "metadata": {},
   "source": [
    "# Imports"
   ]
  },
  {
   "cell_type": "code",
   "execution_count": 17,
   "metadata": {},
   "outputs": [],
   "source": [
    "import numpy as np\n",
    "import pandas as pd\n",
    "import os\n",
    "import zipfile\n",
    "import re"
   ]
  },
  {
   "cell_type": "markdown",
   "metadata": {},
   "source": [
    "# Download and extract the data"
   ]
  },
  {
   "cell_type": "code",
   "execution_count": 4,
   "metadata": {},
   "outputs": [],
   "source": [
    "if('blogs.zip' not in os.listdir()):\n",
    "    !curl 'http://u.cs.biu.ac.il/~koppel/blogs/blogs.zip' -H 'Connection: keep-alive' -H 'Upgrade-Insecure-Requests: 1' -H 'User-Agent: Mozilla/5.0 (X11; Linux x86_64) AppleWebKit/537.36 (KHTML, like Gecko) Chrome/70.0.3538.77 Safari/537.36' -H 'Accept: text/html,application/xhtml+xml,application/xml;q=0.9,image/webp,image/apng,*/*;q=0.8' -H 'Referer: http://u.cs.biu.ac.il/~koppel/BlogCorpus.htm' -H 'Accept-Encoding: gzip, deflate' -H 'Accept-Language: en-US,en;q=0.9' --compressed --output blogs.zip\n",
    "    with zipfile.ZipFile('blogs.zip', 'r') as zip_ref:\n",
    "        zip_ref.extractall('./')"
   ]
  },
  {
   "cell_type": "markdown",
   "metadata": {},
   "source": [
    "# Data cleaning and exploration"
   ]
  },
  {
   "cell_type": "code",
   "execution_count": 43,
   "metadata": {},
   "outputs": [
    {
     "name": "stdout",
     "output_type": "stream",
     "text": [
      "there are 19320 bloggers\n"
     ]
    }
   ],
   "source": [
    "bloggers = os.listdir('blogs/')\n",
    "print(\"There are {} bloggers\".format(len(bloggers)))"
   ]
  },
  {
   "cell_type": "code",
   "execution_count": 38,
   "metadata": {},
   "outputs": [
    {
     "name": "stdout",
     "output_type": "stream",
     "text": [
      "the set of tags in the xml files are: {'<date>', '<post>', '<Blog>'}\n"
     ]
    }
   ],
   "source": [
    "path = 'blogs/'\n",
    "\n",
    "f = open(path+bloggers[0],'r',encoding=\"utf-8\")\n",
    "\n",
    "xml = f.read()\n",
    "\n",
    "tags = set()\n",
    "l = re.findall('<[^/].*?>',xml)\n",
    "for el in l:\n",
    "    tags.add(el)\n",
    "print(\"The set of tags in the xml files are: {}\".format(tags))"
   ]
  },
  {
   "cell_type": "code",
   "execution_count": 71,
   "metadata": {},
   "outputs": [],
   "source": [
    "idx = []\n",
    "gender = []\n",
    "age = []\n",
    "industry = []\n",
    "astrologic = []\n",
    "dates = []\n",
    "posts = []\n",
    "\n",
    "for blogger in bloggers:\n",
    "    \n",
    "    try:\n",
    "\n",
    "        f = open(path+blogger,'r',encoding=\"utf-8\")\n",
    "        xml = f.read()\n",
    "        \n",
    "    except UnicodeDecodeError:\n",
    "        \n",
    "        f = open(path+blogger,'r',encoding=\"latin-1\")\n",
    "        xml = f.read()\n",
    "    \n",
    "    posts += re.findall('<post.*?>(.*?)</post>',xml,flags=re.DOTALL)\n",
    "    \n",
    "    dates += re.findall('<date.*?>(.*?)</date>',xml,flags=re.DOTALL)\n",
    "    \n",
    "    nb_posts = len(re.findall('<post.*?>(.*?)</post>',xml,flags=re.DOTALL))\n",
    "    \n",
    "    tmp = blogger.split(\".\")\n",
    "    \n",
    "    idx        += [tmp[0]]*nb_posts\n",
    "    gender     += [tmp[1]]*nb_posts\n",
    "    age        += [tmp[2]]*nb_posts\n",
    "    industry   += [tmp[3]]*nb_posts\n",
    "    astrologic += [tmp[4]]*nb_posts"
   ]
  },
  {
   "cell_type": "code",
   "execution_count": 73,
   "metadata": {},
   "outputs": [],
   "source": [
    "dico = {'id':idx,\n",
    "        'gender':gender,\n",
    "        'age':age,\n",
    "        'industry':industry,\n",
    "        'astrologic':astrologic,\n",
    "        'post':posts,\n",
    "        'date':dates}\n",
    "\n",
    "data = pd.DataFrame.from_dict(dico)"
   ]
  },
  {
   "cell_type": "code",
   "execution_count": 75,
   "metadata": {},
   "outputs": [
    {
     "data": {
      "text/html": [
       "<div>\n",
       "<style scoped>\n",
       "    .dataframe tbody tr th:only-of-type {\n",
       "        vertical-align: middle;\n",
       "    }\n",
       "\n",
       "    .dataframe tbody tr th {\n",
       "        vertical-align: top;\n",
       "    }\n",
       "\n",
       "    .dataframe thead th {\n",
       "        text-align: right;\n",
       "    }\n",
       "</style>\n",
       "<table border=\"1\" class=\"dataframe\">\n",
       "  <thead>\n",
       "    <tr style=\"text-align: right;\">\n",
       "      <th></th>\n",
       "      <th>id</th>\n",
       "      <th>gender</th>\n",
       "      <th>age</th>\n",
       "      <th>industry</th>\n",
       "      <th>astrologic</th>\n",
       "      <th>post</th>\n",
       "      <th>date</th>\n",
       "    </tr>\n",
       "  </thead>\n",
       "  <tbody>\n",
       "    <tr>\n",
       "      <th>count</th>\n",
       "      <td>681288</td>\n",
       "      <td>681288</td>\n",
       "      <td>681288</td>\n",
       "      <td>681288</td>\n",
       "      <td>681288</td>\n",
       "      <td>681288</td>\n",
       "      <td>681288</td>\n",
       "    </tr>\n",
       "    <tr>\n",
       "      <th>unique</th>\n",
       "      <td>19320</td>\n",
       "      <td>2</td>\n",
       "      <td>26</td>\n",
       "      <td>40</td>\n",
       "      <td>12</td>\n",
       "      <td>612135</td>\n",
       "      <td>2616</td>\n",
       "    </tr>\n",
       "    <tr>\n",
       "      <th>top</th>\n",
       "      <td>449628</td>\n",
       "      <td>male</td>\n",
       "      <td>17</td>\n",
       "      <td>indUnk</td>\n",
       "      <td>Cancer</td>\n",
       "      <td>\\n\\n\\t \\n        urlLink   \\n</td>\n",
       "      <td>02,August,2004</td>\n",
       "    </tr>\n",
       "    <tr>\n",
       "      <th>freq</th>\n",
       "      <td>4221</td>\n",
       "      <td>345197</td>\n",
       "      <td>80859</td>\n",
       "      <td>251015</td>\n",
       "      <td>65048</td>\n",
       "      <td>399</td>\n",
       "      <td>16545</td>\n",
       "    </tr>\n",
       "  </tbody>\n",
       "</table>\n",
       "</div>"
      ],
      "text/plain": [
       "            id  gender     age industry astrologic  \\\n",
       "count   681288  681288  681288   681288     681288   \n",
       "unique   19320       2      26       40         12   \n",
       "top     449628    male      17   indUnk     Cancer   \n",
       "freq      4221  345197   80859   251015      65048   \n",
       "\n",
       "                                 post            date  \n",
       "count                          681288          681288  \n",
       "unique                         612135            2616  \n",
       "top     \\n\\n\\t \\n        urlLink   \\n  02,August,2004  \n",
       "freq                              399           16545  "
      ]
     },
     "execution_count": 75,
     "metadata": {},
     "output_type": "execute_result"
    }
   ],
   "source": [
    "data.describe()"
   ]
  },
  {
   "cell_type": "code",
   "execution_count": null,
   "metadata": {},
   "outputs": [],
   "source": []
  }
 ],
 "metadata": {
  "kernelspec": {
   "display_name": "Python 3",
   "language": "python",
   "name": "python3"
  },
  "language_info": {
   "codemirror_mode": {
    "name": "ipython",
    "version": 3
   },
   "file_extension": ".py",
   "mimetype": "text/x-python",
   "name": "python",
   "nbconvert_exporter": "python",
   "pygments_lexer": "ipython3",
   "version": "3.6.0"
  }
 },
 "nbformat": 4,
 "nbformat_minor": 2
}
