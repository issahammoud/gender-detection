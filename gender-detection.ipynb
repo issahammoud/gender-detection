{
 "cells": [
  {
   "cell_type": "markdown",
   "metadata": {},
   "source": [
    "# Imports"
   ]
  },
  {
   "cell_type": "code",
   "execution_count": 1,
   "metadata": {},
   "outputs": [],
   "source": [
    "import os\n",
    "os.environ[\"CUDA_VISIBLE_DEVICES\"]=\"2\""
   ]
  },
  {
   "cell_type": "code",
   "execution_count": 2,
   "metadata": {},
   "outputs": [
    {
     "name": "stderr",
     "output_type": "stream",
     "text": [
      "Using TensorFlow backend.\n"
     ]
    }
   ],
   "source": [
    "import re\n",
    "import nltk\n",
    "import gzip\n",
    "import shutil\n",
    "import zipfile\n",
    "import numpy as np\n",
    "import pandas as pd\n",
    "import matplotlib.pyplot as plt\n",
    "import seaborn as sns\n",
    "from sklearn.model_selection import StratifiedShuffleSplit\n",
    "from sklearn.metrics import precision_recall_fscore_support\n",
    "from gensim.models.keyedvectors import KeyedVectors\n",
    "import keras\n",
    "from keras import backend\n",
    "from keras.preprocessing.text import Tokenizer\n",
    "from keras.preprocessing.sequence import pad_sequences\n",
    "from keras.models import Sequential, Model\n",
    "from keras.layers import Embedding, Flatten, Dense, Dropout, Input, LSTM, Lambda, Conv1D\n",
    "from keras import layers\n",
    "from keras.layers.merge import concatenate\n",
    "from keras import preprocessing"
   ]
  },
  {
   "cell_type": "markdown",
   "metadata": {},
   "source": [
    "# Download and extract the data"
   ]
  },
  {
   "cell_type": "code",
   "execution_count": 3,
   "metadata": {},
   "outputs": [],
   "source": [
    "if('blogs.zip' not in os.listdir()):\n",
    "    !curl 'http://u.cs.biu.ac.il/~koppel/blogs/blogs.zip' -H 'Connection: keep-alive' -H 'Upgrade-Insecure-Requests: 1' -H 'User-Agent: Mozilla/5.0 (X11; Linux x86_64) AppleWebKit/537.36 (KHTML, like Gecko) Chrome/70.0.3538.77 Safari/537.36' -H 'Accept: text/html,application/xhtml+xml,application/xml;q=0.9,image/webp,image/apng,*/*;q=0.8' -H 'Referer: http://u.cs.biu.ac.il/~koppel/BlogCorpus.htm' -H 'Accept-Encoding: gzip, deflate' -H 'Accept-Language: en-US,en;q=0.9' --compressed --output blogs.zip\n",
    "    with zipfile.ZipFile('blogs.zip', 'r') as zip_ref:\n",
    "        zip_ref.extractall('./')"
   ]
  },
  {
   "cell_type": "markdown",
   "metadata": {},
   "source": [
    "# Data cleaning and exploration"
   ]
  },
  {
   "cell_type": "code",
   "execution_count": 4,
   "metadata": {},
   "outputs": [
    {
     "name": "stdout",
     "output_type": "stream",
     "text": [
      "There are 19320 bloggers\n"
     ]
    }
   ],
   "source": [
    "bloggers = os.listdir('blogs/')\n",
    "print(\"There are {} bloggers\".format(len(bloggers)))"
   ]
  },
  {
   "cell_type": "code",
   "execution_count": 5,
   "metadata": {},
   "outputs": [
    {
     "name": "stdout",
     "output_type": "stream",
     "text": [
      "The set of tags in the xml files are: {'<post>', '<Blog>', '<date>'}\n"
     ]
    }
   ],
   "source": [
    "path = 'blogs/'\n",
    "\n",
    "stop_words = nltk.corpus.stopwords.words(\"english\")\n",
    "\n",
    "with open(path+bloggers[0],'r',encoding=\"utf-8\") as f:\n",
    "    xml = f.read()\n",
    "\n",
    "tags = set()\n",
    "l = re.findall('<[^/].*?>',xml)\n",
    "for el in l:\n",
    "    tags.add(el)\n",
    "print(\"The set of tags in the xml files are: {}\".format(tags))"
   ]
  },
  {
   "cell_type": "code",
   "execution_count": 6,
   "metadata": {},
   "outputs": [],
   "source": [
    "def data_2_frame(bloggers, sw = True):\n",
    "    \n",
    "    idx = []\n",
    "    gender = []\n",
    "    age = []\n",
    "    industry = []\n",
    "    astrologic = []\n",
    "    dates = []\n",
    "    posts = []\n",
    "        \n",
    "    for blogger in bloggers:\n",
    "\n",
    "        try:\n",
    "            \n",
    "            with open(path+blogger,'r',encoding=\"utf-8\") as f:\n",
    "         \n",
    "                xml = f.read()\n",
    "\n",
    "        except UnicodeDecodeError:\n",
    "\n",
    "            with open(path+blogger,'r',encoding=\"latin-1\") as f:\n",
    "                \n",
    "                xml = f.read()\n",
    "        \n",
    "        if(sw):\n",
    "            xml = re.sub(r'\\b(' + r'|'.join(stop_words) + r')\\b\\s*','', xml)\n",
    "            \n",
    "        temp = re.findall('<post.*?>(.*?)</post>',xml,flags=re.DOTALL)\n",
    "        \n",
    "        posts += temp\n",
    "        \n",
    "        dates += re.findall('<date.*?>(.*?)</date>',xml,flags=re.DOTALL)\n",
    "\n",
    "        nb_posts = len(temp)\n",
    "\n",
    "        tmp = blogger.split(\".\")\n",
    "\n",
    "        idx        += [tmp[0]]*nb_posts\n",
    "        gender     += [tmp[1]]*nb_posts\n",
    "        age        += [tmp[2]]*nb_posts\n",
    "        industry   += [tmp[3]]*nb_posts\n",
    "        astrologic += [tmp[4]]*nb_posts\n",
    "    \n",
    "    \n",
    "    dico = {'id':idx,\n",
    "        'gender':gender,\n",
    "        'age':age,\n",
    "        'industry':industry,\n",
    "        'astrologic':astrologic,\n",
    "        'post':posts,\n",
    "        'date':dates}\n",
    "\n",
    "    return pd.DataFrame.from_dict(dico)"
   ]
  },
  {
   "cell_type": "code",
   "execution_count": 7,
   "metadata": {},
   "outputs": [],
   "source": [
    "data = data_2_frame(bloggers,True)"
   ]
  },
  {
   "cell_type": "code",
   "execution_count": 8,
   "metadata": {},
   "outputs": [
    {
     "data": {
      "text/html": [
       "<div>\n",
       "<style scoped>\n",
       "    .dataframe tbody tr th:only-of-type {\n",
       "        vertical-align: middle;\n",
       "    }\n",
       "\n",
       "    .dataframe tbody tr th {\n",
       "        vertical-align: top;\n",
       "    }\n",
       "\n",
       "    .dataframe thead th {\n",
       "        text-align: right;\n",
       "    }\n",
       "</style>\n",
       "<table border=\"1\" class=\"dataframe\">\n",
       "  <thead>\n",
       "    <tr style=\"text-align: right;\">\n",
       "      <th></th>\n",
       "      <th>id</th>\n",
       "      <th>gender</th>\n",
       "      <th>age</th>\n",
       "      <th>industry</th>\n",
       "      <th>astrologic</th>\n",
       "      <th>post</th>\n",
       "      <th>date</th>\n",
       "    </tr>\n",
       "  </thead>\n",
       "  <tbody>\n",
       "    <tr>\n",
       "      <th>count</th>\n",
       "      <td>681288</td>\n",
       "      <td>681288</td>\n",
       "      <td>681288</td>\n",
       "      <td>681288</td>\n",
       "      <td>681288</td>\n",
       "      <td>681288</td>\n",
       "      <td>681288</td>\n",
       "    </tr>\n",
       "    <tr>\n",
       "      <th>unique</th>\n",
       "      <td>19320</td>\n",
       "      <td>2</td>\n",
       "      <td>26</td>\n",
       "      <td>40</td>\n",
       "      <td>12</td>\n",
       "      <td>612001</td>\n",
       "      <td>2616</td>\n",
       "    </tr>\n",
       "    <tr>\n",
       "      <th>top</th>\n",
       "      <td>449628</td>\n",
       "      <td>male</td>\n",
       "      <td>17</td>\n",
       "      <td>indUnk</td>\n",
       "      <td>Cancer</td>\n",
       "      <td>\\n\\n\\t \\n        urlLink   \\n</td>\n",
       "      <td>02,August,2004</td>\n",
       "    </tr>\n",
       "    <tr>\n",
       "      <th>freq</th>\n",
       "      <td>4221</td>\n",
       "      <td>345197</td>\n",
       "      <td>80859</td>\n",
       "      <td>251015</td>\n",
       "      <td>65048</td>\n",
       "      <td>399</td>\n",
       "      <td>16545</td>\n",
       "    </tr>\n",
       "  </tbody>\n",
       "</table>\n",
       "</div>"
      ],
      "text/plain": [
       "            id  gender     age industry astrologic  \\\n",
       "count   681288  681288  681288   681288     681288   \n",
       "unique   19320       2      26       40         12   \n",
       "top     449628    male      17   indUnk     Cancer   \n",
       "freq      4221  345197   80859   251015      65048   \n",
       "\n",
       "                                 post            date  \n",
       "count                          681288          681288  \n",
       "unique                         612001            2616  \n",
       "top     \\n\\n\\t \\n        urlLink   \\n  02,August,2004  \n",
       "freq                              399           16545  "
      ]
     },
     "execution_count": 8,
     "metadata": {},
     "output_type": "execute_result"
    }
   ],
   "source": [
    "data.describe()"
   ]
  },
  {
   "cell_type": "code",
   "execution_count": 9,
   "metadata": {},
   "outputs": [
    {
     "data": {
      "text/html": [
       "<div>\n",
       "<style scoped>\n",
       "    .dataframe tbody tr th:only-of-type {\n",
       "        vertical-align: middle;\n",
       "    }\n",
       "\n",
       "    .dataframe tbody tr th {\n",
       "        vertical-align: top;\n",
       "    }\n",
       "\n",
       "    .dataframe thead th {\n",
       "        text-align: right;\n",
       "    }\n",
       "</style>\n",
       "<table border=\"1\" class=\"dataframe\">\n",
       "  <thead>\n",
       "    <tr style=\"text-align: right;\">\n",
       "      <th></th>\n",
       "      <th>id</th>\n",
       "      <th>gender</th>\n",
       "      <th>age</th>\n",
       "      <th>industry</th>\n",
       "      <th>astrologic</th>\n",
       "      <th>post</th>\n",
       "      <th>date</th>\n",
       "    </tr>\n",
       "  </thead>\n",
       "  <tbody>\n",
       "    <tr>\n",
       "      <th>0</th>\n",
       "      <td>4200843</td>\n",
       "      <td>male</td>\n",
       "      <td>39</td>\n",
       "      <td>Technology</td>\n",
       "      <td>Sagittarius</td>\n",
       "      <td>\\n\\n    \\n       Why suns , obsession trying l...</td>\n",
       "      <td>21,August,2004</td>\n",
       "    </tr>\n",
       "    <tr>\n",
       "      <th>1</th>\n",
       "      <td>4200843</td>\n",
       "      <td>male</td>\n",
       "      <td>39</td>\n",
       "      <td>Technology</td>\n",
       "      <td>Sagittarius</td>\n",
       "      <td>\\n\\n    \\n        I'ordered Counter Strike:CZ ...</td>\n",
       "      <td>18,August,2004</td>\n",
       "    </tr>\n",
       "    <tr>\n",
       "      <th>2</th>\n",
       "      <td>4200843</td>\n",
       "      <td>male</td>\n",
       "      <td>39</td>\n",
       "      <td>Technology</td>\n",
       "      <td>Sagittarius</td>\n",
       "      <td>\\n\\n    \\n        Remember jokes? Well I I nev...</td>\n",
       "      <td>18,August,2004</td>\n",
       "    </tr>\n",
       "    <tr>\n",
       "      <th>3</th>\n",
       "      <td>4200843</td>\n",
       "      <td>male</td>\n",
       "      <td>39</td>\n",
       "      <td>Technology</td>\n",
       "      <td>Sagittarius</td>\n",
       "      <td>\\n\\n    \\n        If 'watch 'Waking Dead' make...</td>\n",
       "      <td>16,August,2004</td>\n",
       "    </tr>\n",
       "    <tr>\n",
       "      <th>4</th>\n",
       "      <td>4200843</td>\n",
       "      <td>male</td>\n",
       "      <td>39</td>\n",
       "      <td>Technology</td>\n",
       "      <td>Sagittarius</td>\n",
       "      <td>\\n\\n    \\n        Sunday always feels like Sun...</td>\n",
       "      <td>15,August,2004</td>\n",
       "    </tr>\n",
       "  </tbody>\n",
       "</table>\n",
       "</div>"
      ],
      "text/plain": [
       "        id gender age    industry   astrologic  \\\n",
       "0  4200843   male  39  Technology  Sagittarius   \n",
       "1  4200843   male  39  Technology  Sagittarius   \n",
       "2  4200843   male  39  Technology  Sagittarius   \n",
       "3  4200843   male  39  Technology  Sagittarius   \n",
       "4  4200843   male  39  Technology  Sagittarius   \n",
       "\n",
       "                                                post            date  \n",
       "0  \\n\\n    \\n       Why suns , obsession trying l...  21,August,2004  \n",
       "1  \\n\\n    \\n        I'ordered Counter Strike:CZ ...  18,August,2004  \n",
       "2  \\n\\n    \\n        Remember jokes? Well I I nev...  18,August,2004  \n",
       "3  \\n\\n    \\n        If 'watch 'Waking Dead' make...  16,August,2004  \n",
       "4  \\n\\n    \\n        Sunday always feels like Sun...  15,August,2004  "
      ]
     },
     "execution_count": 9,
     "metadata": {},
     "output_type": "execute_result"
    }
   ],
   "source": [
    "data.head()"
   ]
  },
  {
   "cell_type": "code",
   "execution_count": 10,
   "metadata": {},
   "outputs": [
    {
     "name": "stdout",
     "output_type": "stream",
     "text": [
      "There are 50.67% posts per male, and 49.33% for female\n"
     ]
    }
   ],
   "source": [
    "print(\"There are {0:.2f}% posts per male, and {1:.2f}% for female\".format(data.\\\n",
    "gender[data.gender == 'male'].count()*100/data.gender.count(),data.gender[data.gender == 'female']\\\n",
    ".count()*100/data.gender.count()))"
   ]
  },
  {
   "cell_type": "code",
   "execution_count": 11,
   "metadata": {},
   "outputs": [
    {
     "name": "stdout",
     "output_type": "stream",
     "text": [
      "There are 101264977 words and 3912652 unique words, that are non stop words in the corpus.\n",
      "Maximum words number per post: 78477\n",
      "Minimum words number per post: 2\n",
      "Average words number per post: 121.63884730099458\n",
      "Median: 71.0\n",
      "80% of posts contains less or equal than 180 words\n"
     ]
    }
   ],
   "source": [
    "words = []\n",
    "posts = data.post.values\n",
    "word_per_post = []\n",
    "\n",
    "for post in posts:\n",
    "    \n",
    "    words+=post.split(\" \")\n",
    "    \n",
    "    word_per_post.append(len(post.split(\" \")) - np.sum(np.array(post.split(\" \")) == \"\"))\n",
    "    \n",
    "unique_words = pd.unique(words)\n",
    "\n",
    "print(\"There are {} words and {} unique words, that are non stop words in the corpus.\".format(len(words),len(unique_words)))\n",
    "print(\"Maximum words number per post: {}\\nMinimum words number per post: {}\\nAverage words number per post: {}\\nMedian: {}\\n80% of posts contains less or equal than {} words\"\\\n",
    "      .format(np.max(word_per_post),np.min(word_per_post),np.mean(word_per_post),np.median(word_per_post),np.sort(word_per_post)[np.int(len(word_per_post)*0.8)]))"
   ]
  },
  {
   "cell_type": "markdown",
   "metadata": {},
   "source": [
    "# Baseline"
   ]
  },
  {
   "cell_type": "code",
   "execution_count": 12,
   "metadata": {},
   "outputs": [
    {
     "name": "stdout",
     "output_type": "stream",
     "text": [
      "Found 1218159 unique tokens.\n"
     ]
    },
    {
     "data": {
      "text/plain": [
       "((510966, 180), (170322, 180), (510966, 2), (170322, 2))"
      ]
     },
     "execution_count": 12,
     "metadata": {},
     "output_type": "execute_result"
    }
   ],
   "source": [
    "maxlen = 180\n",
    "max_words = 50000\n",
    "embedding_dim = 300\n",
    "\n",
    "tokenizer = Tokenizer(num_words = max_words)\n",
    "\n",
    "tokenizer.fit_on_texts(data.post.values)\n",
    "\n",
    "sequences = np.array(tokenizer.texts_to_sequences(data.post.values))\n",
    "\n",
    "word_index = tokenizer.word_index\n",
    "\n",
    "print('Found %s unique tokens.' % len(word_index))\n",
    "\n",
    "X = preprocessing.sequence.pad_sequences(sequences, maxlen=maxlen)\n",
    "\n",
    "y = data.gender.values\n",
    "\n",
    "sss = StratifiedShuffleSplit(test_size = 0.25)\n",
    "\n",
    "# utilise plabels au lieu de labels si tu veux tester sur les periodes\n",
    "for train_index, test_index in sss.split(X,y):\n",
    "    \n",
    "    X_train, X_test = X[train_index], X[test_index]\n",
    "    y_train, y_test = y[train_index], y[test_index]\n",
    "\n",
    "y_train = pd.get_dummies(y_train)\n",
    "y_test = pd.get_dummies(y_test)\n",
    "\n",
    "X_train.shape,X_test.shape,y_train.shape,y_test.shape"
   ]
  },
  {
   "cell_type": "code",
   "execution_count": 27,
   "metadata": {},
   "outputs": [],
   "source": [
    "def get_model(maxlen,max_words,embedding_dim,dropout = False):\n",
    "\n",
    "    model = Sequential()\n",
    "    model.add(Embedding(max_words,embedding_dim, input_length = maxlen))\n",
    "    model.add(Flatten())\n",
    "    model.add(Dense(128,activation=\"sigmoid\"))\n",
    "    if(dropout):\n",
    "        model.add(Dropout(0.5))\n",
    "        \n",
    "    model.add(Dense(1, activation='sigmoid'))\n",
    "    \n",
    "    print(model.summary())\n",
    "    \n",
    "    return model\n",
    "\n",
    "def plot_acc(history):\n",
    "    \n",
    "    sns.set()\n",
    "\n",
    "    acc = history.history['acc']\n",
    "    val_acc = history.history['val_acc']\n",
    "\n",
    "    loss = history.history['loss']\n",
    "    val_loss = history.history['val_loss']\n",
    "\n",
    "    plt.figure(figsize=(20,10))\n",
    "\n",
    "    epochs = np.arange(1, len(acc) + 1)\n",
    "\n",
    "    plt.subplot(1,2,1)\n",
    "    plt.plot(epochs, acc, 'b', label='Training acc')\n",
    "    plt.plot(epochs, val_acc, 'g', label='Validation acc')\n",
    "    plt.title('Training and validation accuracy')\n",
    "    plt.legend()\n",
    "\n",
    "    plt.subplot(1,2,2)\n",
    "    plt.plot(epochs, loss, 'b', label='Training loss')\n",
    "    plt.plot(epochs, val_loss, 'g', label='Validation loss')\n",
    "    plt.title('Training and validation loss')\n",
    "    plt.legend()\n",
    "\n",
    "    plt.show()"
   ]
  },
  {
   "cell_type": "code",
   "execution_count": 31,
   "metadata": {},
   "outputs": [
    {
     "name": "stdout",
     "output_type": "stream",
     "text": [
      "_________________________________________________________________\n",
      "Layer (type)                 Output Shape              Param #   \n",
      "=================================================================\n",
      "embedding_2 (Embedding)      (None, 180, 300)          15000000  \n",
      "_________________________________________________________________\n",
      "flatten_2 (Flatten)          (None, 54000)             0         \n",
      "_________________________________________________________________\n",
      "dense_3 (Dense)              (None, 128)               6912128   \n",
      "_________________________________________________________________\n",
      "dropout_2 (Dropout)          (None, 128)               0         \n",
      "_________________________________________________________________\n",
      "dense_4 (Dense)              (None, 1)                 129       \n",
      "=================================================================\n",
      "Total params: 21,912,257\n",
      "Trainable params: 21,912,257\n",
      "Non-trainable params: 0\n",
      "_________________________________________________________________\n",
      "None\n",
      "Train on 408772 samples, validate on 102194 samples\n",
      "Epoch 1/5\n",
      "408772/408772 [==============================] - 55s 135us/step - loss: 0.6056 - acc: 0.6644 - val_loss: 0.5790 - val_acc: 0.6877\n",
      "Epoch 2/5\n",
      "408772/408772 [==============================] - 53s 130us/step - loss: 0.4429 - acc: 0.7853 - val_loss: 0.6474 - val_acc: 0.6740\n",
      "Epoch 3/5\n",
      "408772/408772 [==============================] - 53s 131us/step - loss: 0.2955 - acc: 0.8709 - val_loss: 0.7684 - val_acc: 0.6570\n",
      "Epoch 4/5\n",
      "408772/408772 [==============================] - 53s 130us/step - loss: 0.2283 - acc: 0.9054 - val_loss: 0.8504 - val_acc: 0.6515\n",
      "Epoch 5/5\n",
      "408772/408772 [==============================] - 53s 130us/step - loss: 0.1917 - acc: 0.9212 - val_loss: 0.8824 - val_acc: 0.6441\n"
     ]
    }
   ],
   "source": [
    "model = get_model(maxlen, max_words, embedding_dim,dropout=True)\n",
    "\n",
    "model.compile(optimizer='rmsprop', loss='binary_crossentropy',metrics=[\"acc\"])\n",
    "\n",
    "history = model.fit(X_train, y_train['male'].values, epochs = 5, batch_size = 256, validation_split = 0.2)"
   ]
  },
  {
   "cell_type": "code",
   "execution_count": 32,
   "metadata": {},
   "outputs": [
    {
     "data": {
      "image/png": "[encoded data removed]",
      "text/plain": [
       "<matplotlib.figure.Figure at 0x7f444c6e2ac8>"
      ]
     },
     "metadata": {},
     "output_type": "display_data"
    }
   ],
   "source": [
    "plot_acc(history)"
   ]
  },
  {
   "cell_type": "code",
   "execution_count": 33,
   "metadata": {},
   "outputs": [
    {
     "name": "stdout",
     "output_type": "stream",
     "text": [
      "170322/170322 [==============================] - 17s 97us/step\n",
      "evaluate on test set  [0.8828357111241502, 0.6438275736574067]\n"
     ]
    }
   ],
   "source": [
    "results = model.evaluate(X_test, y_test['male'].values)\n",
    "print(\"evaluate on test set \",results)"
   ]
  },
  {
   "cell_type": "code",
   "execution_count": 34,
   "metadata": {},
   "outputs": [
    {
     "name": "stdout",
     "output_type": "stream",
     "text": [
      "510966/510966 [==============================] - 55s 107us/step\n",
      "evaluate on train set  [0.28423054210042686, 0.8837750456965903]\n"
     ]
    }
   ],
   "source": [
    "results = model.evaluate(X_train, y_train['male'].values)\n",
    "print(\"evaluate on train set \",results)"
   ]
  },
  {
   "cell_type": "code",
   "execution_count": 38,
   "metadata": {},
   "outputs": [],
   "source": [
    "y_pred = model.predict(X_test)\n",
    "\n",
    "pr, rc, fs,_ = precision_recall_fscore_support(y_test['male'].values,y_pred[:,0].round(),average='macro')"
   ]
  },
  {
   "cell_type": "code",
   "execution_count": 39,
   "metadata": {},
   "outputs": [
    {
     "name": "stdout",
     "output_type": "stream",
     "text": [
      "precision is 66.54577522839617%, recall is 65.20808907096935% and f1 score is 64.60991007878172%\n"
     ]
    }
   ],
   "source": [
    "print(\"precision is {0}%, recall is {1}% and f1 score is {2}%\".format(pr*100, rc*100, fs*100))"
   ]
  },
  {
   "cell_type": "code",
   "execution_count": 54,
   "metadata": {},
   "outputs": [
    {
     "name": "stdout",
     "output_type": "stream",
     "text": [
      "_________________________________________________________________\n",
      "Layer (type)                 Output Shape              Param #   \n",
      "=================================================================\n",
      "embedding_6 (Embedding)      (None, 180, 300)          15000000  \n",
      "_________________________________________________________________\n",
      "flatten_6 (Flatten)          (None, 54000)             0         \n",
      "_________________________________________________________________\n",
      "dense_11 (Dense)             (None, 128)               6912128   \n",
      "_________________________________________________________________\n",
      "dropout_6 (Dropout)          (None, 128)               0         \n",
      "_________________________________________________________________\n",
      "dense_12 (Dense)             (None, 1)                 129       \n",
      "=================================================================\n",
      "Total params: 21,912,257\n",
      "Trainable params: 21,912,257\n",
      "Non-trainable params: 0\n",
      "_________________________________________________________________\n",
      "None\n",
      "Epoch 1/2\n",
      "510966/510966 [==============================] - 65s 127us/step - loss: 0.5994 - acc: 0.6696\n",
      "Epoch 2/2\n",
      "510966/510966 [==============================] - 63s 123us/step - loss: 0.4528 - acc: 0.7796\n",
      "170322/170322 [==============================] - 18s 106us/step\n",
      "evaluate on test set  [0.628039621402266, 0.6812919059179764]\n"
     ]
    }
   ],
   "source": [
    "model = get_model(maxlen, max_words, embedding_dim,dropout=True)\n",
    "\n",
    "model.compile(optimizer='rmsprop', loss='binary_crossentropy',metrics=[\"acc\"])\n",
    "\n",
    "history = model.fit(X_train, y_train['male'].values, epochs = 2, batch_size = 256)\n",
    "\n",
    "results = model.evaluate(X_test, y_test['male'].values)\n",
    "print(\"evaluate on test set \",results)"
   ]
  },
  {
   "cell_type": "markdown",
   "metadata": {},
   "source": [
    "# Use of a pretrained embeddings"
   ]
  },
  {
   "cell_type": "code",
   "execution_count": 40,
   "metadata": {},
   "outputs": [],
   "source": [
    "if('GoogleNews-vectors-negative300.bin.gz' not in os.listdir()):\n",
    "    !curl 'https://doc-0s-bo-docs.googleusercontent.com/docs/securesc/irhn5id42n45amehdukhdmveaa64qdca/p3cdn432vvf0g873qt5fohervngkocsn/1547913600000/06848720943842814915/12338030662361016533/0B7XkCwpI5KDYNlNUTTlSS21pQmM?e=download&nonce=te8dhbikk60gq&user=12338030662361016533&hash=jmfhhq8ou6vcslfnjc1a36e5sjsap20h' -H 'authority: doc-0s-bo-docs.googleusercontent.com' -H 'upgrade-insecure-requests: 1' -H 'user-agent: Mozilla/5.0 (X11; Linux x86_64) AppleWebKit/537.36 (KHTML, like Gecko) Chrome/70.0.3538.77 Safari/537.36' -H 'accept: text/html,application/xhtml+xml,application/xml;q=0.9,image/webp,image/apng,*/*;q=0.8' -H 'x-client-data: CIa2yQEIprbJAQipncoBCKijygEIv6fKAQiQqMoBCOKoygEY+aXKAQ==' -H 'referer: https://drive.google.com/uc?id=0B7XkCwpI5KDYNlNUTTlSS21pQmM&export=download' -H 'accept-encoding: gzip, deflate, br' -H 'accept-language: en-US,en;q=0.9' -H 'cookie: AUTH_7ncsoht60h5nj3290k7ksjvs3qm9agnm_nonce=te8dhbikk60gq; NID=146=2m64YwK1FU_-wWYEr0N6qIT8KCPul94SVvGNE1YFUODGL-9ZZYgtf0PjHL_TrgeguaQjrWszdcM8aTlORHFViPx5R3pkEaM2uaQDIPyQkNY-ns5aQ0_77DSWxzvulfHWNxRIonT9b28IBORFdd1Cb8nPngy3F8nCQarRxGO2hNM' --compressed --output GoogleNews-vectors-negative300.bin.gz\n",
    "    with gzip.open('GoogleNews-vectors-negative300.bin.gz', 'rb') as f_in:\n",
    "        with open('GoogleNews-vectors-negative300.bin', 'wb') as f_out:\n",
    "            shutil.copyfileobj(f_in, f_out)\n",
    "            \n",
    "    model = KeyedVectors.load_word2vec_format('GoogleNews-vectors-negative300.bin', binary=True)\n",
    "    model.save_word2vec_format('GoogleNews-vectors-negative300.txt', binary=False)"
   ]
  },
  {
   "cell_type": "code",
   "execution_count": 41,
   "metadata": {},
   "outputs": [
    {
     "name": "stdout",
     "output_type": "stream",
     "text": [
      "Found 2999999 word vectors.\n"
     ]
    }
   ],
   "source": [
    "embeddings_index = {}\n",
    "\n",
    "with open(\"GoogleNews-vectors-negative300.txt\") as f:\n",
    "    for i,line in enumerate(f):\n",
    "        if(i!=0):\n",
    "            values = line.split()\n",
    "            word = values[0]\n",
    "            embeddings_index[word] = np.array(values[1:], dtype='float32')\n",
    "        \n",
    "print('Found {} word vectors.'.format(len(embeddings_index)))"
   ]
  },
  {
   "cell_type": "code",
   "execution_count": 42,
   "metadata": {},
   "outputs": [
    {
     "data": {
      "text/plain": [
       "50000"
      ]
     },
     "execution_count": 42,
     "metadata": {},
     "output_type": "execute_result"
    }
   ],
   "source": [
    "embedding_dim = 300\n",
    "\n",
    "c = 0\n",
    "embedding_matrix = np.zeros((max_words, embedding_dim))\n",
    "\n",
    "# eliminer les mots vides de l'embedding car il n'existe pas dans nos donnees\n",
    "for word, i in word_index.items():\n",
    "    if word not in stop_words and c < max_words:\n",
    "    \n",
    "        embedding_vector = embeddings_index.get(word)\n",
    "        \n",
    "        if embedding_vector is not None:\n",
    "            \n",
    "            embedding_matrix[c] = embedding_vector\n",
    "            c+=1\n",
    "            \n",
    "c"
   ]
  },
  {
   "cell_type": "code",
   "execution_count": 43,
   "metadata": {},
   "outputs": [
    {
     "name": "stdout",
     "output_type": "stream",
     "text": [
      "_________________________________________________________________\n",
      "Layer (type)                 Output Shape              Param #   \n",
      "=================================================================\n",
      "embedding_4 (Embedding)      (None, 180, 300)          15000000  \n",
      "_________________________________________________________________\n",
      "flatten_4 (Flatten)          (None, 54000)             0         \n",
      "_________________________________________________________________\n",
      "dense_7 (Dense)              (None, 128)               6912128   \n",
      "_________________________________________________________________\n",
      "dropout_4 (Dropout)          (None, 128)               0         \n",
      "_________________________________________________________________\n",
      "dense_8 (Dense)              (None, 1)                 129       \n",
      "=================================================================\n",
      "Total params: 21,912,257\n",
      "Trainable params: 21,912,257\n",
      "Non-trainable params: 0\n",
      "_________________________________________________________________\n",
      "None\n"
     ]
    }
   ],
   "source": [
    "model = get_model(maxlen, max_words, embedding_dim, dropout=True)"
   ]
  },
  {
   "cell_type": "code",
   "execution_count": 44,
   "metadata": {},
   "outputs": [],
   "source": [
    "model.layers[0].set_weights([embedding_matrix])\n",
    "model.layers[0].trainable = False"
   ]
  },
  {
   "cell_type": "code",
   "execution_count": 45,
   "metadata": {},
   "outputs": [
    {
     "name": "stdout",
     "output_type": "stream",
     "text": [
      "Train on 408772 samples, validate on 102194 samples\n",
      "Epoch 1/5\n",
      "408772/408772 [==============================] - 30s 74us/step - loss: 0.6936 - acc: 0.5316 - val_loss: 0.6852 - val_acc: 0.5460\n",
      "Epoch 2/5\n",
      "408772/408772 [==============================] - 29s 71us/step - loss: 0.6731 - acc: 0.5658 - val_loss: 0.6816 - val_acc: 0.5635\n",
      "Epoch 3/5\n",
      "408772/408772 [==============================] - 29s 71us/step - loss: 0.6465 - acc: 0.5960 - val_loss: 0.6949 - val_acc: 0.5614\n",
      "Epoch 4/5\n",
      "408772/408772 [==============================] - 30s 72us/step - loss: 0.6143 - acc: 0.6225 - val_loss: 0.7143 - val_acc: 0.5648\n",
      "Epoch 5/5\n",
      "408772/408772 [==============================] - 30s 72us/step - loss: 0.5848 - acc: 0.6446 - val_loss: 0.7434 - val_acc: 0.5603\n"
     ]
    }
   ],
   "source": [
    "model.compile(optimizer='rmsprop', loss='binary_crossentropy',metrics=[\"acc\"])\n",
    "\n",
    "history = model.fit(X_train, y_train['male'].values, epochs = 5, batch_size = 256, validation_split = 0.2)"
   ]
  },
  {
   "cell_type": "code",
   "execution_count": 46,
   "metadata": {},
   "outputs": [
    {
     "name": "stdout",
     "output_type": "stream",
     "text": [
      "170322/170322 [==============================] - 17s 99us/step\n",
      "evaluate on test set  [0.7407198608529818, 0.5606556992071349]\n"
     ]
    }
   ],
   "source": [
    "results = model.evaluate(X_test, y_test['male'].values)\n",
    "print(\"evaluate on test set \",results)"
   ]
  },
  {
   "cell_type": "code",
   "execution_count": 47,
   "metadata": {},
   "outputs": [
    {
     "name": "stdout",
     "output_type": "stream",
     "text": [
      "510966/510966 [==============================] - 53s 104us/step\n",
      "evaluate on train set  [0.5769733653736233, 0.6607073660466722]\n"
     ]
    }
   ],
   "source": [
    "results = model.evaluate(X_train, y_train['male'].values)\n",
    "print(\"evaluate on train set \",results)"
   ]
  },
  {
   "cell_type": "code",
   "execution_count": 48,
   "metadata": {},
   "outputs": [
    {
     "data": {
      "image/png": "[encoded data removed]",
      "text/plain": [
       "<matplotlib.figure.Figure at 0x7f43e863f048>"
      ]
     },
     "metadata": {},
     "output_type": "display_data"
    }
   ],
   "source": [
    "plot_acc(history)"
   ]
  },
  {
   "cell_type": "code",
   "execution_count": null,
   "metadata": {},
   "outputs": [],
   "source": [
    "model = get_model(maxlen, max_words, embedding_dim, dropout=True)\n",
    "model.layers[0].set_weights([embedding_matrix])\n",
    "model.layers[0].trainable = False\n",
    "model.compile(optimizer='rmsprop', loss='binary_crossentropy',metrics=[\"acc\"])\n",
    "\n",
    "history = model.fit(X_train, y_train['male'].values, epochs = 3, batch_size = 256)\n",
    "results = model.evaluate(X_test, y_test['male'].values)\n",
    "print(\"evaluate on test set \",results)"
   ]
  },
  {
   "cell_type": "markdown",
   "metadata": {},
   "source": [
    "## with non-static embeddings"
   ]
  },
  {
   "cell_type": "code",
   "execution_count": 49,
   "metadata": {},
   "outputs": [
    {
     "name": "stdout",
     "output_type": "stream",
     "text": [
      "_________________________________________________________________\n",
      "Layer (type)                 Output Shape              Param #   \n",
      "=================================================================\n",
      "embedding_5 (Embedding)      (None, 180, 300)          15000000  \n",
      "_________________________________________________________________\n",
      "flatten_5 (Flatten)          (None, 54000)             0         \n",
      "_________________________________________________________________\n",
      "dense_9 (Dense)              (None, 128)               6912128   \n",
      "_________________________________________________________________\n",
      "dropout_5 (Dropout)          (None, 128)               0         \n",
      "_________________________________________________________________\n",
      "dense_10 (Dense)             (None, 1)                 129       \n",
      "=================================================================\n",
      "Total params: 21,912,257\n",
      "Trainable params: 21,912,257\n",
      "Non-trainable params: 0\n",
      "_________________________________________________________________\n",
      "None\n"
     ]
    }
   ],
   "source": [
    "model = get_model(maxlen, max_words, embedding_dim, dropout = True)\n",
    "model.layers[0].set_weights([embedding_matrix])"
   ]
  },
  {
   "cell_type": "code",
   "execution_count": 50,
   "metadata": {},
   "outputs": [
    {
     "name": "stdout",
     "output_type": "stream",
     "text": [
      "Train on 408772 samples, validate on 102194 samples\n",
      "Epoch 1/5\n",
      "408772/408772 [==============================] - 55s 134us/step - loss: 0.6347 - acc: 0.6370 - val_loss: 0.5803 - val_acc: 0.6897\n",
      "Epoch 2/5\n",
      "408772/408772 [==============================] - 53s 130us/step - loss: 0.5153 - acc: 0.7354 - val_loss: 0.5952 - val_acc: 0.6850\n",
      "Epoch 3/5\n",
      "408772/408772 [==============================] - 53s 130us/step - loss: 0.3850 - acc: 0.8155 - val_loss: 0.7038 - val_acc: 0.6689\n",
      "Epoch 4/5\n",
      "408772/408772 [==============================] - 53s 130us/step - loss: 0.2822 - acc: 0.8712 - val_loss: 0.8569 - val_acc: 0.6575\n",
      "Epoch 5/5\n",
      "408772/408772 [==============================] - 53s 129us/step - loss: 0.2217 - acc: 0.9019 - val_loss: 0.9385 - val_acc: 0.6535\n"
     ]
    }
   ],
   "source": [
    "model.compile(optimizer='rmsprop', loss='binary_crossentropy',metrics=[\"acc\"])\n",
    "\n",
    "history = model.fit(X_train, y_train['male'].values, epochs = 5, batch_size = 256, validation_split = 0.2)"
   ]
  },
  {
   "cell_type": "code",
   "execution_count": 51,
   "metadata": {},
   "outputs": [
    {
     "name": "stdout",
     "output_type": "stream",
     "text": [
      "170322/170322 [==============================] - 17s 98us/step\n",
      "evaluate on test set  [0.9343347119465585, 0.6529338547008467]\n"
     ]
    }
   ],
   "source": [
    "results = model.evaluate(X_test, y_test['male'].values)\n",
    "print(\"evaluate on test set \",results)"
   ]
  },
  {
   "cell_type": "code",
   "execution_count": 52,
   "metadata": {},
   "outputs": [
    {
     "name": "stdout",
     "output_type": "stream",
     "text": [
      "510966/510966 [==============================] - 52s 101us/step\n",
      "evaluate on train set  [0.3179926628708498, 0.8765456018602397]\n"
     ]
    }
   ],
   "source": [
    "results = model.evaluate(X_train, y_train['male'].values)\n",
    "print(\"evaluate on train set \",results)"
   ]
  },
  {
   "cell_type": "code",
   "execution_count": 53,
   "metadata": {},
   "outputs": [
    {
     "data": {
      "image/png": "[encoded data removed]",
      "text/plain": [
       "<matplotlib.figure.Figure at 0x7f42eca23b70>"
      ]
     },
     "metadata": {},
     "output_type": "display_data"
    }
   ],
   "source": [
    "plot_acc(history)"
   ]
  },
  {
   "cell_type": "code",
   "execution_count": null,
   "metadata": {},
   "outputs": [],
   "source": [
    "model = get_model(maxlen, max_words, embedding_dim, dropout=True)\n",
    "model.layers[0].set_weights([embedding_matrix])\n",
    "model.compile(optimizer='rmsprop', loss='binary_crossentropy',metrics=[\"acc\"])\n",
    "\n",
    "history = model.fit(X_train, y_train['male'].values, epochs = 2, batch_size = 256)\n",
    "results = model.evaluate(X_test, y_test['male'].values)\n",
    "print(\"evaluate on test set \",results)"
   ]
  },
  {
   "cell_type": "markdown",
   "metadata": {},
   "source": [
    "# Recurrent Convolutional Neural Network (RCNN)"
   ]
  },
  {
   "cell_type": "code",
   "execution_count": 55,
   "metadata": {},
   "outputs": [],
   "source": [
    "hidden_dim1 = 200\n",
    "\n",
    "hidden_dim2 = 100\n",
    "\n",
    "document = Input(shape = (None, ), dtype = \"int32\")\n",
    "left_context = Input(shape = (None, ), dtype = \"int32\")\n",
    "right_context = Input(shape = (None, ), dtype = \"int32\")"
   ]
  },
  {
   "cell_type": "code",
   "execution_count": 56,
   "metadata": {},
   "outputs": [],
   "source": [
    "embedder = Embedding(max_words , embedding_dim)\n",
    "doc_embedding = embedder(document)\n",
    "l_embedding = embedder(left_context)\n",
    "r_embedding = embedder(right_context)\n",
    "\n",
    "forward = LSTM(hidden_dim1, return_sequences = True)(l_embedding)\n",
    "backward = LSTM(hidden_dim1, return_sequences = True, go_backwards = True)(r_embedding)\n",
    "backward = Lambda(lambda x: backend.reverse(x, axes = 1))(backward)\n",
    "\n",
    "together = concatenate([forward, doc_embedding, backward], axis = 2)\n",
    "\n",
    "semantic = Conv1D(hidden_dim2, kernel_size = 1, activation = \"tanh\")(together)\n",
    "pool_rnn = Lambda(lambda x: backend.max(x, axis = 1), output_shape = (hidden_dim2, ))(semantic)\n",
    "\n",
    "output = Dense(1, input_dim = hidden_dim2, activation = \"sigmoid\")(pool_rnn)"
   ]
  },
  {
   "cell_type": "code",
   "execution_count": 57,
   "metadata": {},
   "outputs": [
    {
     "data": {
      "text/plain": [
       "((510966, 180), (510966, 180))"
      ]
     },
     "execution_count": 57,
     "metadata": {},
     "output_type": "execute_result"
    }
   ],
   "source": [
    "left  = np.column_stack((np.array([0]*X_train.shape[0]),X_train[:,1:]))\n",
    "right = np.column_stack((X_train[:,:-1],np.array([0]*X_train.shape[0])))\n",
    "left.shape,right.shape"
   ]
  },
  {
   "cell_type": "code",
   "execution_count": 58,
   "metadata": {},
   "outputs": [],
   "source": [
    "model = Model(inputs = [document, left_context, right_context], outputs = output)\n",
    "\n",
    "model.compile(optimizer = \"adadelta\", loss = \"binary_crossentropy\", metrics = [\"accuracy\"])"
   ]
  },
  {
   "cell_type": "code",
   "execution_count": 60,
   "metadata": {},
   "outputs": [
    {
     "name": "stdout",
     "output_type": "stream",
     "text": [
      "__________________________________________________________________________________________________\n",
      "Layer (type)                    Output Shape         Param #     Connected to                     \n",
      "==================================================================================================\n",
      "input_2 (InputLayer)            (None, None)         0                                            \n",
      "__________________________________________________________________________________________________\n",
      "input_1 (InputLayer)            (None, None)         0                                            \n",
      "__________________________________________________________________________________________________\n",
      "input_3 (InputLayer)            (None, None)         0                                            \n",
      "__________________________________________________________________________________________________\n",
      "embedding_7 (Embedding)         (None, None, 300)    15000000    input_1[0][0]                    \n",
      "                                                                 input_2[0][0]                    \n",
      "                                                                 input_3[0][0]                    \n",
      "__________________________________________________________________________________________________\n",
      "lstm_2 (LSTM)                   (None, None, 200)    400800      embedding_7[2][0]                \n",
      "__________________________________________________________________________________________________\n",
      "lstm_1 (LSTM)                   (None, None, 200)    400800      embedding_7[1][0]                \n",
      "__________________________________________________________________________________________________\n",
      "lambda_1 (Lambda)               (None, None, 200)    0           lstm_2[0][0]                     \n",
      "__________________________________________________________________________________________________\n",
      "concatenate_1 (Concatenate)     (None, None, 700)    0           lstm_1[0][0]                     \n",
      "                                                                 embedding_7[0][0]                \n",
      "                                                                 lambda_1[0][0]                   \n",
      "__________________________________________________________________________________________________\n",
      "conv1d_1 (Conv1D)               (None, None, 100)    70100       concatenate_1[0][0]              \n",
      "__________________________________________________________________________________________________\n",
      "lambda_2 (Lambda)               (None, 100)          0           conv1d_1[0][0]                   \n",
      "__________________________________________________________________________________________________\n",
      "dense_13 (Dense)                (None, 1)            101         lambda_2[0][0]                   \n",
      "==================================================================================================\n",
      "Total params: 15,871,801\n",
      "Trainable params: 15,871,801\n",
      "Non-trainable params: 0\n",
      "__________________________________________________________________________________________________\n"
     ]
    }
   ],
   "source": [
    "model.summary()"
   ]
  },
  {
   "cell_type": "code",
   "execution_count": 59,
   "metadata": {},
   "outputs": [
    {
     "name": "stdout",
     "output_type": "stream",
     "text": [
      "Epoch 1/2\n",
      "510966/510966 [==============================] - 1918s 4ms/step - loss: 0.6378 - acc: 0.6294\n",
      "Epoch 2/2\n",
      "510966/510966 [==============================] - 1930s 4ms/step - loss: 0.5840 - acc: 0.6859\n"
     ]
    }
   ],
   "source": [
    "history = model.fit([X_train, left, right], y_train['male'].values,batch_size = 256, epochs = 2)\n",
    "loss = history.history[\"loss\"][0]"
   ]
  },
  {
   "cell_type": "code",
   "execution_count": 56,
   "metadata": {},
   "outputs": [
    {
     "data": {
      "text/plain": [
       "((170322, 180), (170322, 180))"
      ]
     },
     "execution_count": 56,
     "metadata": {},
     "output_type": "execute_result"
    }
   ],
   "source": [
    "left_test  = np.column_stack((np.array([0]*X_test.shape[0]),X_test[:,1:]))\n",
    "right_test = np.column_stack((X_test[:,:-1],np.array([0]*X_test.shape[0])))\n",
    "left_test.shape,right_test.shape"
   ]
  },
  {
   "cell_type": "code",
   "execution_count": 58,
   "metadata": {},
   "outputs": [
    {
     "name": "stdout",
     "output_type": "stream",
     "text": [
      "170322/170322 [==============================] - 640s 4ms/step\n",
      "evaluate on test set  [0.6210851892105415, 0.6513368795533445]\n"
     ]
    }
   ],
   "source": [
    "results = model.evaluate([X_test,left_test,right_test], y_test['male'].values,batch_size=256)\n",
    "print(\"evaluate on test set \",results)"
   ]
  },
  {
   "cell_type": "code",
   "execution_count": null,
   "metadata": {},
   "outputs": [],
   "source": []
  }
 ],
 "metadata": {
  "kernelspec": {
   "display_name": "Python 3",
   "language": "python",
   "name": "python3"
  },
  "language_info": {
   "codemirror_mode": {
    "name": "ipython",
    "version": 3
   },
   "file_extension": ".py",
   "mimetype": "text/x-python",
   "name": "python",
   "nbconvert_exporter": "python",
   "pygments_lexer": "ipython3",
   "version": "3.6.0"
  }
 },
 "nbformat": 4,
 "nbformat_minor": 2
}
