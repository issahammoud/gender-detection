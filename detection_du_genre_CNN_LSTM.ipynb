{
  "nbformat": 4,
  "nbformat_minor": 0,
  "metadata": {
    "colab": {
      "name": "detection_du_genre_CNN_FastText (1).ipynb",
      "version": "0.3.2",
      "provenance": [],
      "collapsed_sections": [],
      "toc_visible": true
    },
    "kernelspec": {
      "name": "python3",
      "display_name": "Python 3"
    },
    "accelerator": "GPU"
  },
  "cells": [
    {
      "metadata": {
        "id": "3BNur3tJ8lbO",
        "colab_type": "code",
        "outputId": "759f9af3-9d0a-48a0-ac40-2c9bacfbd323",
        "colab": {
          "base_uri": "https://localhost:8080/",
          "height": 35
        }
      },
      "cell_type": "code",
      "source": [
        "import numpy as np\n",
        "import re\n",
        "import itertools\n",
        "from collections import Counter\n",
        "import pandas as pd\n",
        "import os\n",
        "import zipfile\n",
        "import seaborn as sns\n",
        "import matplotlib.pyplot as plt\n",
        "\n",
        "import keras\n",
        "from keras import optimizers\n",
        "from keras import backend as K\n",
        "from keras import regularizers\n",
        "from keras.models import Sequential\n",
        "from keras.layers import Dense, Activation, Dropout, Flatten\n",
        "from keras.layers import Embedding, Conv1D, MaxPooling1D, GlobalMaxPooling1D ,LSTM,GRU,Bidirectional\n",
        "from keras.utils import plot_model\n",
        "from keras.preprocessing import sequence\n",
        "from keras.preprocessing.text import Tokenizer\n",
        "from keras.callbacks import EarlyStopping\n",
        "\n",
        "from tqdm import tqdm\n",
        "from nltk.corpus import stopwords\n",
        "from nltk.tokenize import RegexpTokenizer \n",
        "import math, codecs"
      ],
      "execution_count": 0,
      "outputs": [
        {
          "output_type": "stream",
          "text": [
            "Using TensorFlow backend.\n"
          ],
          "name": "stderr"
        }
      ]
    },
    {
      "metadata": {
        "id": "P5Mb88xtemVl",
        "colab_type": "code",
        "outputId": "b10424b9-f5ac-4547-8139-8fd3d1991596",
        "colab": {
          "base_uri": "https://localhost:8080/",
          "height": 237
        }
      },
      "cell_type": "code",
      "source": [
        "!wget https://s3-us-west-1.amazonaws.com/fasttext-vectors/crawl-300d-2M.vec.zip"
      ],
      "execution_count": 0,
      "outputs": [
        {
          "output_type": "stream",
          "text": [
            "--2019-03-04 16:49:12--  https://s3-us-west-1.amazonaws.com/fasttext-vectors/crawl-300d-2M.vec.zip\n",
            "Resolving s3-us-west-1.amazonaws.com (s3-us-west-1.amazonaws.com)... 52.219.116.1\n",
            "Connecting to s3-us-west-1.amazonaws.com (s3-us-west-1.amazonaws.com)|52.219.116.1|:443... connected.\n",
            "HTTP request sent, awaiting response... 200 OK\n",
            "Length: 1523785255 (1.4G) [application/zip]\n",
            "Saving to: ‘crawl-300d-2M.vec.zip’\n",
            "\n",
            "crawl-300d-2M.vec.z 100%[===================>]   1.42G  70.9MB/s    in 21s     \n",
            "\n",
            "2019-03-04 16:49:34 (69.1 MB/s) - ‘crawl-300d-2M.vec.zip’ saved [1523785255/1523785255]\n",
            "\n"
          ],
          "name": "stdout"
        }
      ]
    },
    {
      "metadata": {
        "id": "gLa1AXjCti_E",
        "colab_type": "code",
        "outputId": "25132626-e3be-44ad-d9c4-05ed36c7043b",
        "colab": {
          "base_uri": "https://localhost:8080/",
          "height": 54
        }
      },
      "cell_type": "code",
      "source": [
        "!unzip crawl-300d-2M.vec.zip"
      ],
      "execution_count": 0,
      "outputs": [
        {
          "output_type": "stream",
          "text": [
            "Archive:  crawl-300d-2M.vec.zip\n",
            "  inflating: crawl-300d-2M.vec       \n"
          ],
          "name": "stdout"
        }
      ]
    },
    {
      "metadata": {
        "id": "rtxBTSjeh8sA",
        "colab_type": "code",
        "outputId": "580c6655-4997-40fa-80de-006c27242457",
        "colab": {
          "base_uri": "https://localhost:8080/",
          "height": 72
        }
      },
      "cell_type": "code",
      "source": [
        "#load embeddings\n",
        "print('loading word embeddings...')\n",
        "embeddings_index = {}\n",
        "f = codecs.open('crawl-300d-2M.vec', encoding='utf-8')\n",
        "for line in tqdm(f):\n",
        "    values = line.rstrip().rsplit(' ')\n",
        "    word = values[0]\n",
        "    coefs = np.asarray(values[1:], dtype='float32')\n",
        "    embeddings_index[word] = coefs\n",
        "f.close()\n",
        "print('found %s word vectors' % len(embeddings_index))"
      ],
      "execution_count": 0,
      "outputs": [
        {
          "output_type": "stream",
          "text": [
            "886it [00:00, 8857.33it/s]"
          ],
          "name": "stderr"
        },
        {
          "output_type": "stream",
          "text": [
            "loading word embeddings...\n"
          ],
          "name": "stdout"
        },
        {
          "output_type": "stream",
          "text": [
            "1999996it [03:54, 8521.43it/s]"
          ],
          "name": "stderr"
        },
        {
          "output_type": "stream",
          "text": [
            "found 1999996 word vectors\n"
          ],
          "name": "stdout"
        },
        {
          "output_type": "stream",
          "text": [
            "\n"
          ],
          "name": "stderr"
        }
      ]
    },
    {
      "metadata": {
        "id": "fRCSz-nt9dIH",
        "colab_type": "code",
        "colab": {}
      },
      "cell_type": "code",
      "source": [
        "def load_data_and_labels():\n",
        "    \"\"\"\n",
        "    Loads  data from internet and generates labels.\n",
        "    Returns  sentences and labels.\n",
        "    \"\"\"\n",
        "    # Load data from internet\n",
        "    if('blogs.zip' not in os.listdir()):\n",
        "        !curl 'http://u.cs.biu.ac.il/~koppel/blogs/blogs.zip' -H 'Connection: keep-alive' -H 'Upgrade-Insecure-Requests: 1' -H 'User-Agent: Mozilla/5.0 (X11; Linux x86_64) AppleWebKit/537.36 (KHTML, like Gecko) Chrome/70.0.3538.77 Safari/537.36' -H 'Accept: text/html,application/xhtml+xml,application/xml;q=0.9,image/webp,image/apng,*/*;q=0.8' -H 'Referer: http://u.cs.biu.ac.il/~koppel/BlogCorpus.htm' -H 'Accept-Encoding: gzip, deflate' -H 'Accept-Language: en-US,en;q=0.9' --compressed --output blogs.zip\n",
        "        with zipfile.ZipFile('blogs.zip', 'r') as zip_ref:\n",
        "            zip_ref.extractall('./')\n",
        "    bloggers = os.listdir('blogs/')\n",
        "    idx = []\n",
        "    gender = []\n",
        "    age = []\n",
        "    industry = []\n",
        "    astrologic = []\n",
        "    dates = []\n",
        "    posts = []\n",
        "    path = 'blogs/'\n",
        "    for blogger in bloggers:\n",
        "\n",
        "        try:\n",
        "\n",
        "            f = open(path+blogger,'r',encoding=\"utf-8\")\n",
        "            xml = f.read()\n",
        "\n",
        "        except UnicodeDecodeError:\n",
        "\n",
        "            f = open(path+blogger,'r',encoding=\"latin-1\")\n",
        "            xml = f.read()\n",
        "\n",
        "        posts += re.findall('<post.*?>(.*?)</post>',xml,flags=re.DOTALL)\n",
        "\n",
        "        dates += re.findall('<date.*?>(.*?)</date>',xml,flags=re.DOTALL)\n",
        "\n",
        "        nb_posts = len(re.findall('<post.*?>(.*?)</post>',xml,flags=re.DOTALL))\n",
        "\n",
        "        tmp = blogger.split(\".\")\n",
        "\n",
        "        idx        += [tmp[0]]*nb_posts\n",
        "        gender     += [tmp[1]]*nb_posts\n",
        "        age        += [tmp[2]]*nb_posts\n",
        "        industry   += [tmp[3]]*nb_posts\n",
        "        astrologic += [tmp[4]]*nb_posts\n",
        "    dico = {'id':idx,\n",
        "        'gender':gender,\n",
        "        'age':age,\n",
        "        'industry':industry,\n",
        "        'astrologic':astrologic,\n",
        "        'post':posts,\n",
        "        'date':dates}\n",
        "\n",
        "    data = pd.DataFrame.from_dict(dico)\n",
        "    corpus = data#[0:100000]\n",
        "    male_exemples = corpus[corpus['gender']=='male']['post']\n",
        "    female_exemples = corpus[corpus['gender']=='female']['post']\n",
        "    x_text = pd.concat([male_exemples , female_exemples])\n",
        "    male_labels = [[0] for _ in male_exemples]\n",
        "    female_labels = [[1] for _ in female_exemples]\n",
        "    y = np.concatenate([male_labels, female_labels], 0)\n",
        "    return [x_text, y]\n"
      ],
      "execution_count": 0,
      "outputs": []
    },
    {
      "metadata": {
        "id": "OYhziRw2ATNc",
        "colab_type": "code",
        "colab": {}
      },
      "cell_type": "code",
      "source": [
        "sns.set_style(\"whitegrid\")\n",
        "np.random.seed(0)"
      ],
      "execution_count": 0,
      "outputs": []
    },
    {
      "metadata": {
        "id": "EoC_eEAMBYLl",
        "colab_type": "code",
        "outputId": "29a681e5-7953-483a-b9e8-2e8d78f58ace",
        "colab": {
          "base_uri": "https://localhost:8080/",
          "height": 72
        }
      },
      "cell_type": "code",
      "source": [
        "import nltk\n",
        "nltk.download('stopwords')"
      ],
      "execution_count": 0,
      "outputs": [
        {
          "output_type": "stream",
          "text": [
            "[nltk_data] Downloading package stopwords to /root/nltk_data...\n",
            "[nltk_data]   Unzipping corpora/stopwords.zip.\n"
          ],
          "name": "stdout"
        },
        {
          "output_type": "execute_result",
          "data": {
            "text/plain": [
              "True"
            ]
          },
          "metadata": {
            "tags": []
          },
          "execution_count": 7
        }
      ]
    },
    {
      "metadata": {
        "id": "FHHEQuFjAVhL",
        "colab_type": "code",
        "colab": {}
      },
      "cell_type": "code",
      "source": [
        "MAX_NB_WORDS = 100000\n",
        "stop_words = set(stopwords.words('english'))\n",
        "stop_words.update(['.', ',', '\"', \"'\", ':', ';', '(', ')', '[', ']', '{', '}'])"
      ],
      "execution_count": 0,
      "outputs": []
    },
    {
      "metadata": {
        "id": "wQqrLpn1HQcb",
        "colab_type": "code",
        "outputId": "6412e1ad-0cfe-4adc-e4c1-2a47969f09c2",
        "colab": {
          "base_uri": "https://localhost:8080/",
          "height": 90
        }
      },
      "cell_type": "code",
      "source": [
        "from subprocess import check_output\n",
        "print(check_output([\"ls\", \".\"]).decode(\"utf8\"))"
      ],
      "execution_count": 0,
      "outputs": [
        {
          "output_type": "stream",
          "text": [
            "crawl-300d-2M.vec\n",
            "crawl-300d-2M.vec.zip\n",
            "sample_data\n",
            "\n"
          ],
          "name": "stdout"
        }
      ]
    },
    {
      "metadata": {
        "id": "K7cJioH_MCpp",
        "colab_type": "code",
        "outputId": "7ba7904b-b4a4-4a7d-d6cc-d084a83df236",
        "colab": {
          "base_uri": "https://localhost:8080/",
          "height": 72
        }
      },
      "cell_type": "code",
      "source": [
        "sentences,labels = load_data_and_labels()"
      ],
      "execution_count": 0,
      "outputs": [
        {
          "output_type": "stream",
          "text": [
            "  % Total    % Received % Xferd  Average Speed   Time    Time     Time  Current\n",
            "                                 Dload  Upload   Total   Spent    Left  Speed\n",
            "100  298M  100  298M    0     0   301k      0  0:16:55  0:16:55 --:--:--  305k\n"
          ],
          "name": "stdout"
        }
      ]
    },
    {
      "metadata": {
        "id": "yRQwVvc6HWoX",
        "colab_type": "code",
        "outputId": "53e3ee56-2027-4beb-f782-0bd2275295ee",
        "colab": {
          "base_uri": "https://localhost:8080/",
          "height": 35
        }
      },
      "cell_type": "code",
      "source": [
        "print(\"number of examples: \", sentences.shape[0])"
      ],
      "execution_count": 0,
      "outputs": [
        {
          "output_type": "stream",
          "text": [
            "number of examples:  681288\n"
          ],
          "name": "stdout"
        }
      ]
    },
    {
      "metadata": {
        "id": "A1YFgsY5NOlX",
        "colab_type": "code",
        "outputId": "558150ae-f6b4-4b21-8834-8888f794b968",
        "colab": {
          "base_uri": "https://localhost:8080/",
          "height": 35
        }
      },
      "cell_type": "code",
      "source": [
        "word_len_dist = pd.Series([len(words.split(\" \")) for words in sentences])\n",
        "max_seq_len = np.round(word_len_dist.mean() + word_len_dist.std()).astype(int)\n",
        "print(\"The max length choisi: \", max_seq_len)"
      ],
      "execution_count": 0,
      "outputs": [
        {
          "output_type": "stream",
          "text": [
            "The max length choisi:  671\n"
          ],
          "name": "stdout"
        }
      ]
    },
    {
      "metadata": {
        "id": "85EVDGjcNov3",
        "colab_type": "code",
        "outputId": "cb782b8a-c18e-41e1-9edd-05640ead9784",
        "colab": {
          "base_uri": "https://localhost:8080/",
          "height": 437
        }
      },
      "cell_type": "code",
      "source": [
        "sns.distplot(word_len_dist[word_len_dist < 1000], hist=True, kde=True, color='b', label='doc len')\n",
        "plt.axvline(x=max_seq_len, color='k', linestyle='--', label='max len')\n",
        "plt.title('post length'); plt.legend()\n",
        "plt.show()"
      ],
      "execution_count": 0,
      "outputs": [
        {
          "output_type": "stream",
          "text": [
            "/usr/local/lib/python3.6/dist-packages/matplotlib/axes/_axes.py:6521: MatplotlibDeprecationWarning: \n",
            "The 'normed' kwarg was deprecated in Matplotlib 2.1 and will be removed in 3.1. Use 'density' instead.\n",
            "  alternative=\"'density'\", removal=\"3.1\")\n"
          ],
          "name": "stderr"
        },
        {
          "output_type": "display_data",
          "data": {
            "image/png": "[encoded data removed]",
            "text/plain": [
              "<Figure size 576x396 with 1 Axes>"
            ]
          },
          "metadata": {
            "tags": []
          }
        }
      ]
    },
    {
      "metadata": {
        "id": "VgA5kVcAsSmV",
        "colab_type": "code",
        "colab": {}
      },
      "cell_type": "code",
      "source": [
        "from nltk import WordNetLemmatizer\n",
        "from nltk import pos_tag, word_tokenize\n",
        "from nltk.stem import WordNetLemmatizer\n",
        "def lemmatize_all(sentence):\n",
        "    wnl = WordNetLemmatizer()\n",
        "    for word, tag in pos_tag(word_tokenize(sentence)):\n",
        "        if tag.startswith(\"NN\"):\n",
        "            yield wnl.lemmatize(word, pos='n')\n",
        "        elif tag.startswith('VB'):\n",
        "            yield wnl.lemmatize(word, pos='v')\n",
        "        elif tag.startswith('JJ'):\n",
        "            yield wnl.lemmatize(word, pos='a')\n",
        "        elif tag.startswith('R'):\n",
        "            yield wnl.lemmatize(word, pos='r')\n",
        "        else:\n",
        "            yield word"
      ],
      "execution_count": 0,
      "outputs": []
    },
    {
      "metadata": {
        "id": "C0o8tw5hN9rF",
        "colab_type": "code",
        "outputId": "cd32c8a8-b989-46f3-9b19-f44a4f173003",
        "colab": {
          "base_uri": "https://localhost:8080/",
          "height": 90
        }
      },
      "cell_type": "code",
      "source": [
        "# drop stops word\n",
        "tokenizer = RegexpTokenizer(r'\\w+')\n",
        "raw_docs_train = sentences.tolist()\n",
        "print(\"pre-processing train data...\")\n",
        "processed_docs_train = []\n",
        "for doc in tqdm(raw_docs_train):\n",
        "  tokens = tokenizer.tokenize(doc)\n",
        "  filtered = [word for word in tokens if word not in stop_words]\n",
        "  processed_docs_train.append(\" \".join(filtered))\n",
        "#end for\n",
        "# fit a keras Tokenizer\n",
        "print(\"tokenizing input data...\")\n",
        "tokenizer = Tokenizer(num_words=MAX_NB_WORDS, lower=True, char_level=False)\n",
        "tokenizer.fit_on_texts(processed_docs_train )  #leaky\n",
        "word_seq_train = tokenizer.texts_to_sequences(processed_docs_train)\n",
        "word_index = tokenizer.word_index\n",
        "print(\"dictionary size: \", len(word_index))"
      ],
      "execution_count": 0,
      "outputs": [
        {
          "output_type": "stream",
          "text": [
            "  0%|          | 1502/681288 [00:00<00:45, 15009.03it/s]"
          ],
          "name": "stderr"
        },
        {
          "output_type": "stream",
          "text": [
            "pre-processing train data...\n"
          ],
          "name": "stdout"
        },
        {
          "output_type": "stream",
          "text": [
            "100%|██████████| 681288/681288 [00:53<00:00, 12827.61it/s]\n"
          ],
          "name": "stderr"
        },
        {
          "output_type": "stream",
          "text": [
            "tokenizing input data...\n",
            "dictionary size:  720125\n"
          ],
          "name": "stdout"
        }
      ]
    },
    {
      "metadata": {
        "id": "ijtJPUvuRCp1",
        "colab_type": "code",
        "colab": {}
      },
      "cell_type": "code",
      "source": [
        "word_seq_train = sequence.pad_sequences(word_seq_train, maxlen=max_seq_len)"
      ],
      "execution_count": 0,
      "outputs": []
    },
    {
      "metadata": {
        "id": "R6a5x5Uo9qqJ",
        "colab_type": "code",
        "colab": {}
      },
      "cell_type": "code",
      "source": [
        "from sklearn.model_selection import train_test_split\n",
        "X_train, X_test, y_train, y_test = train_test_split(word_seq_train, labels, test_size=0.2, random_state=42)"
      ],
      "execution_count": 0,
      "outputs": []
    },
    {
      "metadata": {
        "id": "gSfHFveIRGLD",
        "colab_type": "code",
        "colab": {}
      },
      "cell_type": "code",
      "source": [
        "batch_size = 256 \n",
        "num_epochs = 5\n",
        "\n",
        "#model parameters\n",
        "num_filters = 64 \n",
        "embed_dim = 300 \n",
        "weight_decay = 1e-5\n",
        "nb_words = min(MAX_NB_WORDS, len(word_index))"
      ],
      "execution_count": 0,
      "outputs": []
    },
    {
      "metadata": {
        "id": "QK5PXfBsTLCw",
        "colab_type": "code",
        "outputId": "e52d79f5-8b24-48a8-908e-4349eeed483a",
        "colab": {
          "base_uri": "https://localhost:8080/",
          "height": 54
        }
      },
      "cell_type": "code",
      "source": [
        "#embedding matrix\n",
        "print('preparing embedding matrix...')\n",
        "words_not_found = []\n",
        "embedding_matrix = np.zeros((nb_words+1, embed_dim))\n",
        "for word, i in word_index.items():\n",
        "    if i >= nb_words:\n",
        "        continue\n",
        "    embedding_vector = embeddings_index.get(word)\n",
        "    if (embedding_vector is not None) and len(embedding_vector) > 0:\n",
        "        # words not found in embedding index will be all-zeros.\n",
        "        embedding_matrix[i] = embedding_vector\n",
        "    else:\n",
        "        words_not_found.append(word)\n",
        "\n",
        "print('number of null word embeddings: %d' % np.sum(np.sum(embedding_matrix, axis=1) == 0))"
      ],
      "execution_count": 0,
      "outputs": [
        {
          "output_type": "stream",
          "text": [
            "preparing embedding matrix...\n",
            "number of null word embeddings: 11088\n"
          ],
          "name": "stdout"
        }
      ]
    },
    {
      "metadata": {
        "id": "UZkwLqxuhDt2",
        "colab_type": "code",
        "outputId": "920367df-6dbf-4ef5-d5ed-6093ccb60169",
        "colab": {
          "base_uri": "https://localhost:8080/",
          "height": 74
        }
      },
      "cell_type": "code",
      "source": [
        "print(\"sample words not found: \", np.random.choice(words_not_found, 10))\n"
      ],
      "execution_count": 0,
      "outputs": [
        {
          "output_type": "stream",
          "text": [
            "sample words not found:  ['àï' 'àò' 'å³¹' 'ronathon2000' 'nietzche' 'kikikikikiki' 'alwahab' 'n0e'\n",
            " 'gibo' 'agghh']\n"
          ],
          "name": "stdout"
        }
      ]
    },
    {
      "metadata": {
        "id": "Sxzt6SmJnsnf",
        "colab_type": "text"
      },
      "cell_type": "markdown",
      "source": [
        "# FastText Embeddings\n",
        "\n",
        "\n"
      ]
    },
    {
      "metadata": {
        "id": "fPQe4_E87g0D",
        "colab_type": "code",
        "outputId": "38b5a13d-84fa-4245-821d-848dea169aa5",
        "colab": {
          "base_uri": "https://localhost:8080/",
          "height": 910
        }
      },
      "cell_type": "code",
      "source": [
        "#CNN architecture\n",
        "print(\"training CNN ...\")\n",
        "model = Sequential()\n",
        "model.add(Embedding(nb_words+1, embed_dim,\n",
        "           input_length=max_seq_len , weights=[embedding_matrix]#, trainable=False\n",
        "           ))\n",
        "model.add(Conv1D(128,kernel_size=7,padding='same',activation='relu'))\n",
        "model.add(MaxPooling1D(pool_size=2))\n",
        "model.add(Dropout(0.3))\n",
        "model.add(Conv1D(128,kernel_size=7,padding='same',activation='relu'))\n",
        "model.add(MaxPooling1D(pool_size=2))\n",
        "model.add(Dropout(0.35))\n",
        "model.add(Conv1D(128,kernel_size=7,padding='same',activation='relu'))\n",
        "model.add(MaxPooling1D(pool_size=2))\n",
        "model.add(Dropout(0.4))\n",
        "#model.add(LSTM(100,return_sequences=True))\n",
        "model.add(Bidirectional(GRU(100, return_sequences = True)))\n",
        "model.add(Dropout(0.45))\n",
        "model.add(Bidirectional(GRU(100, return_sequences = False)))\n",
        "model.add(Dropout(0.45))\n",
        "#model.add(Flatten())\n",
        "model.add(Dense(60,activation='relu', kernel_regularizer=regularizers.l2(0.03) ))\n",
        "model.add(Dropout(0.45))\n",
        "model.add(Dense(1,activation='sigmoid', kernel_regularizer=regularizers.l2(0.02) ))  \n",
        "model.compile(loss='binary_crossentropy', optimizer='rmsprop', metrics=['accuracy'])\n",
        "model.summary()"
      ],
      "execution_count": 0,
      "outputs": [
        {
          "output_type": "stream",
          "text": [
            "training CNN ...\n",
            "WARNING:tensorflow:From /usr/local/lib/python3.6/dist-packages/tensorflow/python/framework/op_def_library.py:263: colocate_with (from tensorflow.python.framework.ops) is deprecated and will be removed in a future version.\n",
            "Instructions for updating:\n",
            "Colocations handled automatically by placer.\n",
            "WARNING:tensorflow:From /usr/local/lib/python3.6/dist-packages/keras/backend/tensorflow_backend.py:3445: calling dropout (from tensorflow.python.ops.nn_ops) with keep_prob is deprecated and will be removed in a future version.\n",
            "Instructions for updating:\n",
            "Please use `rate` instead of `keep_prob`. Rate should be set to `rate = 1 - keep_prob`.\n",
            "_________________________________________________________________\n",
            "Layer (type)                 Output Shape              Param #   \n",
            "=================================================================\n",
            "embedding_1 (Embedding)      (None, 671, 300)          30000300  \n",
            "_________________________________________________________________\n",
            "conv1d_1 (Conv1D)            (None, 671, 128)          268928    \n",
            "_________________________________________________________________\n",
            "max_pooling1d_1 (MaxPooling1 (None, 335, 128)          0         \n",
            "_________________________________________________________________\n",
            "dropout_1 (Dropout)          (None, 335, 128)          0         \n",
            "_________________________________________________________________\n",
            "conv1d_2 (Conv1D)            (None, 335, 128)          114816    \n",
            "_________________________________________________________________\n",
            "max_pooling1d_2 (MaxPooling1 (None, 167, 128)          0         \n",
            "_________________________________________________________________\n",
            "dropout_2 (Dropout)          (None, 167, 128)          0         \n",
            "_________________________________________________________________\n",
            "conv1d_3 (Conv1D)            (None, 167, 128)          114816    \n",
            "_________________________________________________________________\n",
            "max_pooling1d_3 (MaxPooling1 (None, 83, 128)           0         \n",
            "_________________________________________________________________\n",
            "dropout_3 (Dropout)          (None, 83, 128)           0         \n",
            "_________________________________________________________________\n",
            "bidirectional_1 (Bidirection (None, 83, 200)           137400    \n",
            "_________________________________________________________________\n",
            "dropout_4 (Dropout)          (None, 83, 200)           0         \n",
            "_________________________________________________________________\n",
            "bidirectional_2 (Bidirection (None, 200)               180600    \n",
            "_________________________________________________________________\n",
            "dropout_5 (Dropout)          (None, 200)               0         \n",
            "_________________________________________________________________\n",
            "dense_1 (Dense)              (None, 60)                12060     \n",
            "_________________________________________________________________\n",
            "dropout_6 (Dropout)          (None, 60)                0         \n",
            "_________________________________________________________________\n",
            "dense_2 (Dense)              (None, 1)                 61        \n",
            "=================================================================\n",
            "Total params: 30,828,981\n",
            "Trainable params: 30,828,981\n",
            "Non-trainable params: 0\n",
            "_________________________________________________________________\n"
          ],
          "name": "stdout"
        }
      ]
    },
    {
      "metadata": {
        "id": "_Nw0-w1Oi1K9",
        "colab_type": "code",
        "colab": {}
      },
      "cell_type": "code",
      "source": [
        "early_stopping = EarlyStopping(monitor='val_loss', min_delta=0.01, patience=4, verbose=1)\n",
        "callbacks_list = [early_stopping]"
      ],
      "execution_count": 0,
      "outputs": []
    },
    {
      "metadata": {
        "id": "i_H9F-_v8bR8",
        "colab_type": "code",
        "outputId": "82f2b154-24c2-4f50-8c4a-b30136b0d4d1",
        "colab": {
          "base_uri": "https://localhost:8080/",
          "height": 165
        }
      },
      "cell_type": "code",
      "source": [
        "hist = model.fit(X_train, y_train, batch_size=batch_size, epochs=num_epochs, callbacks=callbacks_list,validation_split=0.1, shuffle=True)"
      ],
      "execution_count": 0,
      "outputs": [
        {
          "output_type": "stream",
          "text": [
            "Train on 490527 samples, validate on 54503 samples\n",
            "Epoch 1/5\n",
            "490527/490527 [==============================] - 3329s 7ms/step - loss: 0.7521 - acc: 0.6731 - val_loss: 0.6060 - val_acc: 0.6985\n",
            "Epoch 2/5\n",
            "490527/490527 [==============================] - 3303s 7ms/step - loss: 0.5823 - acc: 0.7253 - val_loss: 0.5892 - val_acc: 0.7137\n",
            "Epoch 3/5\n",
            "  3072/490527 [..............................] - ETA: 53:34 - loss: 0.5374 - acc: 0.7630"
          ],
          "name": "stdout"
        }
      ]
    },
    {
      "metadata": {
        "id": "ibIWcvQc8f85",
        "colab_type": "code",
        "outputId": "95c3e782-9147-4e42-aa0a-59c58cc06a85",
        "colab": {
          "base_uri": "https://localhost:8080/",
          "height": 376
        }
      },
      "cell_type": "code",
      "source": [
        "#generate plots\n",
        "plt.figure()\n",
        "plt.plot(hist.history['loss'], lw=2.0, color='b', label='train')\n",
        "plt.plot(hist.history['val_loss'], lw=2.0, color='r', label='val')\n",
        "plt.title('CNN sentiment')\n",
        "plt.xlabel('Epochs')\n",
        "plt.ylabel('Cross-Entropy Loss')\n",
        "plt.legend(loc='upper right')\n",
        "plt.show()"
      ],
      "execution_count": 0,
      "outputs": [
        {
          "output_type": "display_data",
          "data": {
            "image/png": "[encoded data removed]",
            "text/plain": [
              "<Figure size 576x396 with 1 Axes>"
            ]
          },
          "metadata": {
            "tags": []
          }
        }
      ]
    },
    {
      "metadata": {
        "id": "UeX3WpAIGDeD",
        "colab_type": "code",
        "outputId": "dc2408f5-7287-4508-a4ee-24f3e8a950ea",
        "colab": {
          "base_uri": "https://localhost:8080/",
          "height": 376
        }
      },
      "cell_type": "code",
      "source": [
        "plt.figure()\n",
        "plt.plot(hist.history['acc'], lw=2.0, color='b', label='train')\n",
        "plt.plot(hist.history['val_acc'], lw=2.0, color='r', label='val')\n",
        "plt.title('CNN sentiment')\n",
        "plt.xlabel('Epochs')\n",
        "plt.ylabel('Accuracy')\n",
        "plt.legend(loc='upper left')\n",
        "plt.show()"
      ],
      "execution_count": 0,
      "outputs": [
        {
          "output_type": "display_data",
          "data": {
            "image/png": "[encoded data removed]",
            "text/plain": [
              "<Figure size 576x396 with 1 Axes>"
            ]
          },
          "metadata": {
            "tags": []
          }
        }
      ]
    },
    {
      "metadata": {
        "id": "ouwNfDqG8qNy",
        "colab_type": "code",
        "outputId": "c3401941-38e8-4f06-e61d-44927920304c",
        "colab": {
          "base_uri": "https://localhost:8080/",
          "height": 54
        }
      },
      "cell_type": "code",
      "source": [
        "results = model.evaluate(X_test, y_test)\n",
        "print(\"%s: %.2f%%\" % (model.metrics_names[1], results[1]*100))"
      ],
      "execution_count": 0,
      "outputs": [
        {
          "output_type": "stream",
          "text": [
            "136258/136258 [==============================] - 1008s 7ms/step\n",
            "acc: 72.19%\n"
          ],
          "name": "stdout"
        }
      ]
    },
    {
      "metadata": {
        "id": "QyIIr051R5vr",
        "colab_type": "code",
        "colab": {}
      },
      "cell_type": "code",
      "source": [
        "y_pred = model.predict(X_test)"
      ],
      "execution_count": 0,
      "outputs": []
    },
    {
      "metadata": {
        "id": "yZNs1u-d850r",
        "colab_type": "code",
        "outputId": "75610429-4fa8-4480-9f7e-3361a4848e3a",
        "colab": {
          "base_uri": "https://localhost:8080/",
          "height": 35
        }
      },
      "cell_type": "code",
      "source": [
        "from sklearn.metrics import accuracy_score\n",
        "accuracy_score(np.squeeze(np.round(y_pred)),np.squeeze(y_test))"
      ],
      "execution_count": 0,
      "outputs": [
        {
          "output_type": "execute_result",
          "data": {
            "text/plain": [
              "0.7205154926683204"
            ]
          },
          "metadata": {
            "tags": []
          },
          "execution_count": 30
        }
      ]
    },
    {
      "metadata": {
        "id": "2kb71mOVUrSW",
        "colab_type": "code",
        "colab": {}
      },
      "cell_type": "code",
      "source": [
        ""
      ],
      "execution_count": 0,
      "outputs": []
    },
    {
      "metadata": {
        "id": "5x7BBmid7evR",
        "colab_type": "code",
        "colab": {}
      },
      "cell_type": "code",
      "source": [
        ""
      ],
      "execution_count": 0,
      "outputs": []
    },
    {
      "metadata": {
        "id": "5u3r-0oi7fky",
        "colab_type": "text"
      },
      "cell_type": "markdown",
      "source": [
        "# CNN -LSTM\n"
      ]
    },
    {
      "metadata": {
        "id": "6y_wzKwuhFCp",
        "colab_type": "code",
        "outputId": "de589e2f-4e10-46bd-e22d-bc4561b848f8",
        "colab": {
          "base_uri": "https://localhost:8080/",
          "height": 697
        }
      },
      "cell_type": "code",
      "source": [
        "#CNN architecture\n",
        "print(\"training CNN ...\")\n",
        "model = Sequential()\n",
        "model.add(Embedding(nb_words+1, embed_dim,\n",
        "           input_length=max_seq_len #, weights=[embedding_matrix], trainable=False\n",
        "           ))\n",
        "model.add(Conv1D(128,kernel_size=7,padding='same',activation='relu'))\n",
        "model.add(MaxPooling1D(pool_size=2))\n",
        "model.add(Dropout(0.3))\n",
        "model.add(Conv1D(128,kernel_size=7,padding='same',activation='relu'))\n",
        "model.add(MaxPooling1D(pool_size=2))\n",
        "model.add(Dropout(0.35))\n",
        "model.add(Conv1D(128,kernel_size=7,padding='same',activation='relu'))\n",
        "model.add(MaxPooling1D(pool_size=2))\n",
        "model.add(Dropout(0.4))\n",
        "model.add(LSTM(100,return_sequences=True))\n",
        "model.add(Dropout(0.25))\n",
        "model.add(Flatten())\n",
        "model.add(Dense(128,activation='relu'))\n",
        "model.add(Dropout(0.45))\n",
        "model.add(Dense(1,activation='sigmoid'))  \n",
        "model.compile(loss='binary_crossentropy', optimizer='rmsprop', metrics=['accuracy'])\n",
        "model.summary()"
      ],
      "execution_count": 0,
      "outputs": [
        {
          "output_type": "stream",
          "text": [
            "training CNN ...\n",
            "_________________________________________________________________\n",
            "Layer (type)                 Output Shape              Param #   \n",
            "=================================================================\n",
            "embedding_3 (Embedding)      (None, 671, 300)          30000300  \n",
            "_________________________________________________________________\n",
            "conv1d_7 (Conv1D)            (None, 671, 64)           134464    \n",
            "_________________________________________________________________\n",
            "max_pooling1d_7 (MaxPooling1 (None, 335, 64)           0         \n",
            "_________________________________________________________________\n",
            "dropout_11 (Dropout)         (None, 335, 64)           0         \n",
            "_________________________________________________________________\n",
            "conv1d_8 (Conv1D)            (None, 335, 128)          57472     \n",
            "_________________________________________________________________\n",
            "max_pooling1d_8 (MaxPooling1 (None, 167, 128)          0         \n",
            "_________________________________________________________________\n",
            "dropout_12 (Dropout)         (None, 167, 128)          0         \n",
            "_________________________________________________________________\n",
            "conv1d_9 (Conv1D)            (None, 167, 128)          114816    \n",
            "_________________________________________________________________\n",
            "max_pooling1d_9 (MaxPooling1 (None, 83, 128)           0         \n",
            "_________________________________________________________________\n",
            "dropout_13 (Dropout)         (None, 83, 128)           0         \n",
            "_________________________________________________________________\n",
            "lstm_1 (LSTM)                (None, 83, 100)           91600     \n",
            "_________________________________________________________________\n",
            "dropout_14 (Dropout)         (None, 83, 100)           0         \n",
            "_________________________________________________________________\n",
            "flatten_3 (Flatten)          (None, 8300)              0         \n",
            "_________________________________________________________________\n",
            "dense_5 (Dense)              (None, 128)               1062528   \n",
            "_________________________________________________________________\n",
            "dropout_15 (Dropout)         (None, 128)               0         \n",
            "_________________________________________________________________\n",
            "dense_6 (Dense)              (None, 1)                 129       \n",
            "=================================================================\n",
            "Total params: 31,461,309\n",
            "Trainable params: 31,461,309\n",
            "Non-trainable params: 0\n",
            "_________________________________________________________________\n"
          ],
          "name": "stdout"
        }
      ]
    },
    {
      "metadata": {
        "id": "k2b1kPSX8YsG",
        "colab_type": "code",
        "colab": {}
      },
      "cell_type": "code",
      "source": [
        "early_stopping = EarlyStopping(monitor='val_loss', min_delta=0.01, patience=4, verbose=1)\n",
        "callbacks_list = [early_stopping]"
      ],
      "execution_count": 0,
      "outputs": []
    },
    {
      "metadata": {
        "id": "rLSeCW0ojGiw",
        "colab_type": "code",
        "outputId": "ed4201ed-0321-4c79-f588-68343f158a53",
        "colab": {
          "base_uri": "https://localhost:8080/",
          "height": 204
        }
      },
      "cell_type": "code",
      "source": [
        "hist = model.fit(X_train, y_train, batch_size=batch_size, epochs=num_epochs, callbacks=callbacks_list,validation_split=0.1, shuffle=True)"
      ],
      "execution_count": 0,
      "outputs": [
        {
          "output_type": "stream",
          "text": [
            "Train on 490527 samples, validate on 54503 samples\n",
            "Epoch 1/5\n",
            "490527/490527 [==============================] - 660s 1ms/step - loss: 0.5904 - acc: 0.6800 - val_loss: 0.6120 - val_acc: 0.6959\n",
            "Epoch 2/5\n",
            "490527/490527 [==============================] - 657s 1ms/step - loss: 0.5319 - acc: 0.7297 - val_loss: 0.5537 - val_acc: 0.7099\n",
            "Epoch 3/5\n",
            "490527/490527 [==============================] - 660s 1ms/step - loss: 0.4963 - acc: 0.7560 - val_loss: 0.5523 - val_acc: 0.7146\n",
            "Epoch 4/5\n",
            "490527/490527 [==============================] - 660s 1ms/step - loss: 0.4562 - acc: 0.7831 - val_loss: 0.5591 - val_acc: 0.7110\n",
            "Epoch 5/5\n",
            "490527/490527 [==============================] - 663s 1ms/step - loss: 0.4148 - acc: 0.8089 - val_loss: 0.5530 - val_acc: 0.7096\n"
          ],
          "name": "stdout"
        }
      ]
    },
    {
      "metadata": {
        "id": "ImKrzqIEjQKJ",
        "colab_type": "code",
        "outputId": "6329ae6b-690c-40fb-e382-111826b962a6",
        "colab": {
          "base_uri": "https://localhost:8080/",
          "height": 376
        }
      },
      "cell_type": "code",
      "source": [
        "#generate plots\n",
        "plt.figure()\n",
        "plt.plot(hist.history['loss'], lw=2.0, color='b', label='train')\n",
        "plt.plot(hist.history['val_loss'], lw=2.0, color='r', label='val')\n",
        "plt.title('CNN sentiment')\n",
        "plt.xlabel('Epochs')\n",
        "plt.ylabel('Cross-Entropy Loss')\n",
        "plt.legend(loc='upper right')\n",
        "plt.show()"
      ],
      "execution_count": 0,
      "outputs": [
        {
          "output_type": "display_data",
          "data": {
            "image/png": "[encoded data removed]",
            "text/plain": [
              "<Figure size 576x396 with 1 Axes>"
            ]
          },
          "metadata": {
            "tags": []
          }
        }
      ]
    },
    {
      "metadata": {
        "id": "N8talPk5juTU",
        "colab_type": "code",
        "colab": {}
      },
      "cell_type": "code",
      "source": [
        "plt.figure()\n",
        "plt.plot(hist.history['acc'], lw=2.0, color='b', label='train')\n",
        "plt.plot(hist.history['val_acc'], lw=2.0, color='r', label='val')\n",
        "plt.title('CNN sentiment')\n",
        "plt.xlabel('Epochs')\n",
        "plt.ylabel('Accuracy')\n",
        "plt.legend(loc='upper left')\n",
        "plt.show()"
      ],
      "execution_count": 0,
      "outputs": []
    },
    {
      "metadata": {
        "id": "Fn4ieKnV5rZk",
        "colab_type": "code",
        "outputId": "3cc92f78-068a-4111-8824-4985e1fa5c90",
        "colab": {
          "base_uri": "https://localhost:8080/",
          "height": 51
        }
      },
      "cell_type": "code",
      "source": [
        "results = model.evaluate(X_test, y_test)\n",
        "print(\"%s: %.2f%%\" % (model.metrics_names[1], results[1]*100))"
      ],
      "execution_count": 0,
      "outputs": [
        {
          "output_type": "stream",
          "text": [
            "136258/136258 [==============================] - 289s 2ms/step\n",
            "acc: 70.92%\n"
          ],
          "name": "stdout"
        }
      ]
    },
    {
      "metadata": {
        "id": "UHp_9s7b8wBV",
        "colab_type": "code",
        "colab": {}
      },
      "cell_type": "code",
      "source": [
        "y_pred = model.predict(X_test)"
      ],
      "execution_count": 0,
      "outputs": []
    },
    {
      "metadata": {
        "id": "GRsFbcC4Qez5",
        "colab_type": "code",
        "outputId": "fb9cd589-bd0f-4731-9d83-037931f9b422",
        "colab": {
          "base_uri": "https://localhost:8080/",
          "height": 34
        }
      },
      "cell_type": "code",
      "source": [
        "from sklearn.metrics import accuracy_score\n",
        "accuracy_score(np.squeeze(np.round(y_pred)),np.squeeze(y_test))"
      ],
      "execution_count": 0,
      "outputs": [
        {
          "output_type": "execute_result",
          "data": {
            "text/plain": [
              "0.7092134039836193"
            ]
          },
          "metadata": {
            "tags": []
          },
          "execution_count": 60
        }
      ]
    }
  ]
}
