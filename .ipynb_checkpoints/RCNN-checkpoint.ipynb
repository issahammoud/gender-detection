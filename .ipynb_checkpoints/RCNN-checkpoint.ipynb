{
 "cells": [
  {
   "cell_type": "markdown",
   "metadata": {},
   "source": [
    "# Imports"
   ]
  },
  {
   "cell_type": "code",
   "execution_count": 1,
   "metadata": {},
   "outputs": [],
   "source": [
    "import os\n",
    "os.environ[\"CUDA_VISIBLE_DEVICES\"]=\"2\""
   ]
  },
  {
   "cell_type": "code",
   "execution_count": 2,
   "metadata": {},
   "outputs": [
    {
     "name": "stderr",
     "output_type": "stream",
     "text": [
      "Using TensorFlow backend.\n"
     ]
    }
   ],
   "source": [
    "import re\n",
    "import nltk\n",
    "import gzip\n",
    "import shutil\n",
    "import zipfile\n",
    "import numpy as np\n",
    "import pandas as pd\n",
    "import matplotlib.pyplot as plt\n",
    "import seaborn as sns\n",
    "from sklearn.model_selection import StratifiedShuffleSplit\n",
    "from sklearn.metrics import precision_recall_fscore_support\n",
    "from gensim.models.keyedvectors import KeyedVectors\n",
    "import keras\n",
    "from keras import backend\n",
    "from keras.preprocessing.text import Tokenizer\n",
    "from keras.preprocessing.sequence import pad_sequences\n",
    "from keras.models import Sequential, Model\n",
    "from keras.layers import Embedding, Flatten, Dense, Dropout, Input, LSTM, Lambda, Conv1D\n",
    "from keras import layers\n",
    "from keras.layers.merge import concatenate\n",
    "from keras import preprocessing"
   ]
  },
  {
   "cell_type": "markdown",
   "metadata": {},
   "source": [
    "# Download and extract the data"
   ]
  },
  {
   "cell_type": "code",
   "execution_count": 3,
   "metadata": {},
   "outputs": [],
   "source": [
    "if('blogs.zip' not in os.listdir()):\n",
    "    !curl 'http://u.cs.biu.ac.il/~koppel/blogs/blogs.zip' -H 'Connection: keep-alive' -H 'Upgrade-Insecure-Requests: 1' -H 'User-Agent: Mozilla/5.0 (X11; Linux x86_64) AppleWebKit/537.36 (KHTML, like Gecko) Chrome/70.0.3538.77 Safari/537.36' -H 'Accept: text/html,application/xhtml+xml,application/xml;q=0.9,image/webp,image/apng,*/*;q=0.8' -H 'Referer: http://u.cs.biu.ac.il/~koppel/BlogCorpus.htm' -H 'Accept-Encoding: gzip, deflate' -H 'Accept-Language: en-US,en;q=0.9' --compressed --output blogs.zip\n",
    "    with zipfile.ZipFile('blogs.zip', 'r') as zip_ref:\n",
    "        zip_ref.extractall('./')"
   ]
  },
  {
   "cell_type": "markdown",
   "metadata": {},
   "source": [
    "# Data cleaning and exploration"
   ]
  },
  {
   "cell_type": "code",
   "execution_count": 4,
   "metadata": {},
   "outputs": [
    {
     "name": "stdout",
     "output_type": "stream",
     "text": [
      "There are 19320 bloggers\n"
     ]
    }
   ],
   "source": [
    "bloggers = os.listdir('blogs/')\n",
    "print(\"There are {} bloggers\".format(len(bloggers)))"
   ]
  },
  {
   "cell_type": "code",
   "execution_count": 5,
   "metadata": {},
   "outputs": [
    {
     "name": "stdout",
     "output_type": "stream",
     "text": [
      "The set of tags in the xml files are: {'<Blog>', '<date>', '<post>'}\n"
     ]
    }
   ],
   "source": [
    "path = 'blogs/'\n",
    "\n",
    "stop_words = nltk.corpus.stopwords.words(\"english\")\n",
    "\n",
    "with open(path+bloggers[0],'r',encoding=\"utf-8\") as f:\n",
    "    xml = f.read()\n",
    "\n",
    "tags = set()\n",
    "l = re.findall('<[^/].*?>',xml)\n",
    "for el in l:\n",
    "    tags.add(el)\n",
    "print(\"The set of tags in the xml files are: {}\".format(tags))"
   ]
  },
  {
   "cell_type": "code",
   "execution_count": 6,
   "metadata": {},
   "outputs": [],
   "source": [
    "def data_2_frame(bloggers, sw = True):\n",
    "    \n",
    "    idx = []\n",
    "    gender = []\n",
    "    age = []\n",
    "    industry = []\n",
    "    astrologic = []\n",
    "    dates = []\n",
    "    posts = []\n",
    "        \n",
    "    for blogger in bloggers:\n",
    "\n",
    "        try:\n",
    "            \n",
    "            with open(path+blogger,'r',encoding=\"utf-8\") as f:\n",
    "         \n",
    "                xml = f.read()\n",
    "\n",
    "        except UnicodeDecodeError:\n",
    "\n",
    "            with open(path+blogger,'r',encoding=\"latin-1\") as f:\n",
    "                \n",
    "                xml = f.read()\n",
    "        \n",
    "        if(sw):\n",
    "            xml = re.sub(r'\\b(' + r'|'.join(stop_words) + r')\\b\\s*','', xml)\n",
    "            \n",
    "        temp = re.findall('<post.*?>(.*?)</post>',xml,flags=re.DOTALL)\n",
    "        \n",
    "        posts += temp\n",
    "        \n",
    "        dates += re.findall('<date.*?>(.*?)</date>',xml,flags=re.DOTALL)\n",
    "\n",
    "        nb_posts = len(temp)\n",
    "\n",
    "        tmp = blogger.split(\".\")\n",
    "\n",
    "        idx        += [tmp[0]]*nb_posts\n",
    "        gender     += [tmp[1]]*nb_posts\n",
    "        age        += [tmp[2]]*nb_posts\n",
    "        industry   += [tmp[3]]*nb_posts\n",
    "        astrologic += [tmp[4]]*nb_posts\n",
    "    \n",
    "    \n",
    "    dico = {'id':idx,\n",
    "        'gender':gender,\n",
    "        'age':age,\n",
    "        'industry':industry,\n",
    "        'astrologic':astrologic,\n",
    "        'post':posts,\n",
    "        'date':dates}\n",
    "\n",
    "    return pd.DataFrame.from_dict(dico)"
   ]
  },
  {
   "cell_type": "code",
   "execution_count": 7,
   "metadata": {},
   "outputs": [],
   "source": [
    "data = data_2_frame(bloggers,True)"
   ]
  },
  {
   "cell_type": "code",
   "execution_count": 8,
   "metadata": {},
   "outputs": [
    {
     "data": {
      "text/html": [
       "<div>\n",
       "<style scoped>\n",
       "    .dataframe tbody tr th:only-of-type {\n",
       "        vertical-align: middle;\n",
       "    }\n",
       "\n",
       "    .dataframe tbody tr th {\n",
       "        vertical-align: top;\n",
       "    }\n",
       "\n",
       "    .dataframe thead th {\n",
       "        text-align: right;\n",
       "    }\n",
       "</style>\n",
       "<table border=\"1\" class=\"dataframe\">\n",
       "  <thead>\n",
       "    <tr style=\"text-align: right;\">\n",
       "      <th></th>\n",
       "      <th>id</th>\n",
       "      <th>gender</th>\n",
       "      <th>age</th>\n",
       "      <th>industry</th>\n",
       "      <th>astrologic</th>\n",
       "      <th>post</th>\n",
       "      <th>date</th>\n",
       "    </tr>\n",
       "  </thead>\n",
       "  <tbody>\n",
       "    <tr>\n",
       "      <th>count</th>\n",
       "      <td>681288</td>\n",
       "      <td>681288</td>\n",
       "      <td>681288</td>\n",
       "      <td>681288</td>\n",
       "      <td>681288</td>\n",
       "      <td>681288</td>\n",
       "      <td>681288</td>\n",
       "    </tr>\n",
       "    <tr>\n",
       "      <th>unique</th>\n",
       "      <td>19320</td>\n",
       "      <td>2</td>\n",
       "      <td>26</td>\n",
       "      <td>40</td>\n",
       "      <td>12</td>\n",
       "      <td>612001</td>\n",
       "      <td>2616</td>\n",
       "    </tr>\n",
       "    <tr>\n",
       "      <th>top</th>\n",
       "      <td>449628</td>\n",
       "      <td>male</td>\n",
       "      <td>17</td>\n",
       "      <td>indUnk</td>\n",
       "      <td>Cancer</td>\n",
       "      <td>\\n\\n\\t \\n        urlLink   \\n</td>\n",
       "      <td>02,August,2004</td>\n",
       "    </tr>\n",
       "    <tr>\n",
       "      <th>freq</th>\n",
       "      <td>4221</td>\n",
       "      <td>345197</td>\n",
       "      <td>80859</td>\n",
       "      <td>251015</td>\n",
       "      <td>65048</td>\n",
       "      <td>399</td>\n",
       "      <td>16545</td>\n",
       "    </tr>\n",
       "  </tbody>\n",
       "</table>\n",
       "</div>"
      ],
      "text/plain": [
       "            id  gender     age industry astrologic  \\\n",
       "count   681288  681288  681288   681288     681288   \n",
       "unique   19320       2      26       40         12   \n",
       "top     449628    male      17   indUnk     Cancer   \n",
       "freq      4221  345197   80859   251015      65048   \n",
       "\n",
       "                                 post            date  \n",
       "count                          681288          681288  \n",
       "unique                         612001            2616  \n",
       "top     \\n\\n\\t \\n        urlLink   \\n  02,August,2004  \n",
       "freq                              399           16545  "
      ]
     },
     "execution_count": 8,
     "metadata": {},
     "output_type": "execute_result"
    }
   ],
   "source": [
    "data.describe()"
   ]
  },
  {
   "cell_type": "code",
   "execution_count": 9,
   "metadata": {},
   "outputs": [
    {
     "data": {
      "text/html": [
       "<div>\n",
       "<style scoped>\n",
       "    .dataframe tbody tr th:only-of-type {\n",
       "        vertical-align: middle;\n",
       "    }\n",
       "\n",
       "    .dataframe tbody tr th {\n",
       "        vertical-align: top;\n",
       "    }\n",
       "\n",
       "    .dataframe thead th {\n",
       "        text-align: right;\n",
       "    }\n",
       "</style>\n",
       "<table border=\"1\" class=\"dataframe\">\n",
       "  <thead>\n",
       "    <tr style=\"text-align: right;\">\n",
       "      <th></th>\n",
       "      <th>id</th>\n",
       "      <th>gender</th>\n",
       "      <th>age</th>\n",
       "      <th>industry</th>\n",
       "      <th>astrologic</th>\n",
       "      <th>post</th>\n",
       "      <th>date</th>\n",
       "    </tr>\n",
       "  </thead>\n",
       "  <tbody>\n",
       "    <tr>\n",
       "      <th>0</th>\n",
       "      <td>4200843</td>\n",
       "      <td>male</td>\n",
       "      <td>39</td>\n",
       "      <td>Technology</td>\n",
       "      <td>Sagittarius</td>\n",
       "      <td>\\n\\n    \\n       Why suns , obsession trying l...</td>\n",
       "      <td>21,August,2004</td>\n",
       "    </tr>\n",
       "    <tr>\n",
       "      <th>1</th>\n",
       "      <td>4200843</td>\n",
       "      <td>male</td>\n",
       "      <td>39</td>\n",
       "      <td>Technology</td>\n",
       "      <td>Sagittarius</td>\n",
       "      <td>\\n\\n    \\n        I'ordered Counter Strike:CZ ...</td>\n",
       "      <td>18,August,2004</td>\n",
       "    </tr>\n",
       "    <tr>\n",
       "      <th>2</th>\n",
       "      <td>4200843</td>\n",
       "      <td>male</td>\n",
       "      <td>39</td>\n",
       "      <td>Technology</td>\n",
       "      <td>Sagittarius</td>\n",
       "      <td>\\n\\n    \\n        Remember jokes? Well I I nev...</td>\n",
       "      <td>18,August,2004</td>\n",
       "    </tr>\n",
       "    <tr>\n",
       "      <th>3</th>\n",
       "      <td>4200843</td>\n",
       "      <td>male</td>\n",
       "      <td>39</td>\n",
       "      <td>Technology</td>\n",
       "      <td>Sagittarius</td>\n",
       "      <td>\\n\\n    \\n        If 'watch 'Waking Dead' make...</td>\n",
       "      <td>16,August,2004</td>\n",
       "    </tr>\n",
       "    <tr>\n",
       "      <th>4</th>\n",
       "      <td>4200843</td>\n",
       "      <td>male</td>\n",
       "      <td>39</td>\n",
       "      <td>Technology</td>\n",
       "      <td>Sagittarius</td>\n",
       "      <td>\\n\\n    \\n        Sunday always feels like Sun...</td>\n",
       "      <td>15,August,2004</td>\n",
       "    </tr>\n",
       "  </tbody>\n",
       "</table>\n",
       "</div>"
      ],
      "text/plain": [
       "        id gender age    industry   astrologic  \\\n",
       "0  4200843   male  39  Technology  Sagittarius   \n",
       "1  4200843   male  39  Technology  Sagittarius   \n",
       "2  4200843   male  39  Technology  Sagittarius   \n",
       "3  4200843   male  39  Technology  Sagittarius   \n",
       "4  4200843   male  39  Technology  Sagittarius   \n",
       "\n",
       "                                                post            date  \n",
       "0  \\n\\n    \\n       Why suns , obsession trying l...  21,August,2004  \n",
       "1  \\n\\n    \\n        I'ordered Counter Strike:CZ ...  18,August,2004  \n",
       "2  \\n\\n    \\n        Remember jokes? Well I I nev...  18,August,2004  \n",
       "3  \\n\\n    \\n        If 'watch 'Waking Dead' make...  16,August,2004  \n",
       "4  \\n\\n    \\n        Sunday always feels like Sun...  15,August,2004  "
      ]
     },
     "execution_count": 9,
     "metadata": {},
     "output_type": "execute_result"
    }
   ],
   "source": [
    "data.head()"
   ]
  },
  {
   "cell_type": "code",
   "execution_count": 10,
   "metadata": {},
   "outputs": [
    {
     "name": "stdout",
     "output_type": "stream",
     "text": [
      "There are 50.67% posts per male, and 49.33% for female\n"
     ]
    }
   ],
   "source": [
    "print(\"There are {0:.2f}% posts per male, and {1:.2f}% for female\".format(data.\\\n",
    "gender[data.gender == 'male'].count()*100/data.gender.count(),data.gender[data.gender == 'female']\\\n",
    ".count()*100/data.gender.count()))"
   ]
  },
  {
   "cell_type": "code",
   "execution_count": 11,
   "metadata": {},
   "outputs": [
    {
     "name": "stdout",
     "output_type": "stream",
     "text": [
      "There are 101264977 words and 3912652 unique words, that are non stop words in the corpus.\n",
      "Maximum words number per post: 78477\n",
      "Minimum words number per post: 2\n",
      "Average words number per post: 121.63884730099458\n",
      "Median: 71.0\n",
      "80% of posts contains less or equal than 180 words\n"
     ]
    }
   ],
   "source": [
    "words = []\n",
    "posts = data.post.values\n",
    "word_per_post = []\n",
    "\n",
    "for post in posts:\n",
    "    \n",
    "    words+=post.split(\" \")\n",
    "    \n",
    "    word_per_post.append(len(post.split(\" \")) - np.sum(np.array(post.split(\" \")) == \"\"))\n",
    "    \n",
    "unique_words = pd.unique(words)\n",
    "\n",
    "print(\"There are {} words and {} unique words, that are non stop words in the corpus.\".format(len(words),len(unique_words)))\n",
    "print(\"Maximum words number per post: {}\\nMinimum words number per post: {}\\nAverage words number per post: {}\\nMedian: {}\\n80% of posts contains less or equal than {} words\"\\\n",
    "      .format(np.max(word_per_post),np.min(word_per_post),np.mean(word_per_post),np.median(word_per_post),np.sort(word_per_post)[np.int(len(word_per_post)*0.8)]))"
   ]
  },
  {
   "cell_type": "markdown",
   "metadata": {},
   "source": [
    "# Baseline"
   ]
  },
  {
   "cell_type": "code",
   "execution_count": 12,
   "metadata": {},
   "outputs": [
    {
     "data": {
      "text/plain": [
       "((510966,), (170322,), (510966, 2), (170322, 2))"
      ]
     },
     "execution_count": 12,
     "metadata": {},
     "output_type": "execute_result"
    }
   ],
   "source": [
    "X = data.post.values\n",
    "\n",
    "y = data.gender.values\n",
    "\n",
    "sss = StratifiedShuffleSplit(test_size = 0.25)\n",
    "\n",
    "for train_index, test_index in sss.split(X,y):\n",
    "    \n",
    "    X_train, X_test = X[train_index], X[test_index]\n",
    "    y_train, y_test = y[train_index], y[test_index]\n",
    "\n",
    "y_train = pd.get_dummies(y_train)\n",
    "y_test = pd.get_dummies(y_test)\n",
    "\n",
    "X_train.shape,X_test.shape,y_train.shape,y_test.shape"
   ]
  },
  {
   "cell_type": "code",
   "execution_count": 13,
   "metadata": {},
   "outputs": [
    {
     "name": "stdout",
     "output_type": "stream",
     "text": [
      "Found 1011750 unique tokens.\n"
     ]
    }
   ],
   "source": [
    "maxlen = 180\n",
    "max_words = 50000\n",
    "embedding_dim = 300\n",
    "\n",
    "tokenizer = Tokenizer(num_words = max_words)\n",
    "\n",
    "tokenizer.fit_on_texts(X_train)\n",
    "\n",
    "sequences = np.array(tokenizer.texts_to_sequences(X_train))\n",
    "\n",
    "word_index = tokenizer.word_index\n",
    "\n",
    "print('Found %s unique tokens.' % len(word_index))\n",
    "\n",
    "X_train = preprocessing.sequence.pad_sequences(sequences, maxlen=maxlen)"
   ]
  },
  {
   "cell_type": "code",
   "execution_count": 14,
   "metadata": {},
   "outputs": [],
   "source": [
    "sequences = np.array(tokenizer.texts_to_sequences(X_test))\n",
    "X_test = preprocessing.sequence.pad_sequences(sequences, maxlen=maxlen)"
   ]
  },
  {
   "cell_type": "code",
   "execution_count": 15,
   "metadata": {},
   "outputs": [],
   "source": [
    "def get_model(maxlen,max_words,embedding_dim,dropout = False):\n",
    "\n",
    "    model = Sequential()\n",
    "    model.add(Embedding(max_words + 1,embedding_dim, input_length = maxlen))\n",
    "    model.add(Flatten())\n",
    "    model.add(Dense(128,activation=\"sigmoid\"))\n",
    "    if(dropout):\n",
    "        model.add(Dropout(0.5))\n",
    "        \n",
    "    model.add(Dense(1, activation='sigmoid'))\n",
    "    \n",
    "    print(model.summary())\n",
    "    \n",
    "    return model\n",
    "\n",
    "def plot_acc(history):\n",
    "    \n",
    "    sns.set()\n",
    "\n",
    "    acc = history.history['acc']\n",
    "    val_acc = history.history['val_acc']\n",
    "\n",
    "    loss = history.history['loss']\n",
    "    val_loss = history.history['val_loss']\n",
    "\n",
    "    plt.figure(figsize=(20,10))\n",
    "\n",
    "    epochs = np.arange(1, len(acc) + 1)\n",
    "\n",
    "    plt.subplot(1,2,1)\n",
    "    plt.plot(epochs, acc, 'b', label='Training acc')\n",
    "    plt.plot(epochs, val_acc, 'g', label='Validation acc')\n",
    "    plt.title('Training and validation accuracy')\n",
    "    plt.legend()\n",
    "\n",
    "    plt.subplot(1,2,2)\n",
    "    plt.plot(epochs, loss, 'b', label='Training loss')\n",
    "    plt.plot(epochs, val_loss, 'g', label='Validation loss')\n",
    "    plt.title('Training and validation loss')\n",
    "    plt.legend()\n",
    "\n",
    "    plt.show()"
   ]
  },
  {
   "cell_type": "code",
   "execution_count": 16,
   "metadata": {},
   "outputs": [
    {
     "name": "stdout",
     "output_type": "stream",
     "text": [
      "_________________________________________________________________\n",
      "Layer (type)                 Output Shape              Param #   \n",
      "=================================================================\n",
      "embedding_1 (Embedding)      (None, 180, 300)          15000300  \n",
      "_________________________________________________________________\n",
      "flatten_1 (Flatten)          (None, 54000)             0         \n",
      "_________________________________________________________________\n",
      "dense_1 (Dense)              (None, 128)               6912128   \n",
      "_________________________________________________________________\n",
      "dropout_1 (Dropout)          (None, 128)               0         \n",
      "_________________________________________________________________\n",
      "dense_2 (Dense)              (None, 1)                 129       \n",
      "=================================================================\n",
      "Total params: 21,912,557\n",
      "Trainable params: 21,912,557\n",
      "Non-trainable params: 0\n",
      "_________________________________________________________________\n",
      "None\n",
      "Train on 408772 samples, validate on 102194 samples\n",
      "Epoch 1/20\n",
      "408772/408772 [==============================] - 94s 230us/step - loss: 0.6055 - acc: 0.6639 - val_loss: 0.5718 - val_acc: 0.6982\n",
      "Epoch 2/20\n",
      "408772/408772 [==============================] - 86s 211us/step - loss: 0.4409 - acc: 0.7866 - val_loss: 0.6440 - val_acc: 0.6733\n",
      "Epoch 3/20\n",
      "408772/408772 [==============================] - 88s 214us/step - loss: 0.2945 - acc: 0.8716 - val_loss: 0.7767 - val_acc: 0.6553\n",
      "Epoch 4/20\n",
      "408772/408772 [==============================] - 89s 217us/step - loss: 0.2282 - acc: 0.9054 - val_loss: 0.8368 - val_acc: 0.6498\n",
      "Epoch 5/20\n",
      "408772/408772 [==============================] - 87s 212us/step - loss: 0.1918 - acc: 0.9214 - val_loss: 0.9194 - val_acc: 0.6396\n",
      "Epoch 6/20\n",
      "408772/408772 [==============================] - 86s 211us/step - loss: 0.1679 - acc: 0.9307 - val_loss: 0.9424 - val_acc: 0.6370\n",
      "Epoch 7/20\n",
      "408772/408772 [==============================] - 87s 212us/step - loss: 0.1509 - acc: 0.9365 - val_loss: 1.0049 - val_acc: 0.6321\n",
      "Epoch 8/20\n",
      "408772/408772 [==============================] - 86s 211us/step - loss: 0.1393 - acc: 0.9399 - val_loss: 1.0815 - val_acc: 0.6250\n",
      "Epoch 9/20\n",
      "408772/408772 [==============================] - 86s 211us/step - loss: 0.1305 - acc: 0.9430 - val_loss: 1.0971 - val_acc: 0.6221\n",
      "Epoch 10/20\n",
      "408772/408772 [==============================] - 87s 213us/step - loss: 0.1253 - acc: 0.9443 - val_loss: 1.1081 - val_acc: 0.6203\n",
      "Epoch 11/20\n",
      "408772/408772 [==============================] - 87s 213us/step - loss: 0.1217 - acc: 0.9453 - val_loss: 1.1138 - val_acc: 0.6126\n",
      "Epoch 12/20\n",
      "408772/408772 [==============================] - 86s 211us/step - loss: 0.1199 - acc: 0.9458 - val_loss: 1.2349 - val_acc: 0.6163\n",
      "Epoch 13/20\n",
      "408772/408772 [==============================] - 87s 213us/step - loss: 0.1197 - acc: 0.9463 - val_loss: 1.2310 - val_acc: 0.6178\n",
      "Epoch 14/20\n",
      "408772/408772 [==============================] - 88s 216us/step - loss: 0.1211 - acc: 0.9461 - val_loss: 1.2216 - val_acc: 0.6164\n",
      "Epoch 15/20\n",
      "408772/408772 [==============================] - 89s 219us/step - loss: 0.1212 - acc: 0.9461 - val_loss: 1.3027 - val_acc: 0.6120\n",
      "Epoch 16/20\n",
      "408772/408772 [==============================] - 88s 214us/step - loss: 0.1236 - acc: 0.9458 - val_loss: 1.3329 - val_acc: 0.6159\n",
      "Epoch 17/20\n",
      "408772/408772 [==============================] - 89s 217us/step - loss: 0.1256 - acc: 0.9454 - val_loss: 1.3209 - val_acc: 0.6175\n",
      "Epoch 18/20\n",
      "408772/408772 [==============================] - 87s 213us/step - loss: 0.1271 - acc: 0.9454 - val_loss: 1.2961 - val_acc: 0.6179\n",
      "Epoch 19/20\n",
      "408772/408772 [==============================] - 83s 203us/step - loss: 0.1293 - acc: 0.9446 - val_loss: 1.3702 - val_acc: 0.6160\n",
      "Epoch 20/20\n",
      "408772/408772 [==============================] - 86s 209us/step - loss: 0.1311 - acc: 0.9444 - val_loss: 1.3002 - val_acc: 0.6141\n"
     ]
    }
   ],
   "source": [
    "model = get_model(maxlen, max_words, embedding_dim,dropout=True)\n",
    "\n",
    "model.compile(optimizer='rmsprop', loss='binary_crossentropy',metrics=[\"acc\"])\n",
    "\n",
    "history = model.fit(X_train, y_train['male'].values, epochs = 20, batch_size = 256, validation_split = 0.2)"
   ]
  },
  {
   "cell_type": "code",
   "execution_count": 17,
   "metadata": {},
   "outputs": [
    {
     "data": {
      "image/png": "[encoded data removed]",
      "text/plain": [
       "<matplotlib.figure.Figure at 0x7f46515edcc0>"
      ]
     },
     "metadata": {},
     "output_type": "display_data"
    }
   ],
   "source": [
    "plot_acc(history)"
   ]
  },
  {
   "cell_type": "code",
   "execution_count": 18,
   "metadata": {},
   "outputs": [
    {
     "name": "stdout",
     "output_type": "stream",
     "text": [
      "170322/170322 [==============================] - 40s 235us/step\n",
      "evaluate on test set  [1.2963409294023667, 0.6132795528490602]\n"
     ]
    }
   ],
   "source": [
    "results = model.evaluate(X_test, y_test['male'].values)\n",
    "print(\"evaluate on test set \",results)"
   ]
  },
  {
   "cell_type": "code",
   "execution_count": 19,
   "metadata": {},
   "outputs": [
    {
     "name": "stdout",
     "output_type": "stream",
     "text": [
      "510966/510966 [==============================] - 113s 221us/step\n",
      "evaluate on train set  [0.3333960876836723, 0.8885268295733211]\n"
     ]
    }
   ],
   "source": [
    "results = model.evaluate(X_train, y_train['male'].values)\n",
    "print(\"evaluate on train set \",results)"
   ]
  },
  {
   "cell_type": "code",
   "execution_count": null,
   "metadata": {},
   "outputs": [],
   "source": [
    "y_pred = model.predict(X_test)\n",
    "\n",
    "pr, rc, fs,_ = precision_recall_fscore_support(y_test['male'].values,y_pred[:,0].round(),average='micro')"
   ]
  },
  {
   "cell_type": "code",
   "execution_count": 21,
   "metadata": {},
   "outputs": [
    {
     "name": "stdout",
     "output_type": "stream",
     "text": [
      "precision is 61.36824057821888%, recall is 61.35470461611674% and f1 score is 61.32255267172615%\n"
     ]
    }
   ],
   "source": [
    "print(\"precision is {0}%, recall is {1}% and f1 score is {2}%\".format(pr*100, rc*100, fs*100))"
   ]
  },
  {
   "cell_type": "code",
   "execution_count": 22,
   "metadata": {},
   "outputs": [
    {
     "name": "stdout",
     "output_type": "stream",
     "text": [
      "_________________________________________________________________\n",
      "Layer (type)                 Output Shape              Param #   \n",
      "=================================================================\n",
      "embedding_2 (Embedding)      (None, 180, 300)          15000300  \n",
      "_________________________________________________________________\n",
      "flatten_2 (Flatten)          (None, 54000)             0         \n",
      "_________________________________________________________________\n",
      "dense_3 (Dense)              (None, 128)               6912128   \n",
      "_________________________________________________________________\n",
      "dropout_2 (Dropout)          (None, 128)               0         \n",
      "_________________________________________________________________\n",
      "dense_4 (Dense)              (None, 1)                 129       \n",
      "=================================================================\n",
      "Total params: 21,912,557\n",
      "Trainable params: 21,912,557\n",
      "Non-trainable params: 0\n",
      "_________________________________________________________________\n",
      "None\n",
      "Epoch 1/2\n",
      "510966/510966 [==============================] - 107s 210us/step - loss: 0.5994 - acc: 0.6706\n",
      "Epoch 2/2\n",
      "510966/510966 [==============================] - 102s 200us/step - loss: 0.4540 - acc: 0.7790\n",
      "170322/170322 [==============================] - 39s 231us/step\n",
      "evaluate on test set  [0.6230934060192006, 0.6785206843508179]\n"
     ]
    }
   ],
   "source": [
    "model = get_model(maxlen, max_words, embedding_dim,dropout=True)\n",
    "\n",
    "model.compile(optimizer='rmsprop', loss='binary_crossentropy',metrics=[\"acc\"])\n",
    "\n",
    "history = model.fit(X_train, y_train['male'].values, epochs = 2, batch_size = 256)\n",
    "\n",
    "results = model.evaluate(X_test, y_test['male'].values)\n",
    "print(\"evaluate on test set \",results)"
   ]
  },
  {
   "cell_type": "markdown",
   "metadata": {},
   "source": [
    "# Use of a pretrained embeddings"
   ]
  },
  {
   "cell_type": "code",
   "execution_count": 23,
   "metadata": {},
   "outputs": [],
   "source": [
    "if('GoogleNews-vectors-negative300.bin.gz' not in os.listdir()):\n",
    "    !curl 'https://doc-0s-bo-docs.googleusercontent.com/docs/securesc/irhn5id42n45amehdukhdmveaa64qdca/p3cdn432vvf0g873qt5fohervngkocsn/1547913600000/06848720943842814915/12338030662361016533/0B7XkCwpI5KDYNlNUTTlSS21pQmM?e=download&nonce=te8dhbikk60gq&user=12338030662361016533&hash=jmfhhq8ou6vcslfnjc1a36e5sjsap20h' -H 'authority: doc-0s-bo-docs.googleusercontent.com' -H 'upgrade-insecure-requests: 1' -H 'user-agent: Mozilla/5.0 (X11; Linux x86_64) AppleWebKit/537.36 (KHTML, like Gecko) Chrome/70.0.3538.77 Safari/537.36' -H 'accept: text/html,application/xhtml+xml,application/xml;q=0.9,image/webp,image/apng,*/*;q=0.8' -H 'x-client-data: CIa2yQEIprbJAQipncoBCKijygEIv6fKAQiQqMoBCOKoygEY+aXKAQ==' -H 'referer: https://drive.google.com/uc?id=0B7XkCwpI5KDYNlNUTTlSS21pQmM&export=download' -H 'accept-encoding: gzip, deflate, br' -H 'accept-language: en-US,en;q=0.9' -H 'cookie: AUTH_7ncsoht60h5nj3290k7ksjvs3qm9agnm_nonce=te8dhbikk60gq; NID=146=2m64YwK1FU_-wWYEr0N6qIT8KCPul94SVvGNE1YFUODGL-9ZZYgtf0PjHL_TrgeguaQjrWszdcM8aTlORHFViPx5R3pkEaM2uaQDIPyQkNY-ns5aQ0_77DSWxzvulfHWNxRIonT9b28IBORFdd1Cb8nPngy3F8nCQarRxGO2hNM' --compressed --output GoogleNews-vectors-negative300.bin.gz\n",
    "    with gzip.open('GoogleNews-vectors-negative300.bin.gz', 'rb') as f_in:\n",
    "        with open('GoogleNews-vectors-negative300.bin', 'wb') as f_out:\n",
    "            shutil.copyfileobj(f_in, f_out)\n",
    "            \n",
    "    model = KeyedVectors.load_word2vec_format('GoogleNews-vectors-negative300.bin', binary=True)\n",
    "    model.save_word2vec_format('GoogleNews-vectors-negative300.txt', binary=False)"
   ]
  },
  {
   "cell_type": "code",
   "execution_count": 24,
   "metadata": {},
   "outputs": [
    {
     "name": "stdout",
     "output_type": "stream",
     "text": [
      "Found 2999999 word vectors.\n"
     ]
    }
   ],
   "source": [
    "embeddings_index = {}\n",
    "\n",
    "with open(\"GoogleNews-vectors-negative300.txt\") as f:\n",
    "    for i,line in enumerate(f):\n",
    "        if(i!=0):\n",
    "            values = line.split()\n",
    "            word = values[0]\n",
    "            embeddings_index[word] = np.array(values[1:], dtype='float32')\n",
    "        \n",
    "print('Found {} word vectors.'.format(len(embeddings_index)))"
   ]
  },
  {
   "cell_type": "code",
   "execution_count": 25,
   "metadata": {},
   "outputs": [],
   "source": [
    "embedding_dim = 300\n",
    "embeddings_index[\"unk\"] = np.random.normal(0,1/np.sqrt(maxlen), embedding_dim)\n",
    "c = 0\n",
    "embedding_matrix = np.zeros((max_words + 1, embedding_dim))\n",
    "\n",
    "for word, i in word_index.items():  \n",
    "    if i < max_words:\n",
    "    \n",
    "        embedding_vector = embeddings_index.get(word)\n",
    "        \n",
    "        if embedding_vector is not None:\n",
    "            embedding_matrix[i] = embedding_vector\n",
    "            \n",
    "        else:\n",
    "            embedding_matrix[i] = embeddings_index.get(\"unk\")"
   ]
  },
  {
   "cell_type": "code",
   "execution_count": 26,
   "metadata": {},
   "outputs": [
    {
     "name": "stdout",
     "output_type": "stream",
     "text": [
      "_________________________________________________________________\n",
      "Layer (type)                 Output Shape              Param #   \n",
      "=================================================================\n",
      "embedding_3 (Embedding)      (None, 180, 300)          15000300  \n",
      "_________________________________________________________________\n",
      "flatten_3 (Flatten)          (None, 54000)             0         \n",
      "_________________________________________________________________\n",
      "dense_5 (Dense)              (None, 128)               6912128   \n",
      "_________________________________________________________________\n",
      "dropout_3 (Dropout)          (None, 128)               0         \n",
      "_________________________________________________________________\n",
      "dense_6 (Dense)              (None, 1)                 129       \n",
      "=================================================================\n",
      "Total params: 21,912,557\n",
      "Trainable params: 21,912,557\n",
      "Non-trainable params: 0\n",
      "_________________________________________________________________\n",
      "None\n"
     ]
    }
   ],
   "source": [
    "model = get_model(maxlen, max_words, embedding_dim, dropout=True)"
   ]
  },
  {
   "cell_type": "code",
   "execution_count": 27,
   "metadata": {},
   "outputs": [],
   "source": [
    "model.layers[0].set_weights([embedding_matrix])\n",
    "model.layers[0].trainable = False"
   ]
  },
  {
   "cell_type": "code",
   "execution_count": 28,
   "metadata": {},
   "outputs": [
    {
     "name": "stdout",
     "output_type": "stream",
     "text": [
      "Train on 408772 samples, validate on 102194 samples\n",
      "Epoch 1/5\n",
      "408772/408772 [==============================] - 60s 146us/step - loss: 0.6469 - acc: 0.6220 - val_loss: 0.6304 - val_acc: 0.6391\n",
      "Epoch 2/5\n",
      "408772/408772 [==============================] - 56s 136us/step - loss: 0.6098 - acc: 0.6583 - val_loss: 0.6299 - val_acc: 0.6413\n",
      "Epoch 3/5\n",
      "408772/408772 [==============================] - 56s 138us/step - loss: 0.5768 - acc: 0.6865 - val_loss: 0.6405 - val_acc: 0.6353\n",
      "Epoch 4/5\n",
      "408772/408772 [==============================] - 56s 136us/step - loss: 0.5363 - acc: 0.7185 - val_loss: 0.6580 - val_acc: 0.6340\n",
      "Epoch 5/5\n",
      "408772/408772 [==============================] - 56s 136us/step - loss: 0.4902 - acc: 0.7503 - val_loss: 0.6905 - val_acc: 0.6305\n"
     ]
    }
   ],
   "source": [
    "model.compile(optimizer='rmsprop', loss='binary_crossentropy',metrics=[\"acc\"])\n",
    "\n",
    "history = model.fit(X_train, y_train['male'].values, epochs = 5, batch_size = 256, validation_split = 0.2)"
   ]
  },
  {
   "cell_type": "code",
   "execution_count": 29,
   "metadata": {},
   "outputs": [
    {
     "name": "stdout",
     "output_type": "stream",
     "text": [
      "170322/170322 [==============================] - 39s 230us/step\n",
      "evaluate on test set  [0.6909269024357638, 0.6325548079530466]\n"
     ]
    }
   ],
   "source": [
    "results = model.evaluate(X_test, y_test['male'].values)\n",
    "print(\"evaluate on test set \",results)"
   ]
  },
  {
   "cell_type": "code",
   "execution_count": 30,
   "metadata": {},
   "outputs": [
    {
     "name": "stdout",
     "output_type": "stream",
     "text": [
      "510966/510966 [==============================] - 115s 225us/step\n",
      "evaluate on train set  [0.4593928023151329, 0.7809502002085492]\n"
     ]
    }
   ],
   "source": [
    "results = model.evaluate(X_train, y_train['male'].values)\n",
    "print(\"evaluate on train set \",results)"
   ]
  },
  {
   "cell_type": "code",
   "execution_count": 31,
   "metadata": {},
   "outputs": [
    {
     "data": {
      "image/png": "[encoded data removed]",
      "text/plain": [
       "<matplotlib.figure.Figure at 0x7f465160c9e8>"
      ]
     },
     "metadata": {},
     "output_type": "display_data"
    }
   ],
   "source": [
    "plot_acc(history)"
   ]
  },
  {
   "cell_type": "code",
   "execution_count": 32,
   "metadata": {},
   "outputs": [
    {
     "name": "stdout",
     "output_type": "stream",
     "text": [
      "_________________________________________________________________\n",
      "Layer (type)                 Output Shape              Param #   \n",
      "=================================================================\n",
      "embedding_4 (Embedding)      (None, 180, 300)          15000300  \n",
      "_________________________________________________________________\n",
      "flatten_4 (Flatten)          (None, 54000)             0         \n",
      "_________________________________________________________________\n",
      "dense_7 (Dense)              (None, 128)               6912128   \n",
      "_________________________________________________________________\n",
      "dropout_4 (Dropout)          (None, 128)               0         \n",
      "_________________________________________________________________\n",
      "dense_8 (Dense)              (None, 1)                 129       \n",
      "=================================================================\n",
      "Total params: 21,912,557\n",
      "Trainable params: 21,912,557\n",
      "Non-trainable params: 0\n",
      "_________________________________________________________________\n",
      "None\n",
      "Epoch 1/2\n",
      "510966/510966 [==============================] - 67s 132us/step - loss: 0.6451 - acc: 0.6244\n",
      "Epoch 2/2\n",
      "510966/510966 [==============================] - 63s 123us/step - loss: 0.6106 - acc: 0.6585\n",
      "170322/170322 [==============================] - 41s 239us/step\n",
      "evaluate on test set  [0.6289949990420779, 0.6453071241558744]\n"
     ]
    }
   ],
   "source": [
    "model = get_model(maxlen, max_words, embedding_dim, dropout=True)\n",
    "model.layers[0].set_weights([embedding_matrix])\n",
    "model.layers[0].trainable = False\n",
    "model.compile(optimizer='rmsprop', loss='binary_crossentropy',metrics=[\"acc\"])\n",
    "\n",
    "history = model.fit(X_train, y_train['male'].values, epochs = 2, batch_size = 256)\n",
    "results = model.evaluate(X_test, y_test['male'].values)\n",
    "print(\"evaluate on test set \",results)"
   ]
  },
  {
   "cell_type": "markdown",
   "metadata": {},
   "source": [
    "## with non-static embeddings"
   ]
  },
  {
   "cell_type": "code",
   "execution_count": 33,
   "metadata": {},
   "outputs": [
    {
     "name": "stdout",
     "output_type": "stream",
     "text": [
      "_________________________________________________________________\n",
      "Layer (type)                 Output Shape              Param #   \n",
      "=================================================================\n",
      "embedding_5 (Embedding)      (None, 180, 300)          15000300  \n",
      "_________________________________________________________________\n",
      "flatten_5 (Flatten)          (None, 54000)             0         \n",
      "_________________________________________________________________\n",
      "dense_9 (Dense)              (None, 128)               6912128   \n",
      "_________________________________________________________________\n",
      "dropout_5 (Dropout)          (None, 128)               0         \n",
      "_________________________________________________________________\n",
      "dense_10 (Dense)             (None, 1)                 129       \n",
      "=================================================================\n",
      "Total params: 21,912,557\n",
      "Trainable params: 21,912,557\n",
      "Non-trainable params: 0\n",
      "_________________________________________________________________\n",
      "None\n"
     ]
    }
   ],
   "source": [
    "model = get_model(maxlen, max_words, embedding_dim, dropout = True)\n",
    "model.layers[0].set_weights([embedding_matrix])"
   ]
  },
  {
   "cell_type": "code",
   "execution_count": 34,
   "metadata": {},
   "outputs": [
    {
     "name": "stdout",
     "output_type": "stream",
     "text": [
      "Train on 408772 samples, validate on 102194 samples\n",
      "Epoch 1/5\n",
      "408772/408772 [==============================] - 94s 231us/step - loss: 0.6073 - acc: 0.6641 - val_loss: 0.5744 - val_acc: 0.6928\n",
      "Epoch 2/5\n",
      "408772/408772 [==============================] - 88s 216us/step - loss: 0.4952 - acc: 0.7493 - val_loss: 0.6012 - val_acc: 0.6777\n",
      "Epoch 3/5\n",
      "408772/408772 [==============================] - 88s 216us/step - loss: 0.3547 - acc: 0.8344 - val_loss: 0.7268 - val_acc: 0.6665\n",
      "Epoch 4/5\n",
      "408772/408772 [==============================] - 88s 216us/step - loss: 0.2560 - acc: 0.8868 - val_loss: 0.9052 - val_acc: 0.6557\n",
      "Epoch 5/5\n",
      "408772/408772 [==============================] - 88s 215us/step - loss: 0.2044 - acc: 0.9108 - val_loss: 0.9934 - val_acc: 0.6516\n"
     ]
    }
   ],
   "source": [
    "model.compile(optimizer='rmsprop', loss='binary_crossentropy',metrics=[\"acc\"])\n",
    "\n",
    "history = model.fit(X_train, y_train['male'].values, epochs = 5, batch_size = 256, validation_split = 0.2)"
   ]
  },
  {
   "cell_type": "code",
   "execution_count": 35,
   "metadata": {},
   "outputs": [
    {
     "name": "stdout",
     "output_type": "stream",
     "text": [
      "170322/170322 [==============================] - 41s 238us/step\n",
      "evaluate on test set  [0.9905000917281138, 0.6538321532156739]\n"
     ]
    }
   ],
   "source": [
    "results = model.evaluate(X_test, y_test['male'].values)\n",
    "print(\"evaluate on test set \",results)"
   ]
  },
  {
   "cell_type": "code",
   "execution_count": 36,
   "metadata": {},
   "outputs": [
    {
     "name": "stdout",
     "output_type": "stream",
     "text": [
      "510966/510966 [==============================] - 116s 227us/step\n",
      "evaluate on train set  [0.3127296731772256, 0.8801857657857408]\n"
     ]
    }
   ],
   "source": [
    "results = model.evaluate(X_train, y_train['male'].values)\n",
    "print(\"evaluate on train set \",results)"
   ]
  },
  {
   "cell_type": "code",
   "execution_count": 37,
   "metadata": {},
   "outputs": [
    {
     "data": {
      "image/png": "[encoded data removed]",
      "text/plain": [
       "<matplotlib.figure.Figure at 0x7f464df2b6d8>"
      ]
     },
     "metadata": {},
     "output_type": "display_data"
    }
   ],
   "source": [
    "plot_acc(history)"
   ]
  },
  {
   "cell_type": "code",
   "execution_count": 38,
   "metadata": {},
   "outputs": [
    {
     "name": "stdout",
     "output_type": "stream",
     "text": [
      "_________________________________________________________________\n",
      "Layer (type)                 Output Shape              Param #   \n",
      "=================================================================\n",
      "embedding_6 (Embedding)      (None, 180, 300)          15000300  \n",
      "_________________________________________________________________\n",
      "flatten_6 (Flatten)          (None, 54000)             0         \n",
      "_________________________________________________________________\n",
      "dense_11 (Dense)             (None, 128)               6912128   \n",
      "_________________________________________________________________\n",
      "dropout_6 (Dropout)          (None, 128)               0         \n",
      "_________________________________________________________________\n",
      "dense_12 (Dense)             (None, 1)                 129       \n",
      "=================================================================\n",
      "Total params: 21,912,557\n",
      "Trainable params: 21,912,557\n",
      "Non-trainable params: 0\n",
      "_________________________________________________________________\n",
      "None\n",
      "Epoch 1/1\n",
      "510966/510966 [==============================] - 110s 216us/step - loss: 0.6013 - acc: 0.6702\n",
      "170322/170322 [==============================] - 42s 248us/step\n",
      "evaluate on test set  [0.569821400982605, 0.6963751012773546]\n"
     ]
    }
   ],
   "source": [
    "model = get_model(maxlen, max_words, embedding_dim, dropout=True)\n",
    "model.layers[0].set_weights([embedding_matrix])\n",
    "model.compile(optimizer='rmsprop', loss='binary_crossentropy',metrics=[\"acc\"])\n",
    "\n",
    "history = model.fit(X_train, y_train['male'].values, epochs = 1, batch_size = 256)\n",
    "results = model.evaluate(X_test, y_test['male'].values)\n",
    "print(\"evaluate on test set \",results)"
   ]
  },
  {
   "cell_type": "markdown",
   "metadata": {},
   "source": [
    "# Recurrent Convolutional Neural Network (RCNN)"
   ]
  },
  {
   "cell_type": "code",
   "execution_count": 39,
   "metadata": {},
   "outputs": [],
   "source": [
    "hidden_dim1 = 200\n",
    "\n",
    "hidden_dim2 = 100\n",
    "\n",
    "document = Input(shape = (None, ), dtype = \"int32\")\n",
    "left_context = Input(shape = (None, ), dtype = \"int32\")\n",
    "right_context = Input(shape = (None, ), dtype = \"int32\")"
   ]
  },
  {
   "cell_type": "code",
   "execution_count": 40,
   "metadata": {},
   "outputs": [],
   "source": [
    "embedder = Embedding(max_words , embedding_dim)\n",
    "doc_embedding = embedder(document)\n",
    "l_embedding = embedder(left_context)\n",
    "r_embedding = embedder(right_context)\n",
    "\n",
    "forward = LSTM(hidden_dim1, return_sequences = True)(l_embedding)\n",
    "backward = LSTM(hidden_dim1, return_sequences = True, go_backwards = True)(r_embedding)\n",
    "backward = Lambda(lambda x: backend.reverse(x, axes = 1))(backward)\n",
    "\n",
    "together = concatenate([forward, doc_embedding, backward], axis = 2)\n",
    "\n",
    "semantic = Conv1D(hidden_dim2, kernel_size = 1, activation = \"tanh\")(together)\n",
    "pool_rnn = Lambda(lambda x: backend.max(x, axis = 1), output_shape = (hidden_dim2, ))(semantic)\n",
    "\n",
    "output = Dense(1, input_dim = hidden_dim2, activation = \"sigmoid\")(pool_rnn)"
   ]
  },
  {
   "cell_type": "code",
   "execution_count": 41,
   "metadata": {},
   "outputs": [
    {
     "data": {
      "text/plain": [
       "((510966, 180), (510966, 180))"
      ]
     },
     "execution_count": 41,
     "metadata": {},
     "output_type": "execute_result"
    }
   ],
   "source": [
    "left  = np.column_stack((np.array([0]*X_train.shape[0]),X_train[:,1:]))\n",
    "right = np.column_stack((X_train[:,:-1],np.array([0]*X_train.shape[0])))\n",
    "left.shape,right.shape"
   ]
  },
  {
   "cell_type": "code",
   "execution_count": 42,
   "metadata": {},
   "outputs": [],
   "source": [
    "model = Model(inputs = [document, left_context, right_context], outputs = output)\n",
    "\n",
    "model.compile(optimizer = \"adadelta\", loss = \"binary_crossentropy\", metrics = [\"accuracy\"])"
   ]
  },
  {
   "cell_type": "code",
   "execution_count": 43,
   "metadata": {},
   "outputs": [
    {
     "name": "stdout",
     "output_type": "stream",
     "text": [
      "__________________________________________________________________________________________________\n",
      "Layer (type)                    Output Shape         Param #     Connected to                     \n",
      "==================================================================================================\n",
      "input_2 (InputLayer)            (None, None)         0                                            \n",
      "__________________________________________________________________________________________________\n",
      "input_1 (InputLayer)            (None, None)         0                                            \n",
      "__________________________________________________________________________________________________\n",
      "input_3 (InputLayer)            (None, None)         0                                            \n",
      "__________________________________________________________________________________________________\n",
      "embedding_7 (Embedding)         (None, None, 300)    15000000    input_1[0][0]                    \n",
      "                                                                 input_2[0][0]                    \n",
      "                                                                 input_3[0][0]                    \n",
      "__________________________________________________________________________________________________\n",
      "lstm_2 (LSTM)                   (None, None, 200)    400800      embedding_7[2][0]                \n",
      "__________________________________________________________________________________________________\n",
      "lstm_1 (LSTM)                   (None, None, 200)    400800      embedding_7[1][0]                \n",
      "__________________________________________________________________________________________________\n",
      "lambda_1 (Lambda)               (None, None, 200)    0           lstm_2[0][0]                     \n",
      "__________________________________________________________________________________________________\n",
      "concatenate_1 (Concatenate)     (None, None, 700)    0           lstm_1[0][0]                     \n",
      "                                                                 embedding_7[0][0]                \n",
      "                                                                 lambda_1[0][0]                   \n",
      "__________________________________________________________________________________________________\n",
      "conv1d_1 (Conv1D)               (None, None, 100)    70100       concatenate_1[0][0]              \n",
      "__________________________________________________________________________________________________\n",
      "lambda_2 (Lambda)               (None, 100)          0           conv1d_1[0][0]                   \n",
      "__________________________________________________________________________________________________\n",
      "dense_13 (Dense)                (None, 1)            101         lambda_2[0][0]                   \n",
      "==================================================================================================\n",
      "Total params: 15,871,801\n",
      "Trainable params: 15,871,801\n",
      "Non-trainable params: 0\n",
      "__________________________________________________________________________________________________\n"
     ]
    }
   ],
   "source": [
    "model.summary()"
   ]
  },
  {
   "cell_type": "code",
   "execution_count": null,
   "metadata": {},
   "outputs": [
    {
     "name": "stdout",
     "output_type": "stream",
     "text": [
      "Epoch 1/5\n",
      "208896/510966 [===========>..................] - ETA: 48:11 - loss: 0.5561 - acc: 0.7104"
     ]
    }
   ],
   "source": [
    "history = model.fit([X_train, left, right], y_train['male'].values,batch_size = 256, epochs = 5)\n",
    "loss = history.history[\"loss\"][0]"
   ]
  },
  {
   "cell_type": "code",
   "execution_count": null,
   "metadata": {},
   "outputs": [],
   "source": [
    "left_test  = np.column_stack((np.array([0]*X_test.shape[0]),X_test[:,1:]))\n",
    "right_test = np.column_stack((X_test[:,:-1],np.array([0]*X_test.shape[0])))\n",
    "left_test.shape,right_test.shape"
   ]
  },
  {
   "cell_type": "code",
   "execution_count": null,
   "metadata": {},
   "outputs": [],
   "source": [
    "results = model.evaluate([X_test,left_test,right_test], y_test['male'].values,batch_size=256)\n",
    "print(\"evaluate on test set \",results)"
   ]
  },
  {
   "cell_type": "code",
   "execution_count": null,
   "metadata": {},
   "outputs": [],
   "source": [
    "print(\"evaluate on test set \",results)"
   ]
  },
  {
   "cell_type": "code",
   "execution_count": null,
   "metadata": {},
   "outputs": [],
   "source": []
  }
 ],
 "metadata": {
  "kernelspec": {
   "display_name": "Python 3",
   "language": "python",
   "name": "python3"
  },
  "language_info": {
   "codemirror_mode": {
    "name": "ipython",
    "version": 3
   },
   "file_extension": ".py",
   "mimetype": "text/x-python",
   "name": "python",
   "nbconvert_exporter": "python",
   "pygments_lexer": "ipython3",
   "version": "3.6.0"
  }
 },
 "nbformat": 4,
 "nbformat_minor": 2
}
